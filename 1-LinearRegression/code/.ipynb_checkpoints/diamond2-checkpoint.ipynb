{
 "cells": [
  {
   "cell_type": "markdown",
   "metadata": {},
   "source": [
    "# MC886 Assigment 1\n",
    "\n",
    "## Objective:\n",
    "Use linear regression model to predict the prices of diamonds given their atributes. The data set might be found on:\n",
    "https://www.kaggle.com/shivam2503/diamonds.  \n"
   ]
  },
  {
   "cell_type": "code",
   "execution_count": 1,
   "metadata": {},
   "outputs": [],
   "source": [
    "from __future__ import print_function\n",
    "import numpy as np\n",
    "import matplotlib.pyplot as plt\n",
    "import pandas as pd\n",
    "from sklearn import linear_model\n",
    "from sklearn.model_selection import train_test_split\n",
    "from sklearn.preprocessing import LabelEncoder\n",
    "from sklearn.preprocessing import OneHotEncoder"
   ]
  },
  {
   "cell_type": "code",
   "execution_count": 2,
   "metadata": {},
   "outputs": [],
   "source": [
    "data_dir = '../data/diamonds.csv'"
   ]
  },
  {
   "cell_type": "code",
   "execution_count": 3,
   "metadata": {},
   "outputs": [
    {
     "name": "stdout",
     "output_type": "stream",
     "text": [
      "<class 'pandas.core.frame.DataFrame'>\n"
     ]
    }
   ],
   "source": [
    "with open(data_dir, 'rb') as csvfile:\n",
    "    dataset = pd.read_csv(data_dir)\n",
    "    \n",
    "print(type(dataset))"
   ]
  },
  {
   "cell_type": "code",
   "execution_count": 4,
   "metadata": {},
   "outputs": [],
   "source": [
    "#carat\tcut\tcolor\tclarity\tdepth\ttable\tprice\tx\ty\tz\n",
    "# print(dataset['cut'])"
   ]
  },
  {
   "cell_type": "markdown",
   "metadata": {},
   "source": [
    "## Preprocessing the data\n",
    "\n",
    "### 1. Split data in training, validation and test\n",
    "A wise person said: \"friends don’t let friends use testing data for training\".  Set bellow the sizes of each set.\n",
    "\n",
    "**Note:**\n",
    "* **sklearn.model_selection.train_test_split(*arrays, **options)**  \n",
    "    Split arrays or matrices into random train and test subsets.  \n",
    "    See documentation:http://scikit-learn.org/stable/modules/generated/sklearn.model_selection.train_test_split.html\n",
    "\n",
    "### 2. Put the dataset into Numpy volume\n",
    "Categorical atributes are changed to integers."
   ]
  },
  {
   "cell_type": "code",
   "execution_count": 5,
   "metadata": {},
   "outputs": [
    {
     "name": "stdout",
     "output_type": "stream",
     "text": [
      "data_size:  53940\n",
      "train_size:  30000\n",
      "validation_size:  10000\n",
      "test_size:  13940\n"
     ]
    }
   ],
   "source": [
    "#1. SPLIT DATASET\n",
    "data_size = 53940        #change values here\n",
    "train_size = 30000\n",
    "validation_size = 10000\n",
    "test_size = 13940\n",
    "\n",
    "nx = 9                   #number of features of the input\n",
    "ny = 1                   #number of fetures of the output\n",
    "\n",
    "train,test_validation = train_test_split(dataset, test_size = validation_size + test_size)\n",
    "validation, test = train_test_split(test_validation, test_size = test_size)\n",
    "\n",
    "print (\"data_size: \", data_size)\n",
    "print (\"train_size: \", train.shape[0])\n",
    "print (\"validation_size: \", validation.shape[0])\n",
    "print (\"test_size: \", test.shape[0])\n",
    "\n",
    "\n",
    "#2. SAVE THE PANDA'S DATAFRAME ON NUMPY ARRAYS\n",
    "categorical_labels = ['carat', 'cut', 'color', 'clarity', 'depth', 'table', 'price', 'x', 'y', 'z']\n",
    "\n",
    "train_volume = np.empty(train.shape)\n",
    "validation_volume = np.empty(validation.shape)\n",
    "test_volume = np.empty(test.shape)\n",
    "\n",
    "le = LabelEncoder()\n",
    "\n",
    "# For each feature, copy or transforms and copy (in categorical case) to the correspondent volume\n",
    "for i in range(len(categorical_labels)):\n",
    "    if( i >= 1 and i <= 3): #if the feature is categorical\n",
    "        train_volume [:,i] = le.fit_transform(train[categorical_labels[i]])\n",
    "        validation_volume[:, i] = le.fit_transform(validation[categorical_labels[i]])\n",
    "        test_volume[:, i] = le.fit_transform(test[categorical_labels[i]])\n",
    "    else:\n",
    "        train_volume[:,i] = train[categorical_labels[i]]\n",
    "        validation_volume[:,i] = validation[categorical_labels[i]]\n",
    "        test_volume[:,i] = test[categorical_labels[i]]\n",
    "\n",
    "# Separates the input from the label organize data in (number_features, number_of_examples)\n",
    "x_train = (train_volume[:, 0:9]).T\n",
    "y_train = (train_volume[:, 9].reshape(train_size,1)).T\n",
    "x_validation = validation_volume [:, 0:9].T\n",
    "y_validation = validation_volume [:,9].reshape(ny, validation_size)\n",
    "x_test = test_volume [:,0:9].T\n",
    "y_test = test_volume [:,9].reshape(test_size,1).T\n",
    "\n",
    "# Sanity check\n",
    "assert(x_train.shape == (nx, train_size))\n",
    "assert(y_train.shape == (ny, train_size))\n",
    "assert(x_validation.shape == (nx, validation_size))\n",
    "assert(y_validation.shape == (ny, validation_size))\n",
    "assert(x_test.shape == (nx, test_size))\n",
    "assert(y_test.shape == (ny, test_size))"
   ]
  },
  {
   "cell_type": "code",
   "execution_count": 6,
   "metadata": {},
   "outputs": [],
   "source": [
    "def init_parameters(X):\n",
    "    \"\"\"\n",
    "    Receives: the input vector shape (nx, m), where nx is the number of features and\n",
    "    m the number of examples.\n",
    "    Returns:\n",
    "    W: the weight array shape ( 1, nx)\n",
    "    dW: the derivative array shape ( 1, nx)\n",
    "    b: a real number (bias)\n",
    "    db: the derivative os the bias.\n",
    "    \"\"\"\n",
    "    nx = X.shape[0]\n",
    "    W = np.random.randn(1,nx)\n",
    "    dw = np.random.randn(1,nx)\n",
    "    b = 0.\n",
    "    db = 0.\n",
    "    return W,b, dw, db"
   ]
  },
  {
   "cell_type": "code",
   "execution_count": 7,
   "metadata": {},
   "outputs": [],
   "source": [
    "def l2_cost(X, Y, Y_hat, m):\n",
    "    \"\"\"\n",
    "    Cost function defined by a variation of the l2 norm function.\n",
    "    The '2' in the denominator makes the deriative easier\n",
    "    \"\"\"\n",
    "    cost = (1/(2*m))*np.sum((Y-Y_hat)**2)\n",
    "    return cost"
   ]
  },
  {
   "cell_type": "code",
   "execution_count": 8,
   "metadata": {},
   "outputs": [],
   "source": [
    "#FORWARD PROPAGATION (WELL THIS IS NOT A NN, BUT ...)\n",
    "def forward_prop(X, w, b):\n",
    "    \"\"\"\n",
    "    X is the input vector with m training examples, shape (1,m)\n",
    "    w: is the angular coefficient\n",
    "    b: is the linear coefficient\n",
    "    \"\"\"\n",
    "    Y_hat = np.dot(w,X) + b\n",
    "    return Y_hat"
   ]
  },
  {
   "cell_type": "code",
   "execution_count": 9,
   "metadata": {},
   "outputs": [],
   "source": [
    "def backward_propagation(X,Y, Y_hat, m):\n",
    "    \"\"\"\n",
    "    Calculates the derivatives of the parameters\n",
    "    returns:\n",
    "    dw\n",
    "    db\n",
    "    \"\"\"\n",
    "    dw = (-1./m)*np.sum((Y -Y_hat)*X)\n",
    "    db = (-1./m)*np.sum((Y -Y_hat))\n",
    "    return dw, db"
   ]
  },
  {
   "cell_type": "code",
   "execution_count": 10,
   "metadata": {},
   "outputs": [],
   "source": [
    "def GD_model(X,Y, num_iterations = 100, learning_rate = 0.000000001):\n",
    "    \"\"\"\n",
    "    Given X and Y estimates the best linear function to fit the data\n",
    "    \"\"\"\n",
    "    m = X.shape[1]\n",
    "    print('m = ', m)\n",
    "    \n",
    "    w,b,dw,db = init_parameters(x_train)\n",
    "    for iteration in range(num_iterations):\n",
    "        \n",
    "        #forward propagation (we can think the activation function as linear)\n",
    "        Y_hat = forward_prop(X,w,b)\n",
    "        \n",
    "        #plot the cost function\n",
    "        cost = l2_cost(X,Y, Y_hat,m)\n",
    "        plt.plot(iteration,cost,'ro')\n",
    "    \n",
    "        #Backward propagation calculate the derivatives \n",
    "        dw, db = backward_propagation(X,Y,Y_hat, m)\n",
    "    \n",
    "        #Update parameters simultaneusly\n",
    "        temp_w = w - learning_rate*dw\n",
    "        temp_b = b - learning_rate*db\n",
    "        w = temp_w\n",
    "        b = temp_b\n",
    "    plt.show()\n",
    "    return w, b"
   ]
  },
  {
   "cell_type": "code",
   "execution_count": 11,
   "metadata": {},
   "outputs": [
    {
     "name": "stdout",
     "output_type": "stream",
     "text": [
      "m =  30000\n"
     ]
    },
    {
     "data": {
      "image/png": "[encoded data removed]",
      "text/plain": [
       "<Figure size 432x288 with 1 Axes>"
      ]
     },
     "metadata": {},
     "output_type": "display_data"
    }
   ],
   "source": [
    "a_hat, b_hat = GD_model(x_train,y_train)"
   ]
  },
  {
   "cell_type": "code",
   "execution_count": null,
   "metadata": {},
   "outputs": [],
   "source": []
  },
  {
   "cell_type": "code",
   "execution_count": null,
   "metadata": {},
   "outputs": [],
   "source": []
  }
 ],
 "metadata": {
  "kernelspec": {
   "display_name": "Python 2",
   "language": "python",
   "name": "python2"
  },
  "language_info": {
   "codemirror_mode": {
    "name": "ipython",
    "version": 2
   },
   "file_extension": ".py",
   "mimetype": "text/x-python",
   "name": "python",
   "nbconvert_exporter": "python",
   "pygments_lexer": "ipython2",
   "version": "2.7.15"
  }
 },
 "nbformat": 4,
 "nbformat_minor": 2
}
