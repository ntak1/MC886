{
 "cells": [
  {
   "cell_type": "markdown",
   "metadata": {
    "colab_type": "text",
    "id": "55SND6JDzwac"
   },
   "source": [
    "# Assigment 3: \n",
    "\n",
    "## Objective\n",
    "Discover organizational structures in a dataset with unsupervised learning techniques\n",
    "\n",
    "## Activities\n",
    "\n",
    "1.  Discover  the  number  of  groups  present  in  the  data  or  a  reliable  range  of  possible  values.   Do  some\n",
    "experiments in this regard.\n",
    "2.  Analyze the medoids of some groups (for example, 3 groups) and their closest neighbors in the groups.\n",
    "Do they make sense?  Are they talking about the same type of documents?\n",
    "3.  Think of possible ways of checking the validity/quality of your clusters.\n",
    "4.  Re-do  the  best  experiment  above  considering  the  PCA  dimensionality  reduction.   Consider  different\n",
    "energies  (variance)  to  cut  and  reduce  dimensionality.   What  are  the  conclusions  when  using  PCA  in\n",
    "this problem?\n",
    "5.  Prepare  a  4-page  (max.)  report  with  all  your  findings.  It  is  UP  TO  YOU  to  convince  the  reader  that\n",
    "you are proficient on Unsupervised Learning Techniques, and the choices it entails"
   ]
  },
  {
   "cell_type": "markdown",
   "metadata": {
    "colab_type": "text",
    "id": "fAVc__98QOa4"
   },
   "source": [
    "## imports"
   ]
  },
  {
   "cell_type": "code",
   "execution_count": 1,
   "metadata": {
    "colab": {
     "base_uri": "https://localhost:8080/",
     "height": 206
    },
    "colab_type": "code",
    "id": "RB8usz_QzID7",
    "outputId": "bad267ad-953f-434f-d077-6f49e2124121"
   },
   "outputs": [],
   "source": [
    "# import dependencies\n",
    "import pandas as pd\n",
    "import numpy as np\n",
    "from sklearn.feature_extraction.text import CountVectorizer, TfidfTransformer\n",
    "import matplotlib.pyplot as plt\n",
    "import string\n",
    "import re\n",
    "from sklearn.feature_extraction import text\n",
    "from sklearn.cluster import KMeans\n",
    "from sklearn import metrics\n",
    "import time\n",
    "\n",
    "import os\n"
   ]
  },
  {
   "cell_type": "code",
   "execution_count": 2,
   "metadata": {
    "colab": {
     "base_uri": "https://localhost:8080/",
     "height": 187
    },
    "colab_type": "code",
    "id": "mVhskRdP1ilV",
    "outputId": "f3950897-ef1d-48f2-e6b6-6b2fa6eb1f01"
   },
   "outputs": [
    {
     "name": "stdout",
     "output_type": "stream",
     "text": [
      "Files on directory: \n",
      "Archive:  health-dataset.zip\n",
      "   creating: health-dataset/\n",
      "  inflating: health-dataset/bags.csv  \n",
      "  inflating: health-dataset/word2vec.csv  \n",
      "  inflating: health-dataset/health.txt  \n",
      "2018-dongt\t       README\t  examples\t      pymei.tar.gz\n",
      "2018-dongt.tar.gz      anaconda2  health-dataset      src\n",
      "Assigment3.ipynb       anaconda3  health-dataset.zip  tutorials\n",
      "Nvidia_Cloud_EULA.pdf  certs\t  pymei\t\t      v\n"
     ]
    }
   ],
   "source": [
    "\n",
    "\n",
    "print(\"Files on directory: \")\n",
    "!unzip health-dataset.zip\n",
    "!ls"
   ]
  },
  {
   "cell_type": "code",
   "execution_count": 3,
   "metadata": {
    "colab": {
     "base_uri": "https://localhost:8080/",
     "height": 55
    },
    "colab_type": "code",
    "id": "Ssk42S45094x",
    "outputId": "381045b6-15ec-45c7-af5a-1ca87fad8274"
   },
   "outputs": [
    {
     "name": "stdout",
     "output_type": "stream",
     "text": [
      "complete_tweet.shape =  (13229, 3)\n"
     ]
    }
   ],
   "source": [
    "#load the health.txt\n",
    "base_dir = 'health-dataset/'\n",
    "names = ['id', 'publish_date', 'headline_text']\n",
    "with open (base_dir + 'health.txt', 'rb') as csvfile:\n",
    "  complete_tweet = pd.read_csv(base_dir + 'health.txt',\n",
    "                               skiprows = 1,\n",
    "                               header = None,\n",
    "                               names = names,\n",
    "                              delimiter = '|')\n",
    "copy_tweet = complete_tweet.copy(deep=False)\n",
    "print(\"complete_tweet.shape = \", complete_tweet.shape)\n"
   ]
  },
  {
   "cell_type": "markdown",
   "metadata": {
    "colab_type": "text",
    "id": "J4uKJPqXpGOY"
   },
   "source": [
    "## Process the text input\n",
    "\n",
    "1. Remove punctuation (we will leave the # for now and see what happens)\n",
    "2. Removing stop words — frequent words such as ”the”, ”is”, etc. that do not have specific semantic\n",
    "3. Remove @ (they mean mention on Twitter)\n",
    "\n"
   ]
  },
  {
   "cell_type": "code",
   "execution_count": 4,
   "metadata": {
    "colab": {
     "base_uri": "https://localhost:8080/",
     "height": 2011
    },
    "colab_type": "code",
    "id": "pSptZsXYxS8F",
    "outputId": "61a111db-63de-4d25-a781-38f42e23b87b"
   },
   "outputs": [
    {
     "name": "stdout",
     "output_type": "stream",
     "text": [
      "blacklist =  !\"$%&'()*+,-./:;<=>?[\\]^_`{|}~\n"
     ]
    },
    {
     "data": {
      "text/html": [
       "<div>\n",
       "<style scoped>\n",
       "    .dataframe tbody tr th:only-of-type {\n",
       "        vertical-align: middle;\n",
       "    }\n",
       "\n",
       "    .dataframe tbody tr th {\n",
       "        vertical-align: top;\n",
       "    }\n",
       "\n",
       "    .dataframe thead th {\n",
       "        text-align: right;\n",
       "    }\n",
       "</style>\n",
       "<table border=\"1\" class=\"dataframe\">\n",
       "  <thead>\n",
       "    <tr style=\"text-align: right;\">\n",
       "      <th></th>\n",
       "      <th>id</th>\n",
       "      <th>publish_date</th>\n",
       "      <th>headline_text</th>\n",
       "    </tr>\n",
       "  </thead>\n",
       "  <tbody>\n",
       "    <tr>\n",
       "      <th>0</th>\n",
       "      <td>576880531301801984</td>\n",
       "      <td>Sat Mar 14 23:00:11 +0000 2015</td>\n",
       "      <td>abundance online info turn ehypochondriacs wor...</td>\n",
       "    </tr>\n",
       "    <tr>\n",
       "      <th>1</th>\n",
       "      <td>576820122666471424</td>\n",
       "      <td>Sat Mar 14 19:00:08 +0000 2015</td>\n",
       "      <td>plantbased diet incorporates fish key preventi...</td>\n",
       "    </tr>\n",
       "    <tr>\n",
       "      <th>2</th>\n",
       "      <td>576744652717461504</td>\n",
       "      <td>Sat Mar 14 14:00:15 +0000 2015</td>\n",
       "      <td>doesnt damage hearing sports bar nightclub tha...</td>\n",
       "    </tr>\n",
       "    <tr>\n",
       "      <th>3</th>\n",
       "      <td>576736754436304896</td>\n",
       "      <td>Sat Mar 14 13:28:52 +0000 2015</td>\n",
       "      <td>rt forever young discover island’s secrets lon...</td>\n",
       "    </tr>\n",
       "    <tr>\n",
       "      <th>4</th>\n",
       "      <td>576736614766010368</td>\n",
       "      <td>Sat Mar 14 13:28:18 +0000 2015</td>\n",
       "      <td>rt posttraumatic stress disorder genes simple ...</td>\n",
       "    </tr>\n",
       "    <tr>\n",
       "      <th>5</th>\n",
       "      <td>576548368740052992</td>\n",
       "      <td>Sat Mar 14 01:00:17 +0000 2015</td>\n",
       "      <td>maysoon zayid touring standup comic cerebral p...</td>\n",
       "    </tr>\n",
       "    <tr>\n",
       "      <th>6</th>\n",
       "      <td>576518190286536704</td>\n",
       "      <td>Fri Mar 13 23:00:22 +0000 2015</td>\n",
       "      <td>women wipe alzheimers</td>\n",
       "    </tr>\n",
       "    <tr>\n",
       "      <th>7</th>\n",
       "      <td>576494177971732480</td>\n",
       "      <td>Fri Mar 13 21:24:57 +0000 2015</td>\n",
       "      <td>rt women defeat #alzheimers says #wipeoutalz c...</td>\n",
       "    </tr>\n",
       "    <tr>\n",
       "      <th>8</th>\n",
       "      <td>576472874946433024</td>\n",
       "      <td>Fri Mar 13 20:00:18 +0000 2015</td>\n",
       "      <td>time raise legal smoking age</td>\n",
       "    </tr>\n",
       "    <tr>\n",
       "      <th>9</th>\n",
       "      <td>576464606551490560</td>\n",
       "      <td>Fri Mar 13 19:27:27 +0000 2015</td>\n",
       "      <td>cdc misuse garments led release bioterror bact...</td>\n",
       "    </tr>\n",
       "    <tr>\n",
       "      <th>10</th>\n",
       "      <td>576442698963415041</td>\n",
       "      <td>Fri Mar 13 18:00:23 +0000 2015</td>\n",
       "      <td>losing brain tumor gaining perspective cnns je...</td>\n",
       "    </tr>\n",
       "    <tr>\n",
       "      <th>11</th>\n",
       "      <td>576412516927954945</td>\n",
       "      <td>Fri Mar 13 16:00:27 +0000 2015</td>\n",
       "      <td>germs microbe genes slipped human dna study says</td>\n",
       "    </tr>\n",
       "    <tr>\n",
       "      <th>12</th>\n",
       "      <td>576406186955780097</td>\n",
       "      <td>Fri Mar 13 15:35:18 +0000 2015</td>\n",
       "      <td>rt plantbased diet incorporates fish key preve...</td>\n",
       "    </tr>\n",
       "    <tr>\n",
       "      <th>13</th>\n",
       "      <td>576382337170051072</td>\n",
       "      <td>Fri Mar 13 14:00:32 +0000 2015</td>\n",
       "      <td>#fitnation finding right life balance family w...</td>\n",
       "    </tr>\n",
       "    <tr>\n",
       "      <th>14</th>\n",
       "      <td>576365075541409792</td>\n",
       "      <td>Fri Mar 13 12:51:57 +0000 2015</td>\n",
       "      <td>robert downey jr presents child iron man robot...</td>\n",
       "    </tr>\n",
       "    <tr>\n",
       "      <th>15</th>\n",
       "      <td>576361069280681985</td>\n",
       "      <td>Fri Mar 13 12:36:01 +0000 2015</td>\n",
       "      <td>rt tim cook tried steve jobs liver</td>\n",
       "    </tr>\n",
       "    <tr>\n",
       "      <th>16</th>\n",
       "      <td>576353776036024320</td>\n",
       "      <td>Fri Mar 13 12:07:02 +0000 2015</td>\n",
       "      <td>rt having dinner lot #sugar thank think</td>\n",
       "    </tr>\n",
       "    <tr>\n",
       "      <th>17</th>\n",
       "      <td>576353658184450048</td>\n",
       "      <td>Fri Mar 13 12:06:34 +0000 2015</td>\n",
       "      <td>rt ebola patient headed national institutes he...</td>\n",
       "    </tr>\n",
       "    <tr>\n",
       "      <th>18</th>\n",
       "      <td>576345455149318144</td>\n",
       "      <td>Fri Mar 13 11:33:59 +0000 2015</td>\n",
       "      <td>rt eat healthy amazing superfoods</td>\n",
       "    </tr>\n",
       "    <tr>\n",
       "      <th>19</th>\n",
       "      <td>576345292443951104</td>\n",
       "      <td>Fri Mar 13 11:33:20 +0000 2015</td>\n",
       "      <td>rt computer diagnose cancer watch</td>\n",
       "    </tr>\n",
       "    <tr>\n",
       "      <th>20</th>\n",
       "      <td>576342990446288896</td>\n",
       "      <td>Fri Mar 13 11:24:11 +0000 2015</td>\n",
       "      <td>rt presented child iron man robotic arm</td>\n",
       "    </tr>\n",
       "    <tr>\n",
       "      <th>21</th>\n",
       "      <td>576266964114374656</td>\n",
       "      <td>Fri Mar 13 06:22:05 +0000 2015</td>\n",
       "      <td>rt hidden dangers ‘skinny fat’</td>\n",
       "    </tr>\n",
       "    <tr>\n",
       "      <th>22</th>\n",
       "      <td>576201036483833856</td>\n",
       "      <td>Fri Mar 13 02:00:07 +0000 2015</td>\n",
       "      <td>kids constant ear infections save trip er w</td>\n",
       "    </tr>\n",
       "    <tr>\n",
       "      <th>23</th>\n",
       "      <td>576170879509352449</td>\n",
       "      <td>Fri Mar 13 00:00:17 +0000 2015</td>\n",
       "      <td>ehypochondriac searching symptoms online dange...</td>\n",
       "    </tr>\n",
       "    <tr>\n",
       "      <th>24</th>\n",
       "      <td>576140688326193152</td>\n",
       "      <td>Thu Mar 12 22:00:18 +0000 2015</td>\n",
       "      <td>training triathlon yoga poses help</td>\n",
       "    </tr>\n",
       "    <tr>\n",
       "      <th>25</th>\n",
       "      <td>576125571828076544</td>\n",
       "      <td>Thu Mar 12 21:00:14 +0000 2015</td>\n",
       "      <td>battling eliminate elephantiasis parasite cont...</td>\n",
       "    </tr>\n",
       "    <tr>\n",
       "      <th>26</th>\n",
       "      <td>576110503887425536</td>\n",
       "      <td>Thu Mar 12 20:00:22 +0000 2015</td>\n",
       "      <td>simple blood test someday tell youre genetical...</td>\n",
       "    </tr>\n",
       "    <tr>\n",
       "      <th>27</th>\n",
       "      <td>576105132053667840</td>\n",
       "      <td>Thu Mar 12 19:39:01 +0000 2015</td>\n",
       "      <td>rt explore secrets ikaria #thewonderlist sun p...</td>\n",
       "    </tr>\n",
       "    <tr>\n",
       "      <th>28</th>\n",
       "      <td>576095417663819776</td>\n",
       "      <td>Thu Mar 12 19:00:25 +0000 2015</td>\n",
       "      <td>ear trouble save trip er startup created iphon...</td>\n",
       "    </tr>\n",
       "    <tr>\n",
       "      <th>29</th>\n",
       "      <td>576050122825420800</td>\n",
       "      <td>Thu Mar 12 16:00:26 +0000 2015</td>\n",
       "      <td>mustard better ketchup explains sugar hiding food</td>\n",
       "    </tr>\n",
       "    <tr>\n",
       "      <th>...</th>\n",
       "      <td>...</td>\n",
       "      <td>...</td>\n",
       "      <td>...</td>\n",
       "    </tr>\n",
       "    <tr>\n",
       "      <th>13199</th>\n",
       "      <td>385793330115657728</td>\n",
       "      <td>Thu Oct 03 15:47:52 +0000 2013</td>\n",
       "      <td>tobaccofree plan irish republic</td>\n",
       "    </tr>\n",
       "    <tr>\n",
       "      <th>13200</th>\n",
       "      <td>385733032860078080</td>\n",
       "      <td>Thu Oct 03 11:48:16 +0000 2013</td>\n",
       "      <td>video disabled students need help</td>\n",
       "    </tr>\n",
       "    <tr>\n",
       "      <th>13201</th>\n",
       "      <td>385703809453809665</td>\n",
       "      <td>Thu Oct 03 09:52:08 +0000 2013</td>\n",
       "      <td>nhs staff hopeful fix</td>\n",
       "    </tr>\n",
       "    <tr>\n",
       "      <th>13202</th>\n",
       "      <td>385562164972384256</td>\n",
       "      <td>Thu Oct 03 00:29:18 +0000 2013</td>\n",
       "      <td>gp services face cuts catastrophe</td>\n",
       "    </tr>\n",
       "    <tr>\n",
       "      <th>13203</th>\n",
       "      <td>385417913873604608</td>\n",
       "      <td>Wed Oct 02 14:56:06 +0000 2013</td>\n",
       "      <td>baby brain research unit opens</td>\n",
       "    </tr>\n",
       "    <tr>\n",
       "      <th>13204</th>\n",
       "      <td>385372431767973890</td>\n",
       "      <td>Wed Oct 02 11:55:22 +0000 2013</td>\n",
       "      <td>video pm tells labour lecture nhs</td>\n",
       "    </tr>\n",
       "    <tr>\n",
       "      <th>13205</th>\n",
       "      <td>385296415959703552</td>\n",
       "      <td>Wed Oct 02 06:53:18 +0000 2013</td>\n",
       "      <td>video exercise good pills</td>\n",
       "    </tr>\n",
       "    <tr>\n",
       "      <th>13206</th>\n",
       "      <td>385296415259254784</td>\n",
       "      <td>Wed Oct 02 06:53:18 +0000 2013</td>\n",
       "      <td>health board fails fix problem</td>\n",
       "    </tr>\n",
       "    <tr>\n",
       "      <th>13207</th>\n",
       "      <td>385163942877605888</td>\n",
       "      <td>Tue Oct 01 22:06:54 +0000 2013</td>\n",
       "      <td>major problem health board</td>\n",
       "    </tr>\n",
       "    <tr>\n",
       "      <th>13208</th>\n",
       "      <td>385064252634963968</td>\n",
       "      <td>Tue Oct 01 15:30:46 +0000 2013</td>\n",
       "      <td>changes help nhs balance books</td>\n",
       "    </tr>\n",
       "    <tr>\n",
       "      <th>13209</th>\n",
       "      <td>385064251770945536</td>\n",
       "      <td>Tue Oct 01 15:30:46 +0000 2013</td>\n",
       "      <td>urgent action needed child tb</td>\n",
       "    </tr>\n",
       "    <tr>\n",
       "      <th>13210</th>\n",
       "      <td>385052141984808961</td>\n",
       "      <td>Tue Oct 01 14:42:39 +0000 2013</td>\n",
       "      <td>video campbells tory alcohol pricing</td>\n",
       "    </tr>\n",
       "    <tr>\n",
       "      <th>13211</th>\n",
       "      <td>385028632072040449</td>\n",
       "      <td>Tue Oct 01 13:09:14 +0000 2013</td>\n",
       "      <td>legionella compost brands</td>\n",
       "    </tr>\n",
       "    <tr>\n",
       "      <th>13212</th>\n",
       "      <td>385005693620592640</td>\n",
       "      <td>Tue Oct 01 11:38:05 +0000 2013</td>\n",
       "      <td>safe drink cocktails raw egg</td>\n",
       "    </tr>\n",
       "    <tr>\n",
       "      <th>13213</th>\n",
       "      <td>385005693016604673</td>\n",
       "      <td>Tue Oct 01 11:38:04 +0000 2013</td>\n",
       "      <td>sweden best place old</td>\n",
       "    </tr>\n",
       "    <tr>\n",
       "      <th>13214</th>\n",
       "      <td>385005692437803008</td>\n",
       "      <td>Tue Oct 01 11:38:04 +0000 2013</td>\n",
       "      <td>big rise number centenarians</td>\n",
       "    </tr>\n",
       "    <tr>\n",
       "      <th>13215</th>\n",
       "      <td>384993542700929024</td>\n",
       "      <td>Tue Oct 01 10:49:48 +0000 2013</td>\n",
       "      <td>pupils breakfasting energy drinks</td>\n",
       "    </tr>\n",
       "    <tr>\n",
       "      <th>13216</th>\n",
       "      <td>384970896928018432</td>\n",
       "      <td>Tue Oct 01 09:19:48 +0000 2013</td>\n",
       "      <td>video tooth eye restored sight</td>\n",
       "    </tr>\n",
       "    <tr>\n",
       "      <th>13217</th>\n",
       "      <td>384970896160477184</td>\n",
       "      <td>Tue Oct 01 09:19:48 +0000 2013</td>\n",
       "      <td>indecent images nurse struck</td>\n",
       "    </tr>\n",
       "    <tr>\n",
       "      <th>13218</th>\n",
       "      <td>384948083047399425</td>\n",
       "      <td>Tue Oct 01 07:49:09 +0000 2013</td>\n",
       "      <td>criticism health debate noshow</td>\n",
       "    </tr>\n",
       "    <tr>\n",
       "      <th>13219</th>\n",
       "      <td>384871928155996160</td>\n",
       "      <td>Tue Oct 01 02:46:32 +0000 2013</td>\n",
       "      <td>pm promises flexible gp hours</td>\n",
       "    </tr>\n",
       "    <tr>\n",
       "      <th>13220</th>\n",
       "      <td>384840604284248064</td>\n",
       "      <td>Tue Oct 01 00:42:04 +0000 2013</td>\n",
       "      <td>midlife stress precedes dementia</td>\n",
       "    </tr>\n",
       "    <tr>\n",
       "      <th>13221</th>\n",
       "      <td>384840603596374016</td>\n",
       "      <td>Tue Oct 01 00:42:04 +0000 2013</td>\n",
       "      <td>breast cancer research gap warning</td>\n",
       "    </tr>\n",
       "    <tr>\n",
       "      <th>13222</th>\n",
       "      <td>384840603055292416</td>\n",
       "      <td>Tue Oct 01 00:42:04 +0000 2013</td>\n",
       "      <td>global war drugs failing report</td>\n",
       "    </tr>\n",
       "    <tr>\n",
       "      <th>13223</th>\n",
       "      <td>384829988689551360</td>\n",
       "      <td>Mon Sep 30 23:59:53 +0000 2013</td>\n",
       "      <td>video thought death sentence</td>\n",
       "    </tr>\n",
       "    <tr>\n",
       "      <th>13224</th>\n",
       "      <td>384766023120871424</td>\n",
       "      <td>Mon Sep 30 19:45:43 +0000 2013</td>\n",
       "      <td>baby born ovaries reawakened</td>\n",
       "    </tr>\n",
       "    <tr>\n",
       "      <th>13225</th>\n",
       "      <td>384700230920175617</td>\n",
       "      <td>Mon Sep 30 15:24:17 +0000 2013</td>\n",
       "      <td>identical triplets born odds</td>\n",
       "    </tr>\n",
       "    <tr>\n",
       "      <th>13226</th>\n",
       "      <td>384678543088562178</td>\n",
       "      <td>Mon Sep 30 13:58:06 +0000 2013</td>\n",
       "      <td>hospital failed make improvements</td>\n",
       "    </tr>\n",
       "    <tr>\n",
       "      <th>13227</th>\n",
       "      <td>384678542455222273</td>\n",
       "      <td>Mon Sep 30 13:58:06 +0000 2013</td>\n",
       "      <td>new patient targets pledge nhs</td>\n",
       "    </tr>\n",
       "    <tr>\n",
       "      <th>13228</th>\n",
       "      <td>384569546108964864</td>\n",
       "      <td>Mon Sep 30 06:44:59 +0000 2013</td>\n",
       "      <td>c diff manslaughter inquiry</td>\n",
       "    </tr>\n",
       "  </tbody>\n",
       "</table>\n",
       "<p>13229 rows × 3 columns</p>\n",
       "</div>"
      ],
      "text/plain": [
       "                       id                    publish_date  \\\n",
       "0      576880531301801984  Sat Mar 14 23:00:11 +0000 2015   \n",
       "1      576820122666471424  Sat Mar 14 19:00:08 +0000 2015   \n",
       "2      576744652717461504  Sat Mar 14 14:00:15 +0000 2015   \n",
       "3      576736754436304896  Sat Mar 14 13:28:52 +0000 2015   \n",
       "4      576736614766010368  Sat Mar 14 13:28:18 +0000 2015   \n",
       "5      576548368740052992  Sat Mar 14 01:00:17 +0000 2015   \n",
       "6      576518190286536704  Fri Mar 13 23:00:22 +0000 2015   \n",
       "7      576494177971732480  Fri Mar 13 21:24:57 +0000 2015   \n",
       "8      576472874946433024  Fri Mar 13 20:00:18 +0000 2015   \n",
       "9      576464606551490560  Fri Mar 13 19:27:27 +0000 2015   \n",
       "10     576442698963415041  Fri Mar 13 18:00:23 +0000 2015   \n",
       "11     576412516927954945  Fri Mar 13 16:00:27 +0000 2015   \n",
       "12     576406186955780097  Fri Mar 13 15:35:18 +0000 2015   \n",
       "13     576382337170051072  Fri Mar 13 14:00:32 +0000 2015   \n",
       "14     576365075541409792  Fri Mar 13 12:51:57 +0000 2015   \n",
       "15     576361069280681985  Fri Mar 13 12:36:01 +0000 2015   \n",
       "16     576353776036024320  Fri Mar 13 12:07:02 +0000 2015   \n",
       "17     576353658184450048  Fri Mar 13 12:06:34 +0000 2015   \n",
       "18     576345455149318144  Fri Mar 13 11:33:59 +0000 2015   \n",
       "19     576345292443951104  Fri Mar 13 11:33:20 +0000 2015   \n",
       "20     576342990446288896  Fri Mar 13 11:24:11 +0000 2015   \n",
       "21     576266964114374656  Fri Mar 13 06:22:05 +0000 2015   \n",
       "22     576201036483833856  Fri Mar 13 02:00:07 +0000 2015   \n",
       "23     576170879509352449  Fri Mar 13 00:00:17 +0000 2015   \n",
       "24     576140688326193152  Thu Mar 12 22:00:18 +0000 2015   \n",
       "25     576125571828076544  Thu Mar 12 21:00:14 +0000 2015   \n",
       "26     576110503887425536  Thu Mar 12 20:00:22 +0000 2015   \n",
       "27     576105132053667840  Thu Mar 12 19:39:01 +0000 2015   \n",
       "28     576095417663819776  Thu Mar 12 19:00:25 +0000 2015   \n",
       "29     576050122825420800  Thu Mar 12 16:00:26 +0000 2015   \n",
       "...                   ...                             ...   \n",
       "13199  385793330115657728  Thu Oct 03 15:47:52 +0000 2013   \n",
       "13200  385733032860078080  Thu Oct 03 11:48:16 +0000 2013   \n",
       "13201  385703809453809665  Thu Oct 03 09:52:08 +0000 2013   \n",
       "13202  385562164972384256  Thu Oct 03 00:29:18 +0000 2013   \n",
       "13203  385417913873604608  Wed Oct 02 14:56:06 +0000 2013   \n",
       "13204  385372431767973890  Wed Oct 02 11:55:22 +0000 2013   \n",
       "13205  385296415959703552  Wed Oct 02 06:53:18 +0000 2013   \n",
       "13206  385296415259254784  Wed Oct 02 06:53:18 +0000 2013   \n",
       "13207  385163942877605888  Tue Oct 01 22:06:54 +0000 2013   \n",
       "13208  385064252634963968  Tue Oct 01 15:30:46 +0000 2013   \n",
       "13209  385064251770945536  Tue Oct 01 15:30:46 +0000 2013   \n",
       "13210  385052141984808961  Tue Oct 01 14:42:39 +0000 2013   \n",
       "13211  385028632072040449  Tue Oct 01 13:09:14 +0000 2013   \n",
       "13212  385005693620592640  Tue Oct 01 11:38:05 +0000 2013   \n",
       "13213  385005693016604673  Tue Oct 01 11:38:04 +0000 2013   \n",
       "13214  385005692437803008  Tue Oct 01 11:38:04 +0000 2013   \n",
       "13215  384993542700929024  Tue Oct 01 10:49:48 +0000 2013   \n",
       "13216  384970896928018432  Tue Oct 01 09:19:48 +0000 2013   \n",
       "13217  384970896160477184  Tue Oct 01 09:19:48 +0000 2013   \n",
       "13218  384948083047399425  Tue Oct 01 07:49:09 +0000 2013   \n",
       "13219  384871928155996160  Tue Oct 01 02:46:32 +0000 2013   \n",
       "13220  384840604284248064  Tue Oct 01 00:42:04 +0000 2013   \n",
       "13221  384840603596374016  Tue Oct 01 00:42:04 +0000 2013   \n",
       "13222  384840603055292416  Tue Oct 01 00:42:04 +0000 2013   \n",
       "13223  384829988689551360  Mon Sep 30 23:59:53 +0000 2013   \n",
       "13224  384766023120871424  Mon Sep 30 19:45:43 +0000 2013   \n",
       "13225  384700230920175617  Mon Sep 30 15:24:17 +0000 2013   \n",
       "13226  384678543088562178  Mon Sep 30 13:58:06 +0000 2013   \n",
       "13227  384678542455222273  Mon Sep 30 13:58:06 +0000 2013   \n",
       "13228  384569546108964864  Mon Sep 30 06:44:59 +0000 2013   \n",
       "\n",
       "                                           headline_text  \n",
       "0      abundance online info turn ehypochondriacs wor...  \n",
       "1      plantbased diet incorporates fish key preventi...  \n",
       "2      doesnt damage hearing sports bar nightclub tha...  \n",
       "3      rt forever young discover island’s secrets lon...  \n",
       "4      rt posttraumatic stress disorder genes simple ...  \n",
       "5      maysoon zayid touring standup comic cerebral p...  \n",
       "6                                  women wipe alzheimers  \n",
       "7      rt women defeat #alzheimers says #wipeoutalz c...  \n",
       "8                           time raise legal smoking age  \n",
       "9      cdc misuse garments led release bioterror bact...  \n",
       "10     losing brain tumor gaining perspective cnns je...  \n",
       "11      germs microbe genes slipped human dna study says  \n",
       "12     rt plantbased diet incorporates fish key preve...  \n",
       "13     #fitnation finding right life balance family w...  \n",
       "14     robert downey jr presents child iron man robot...  \n",
       "15                    rt tim cook tried steve jobs liver  \n",
       "16               rt having dinner lot #sugar thank think  \n",
       "17     rt ebola patient headed national institutes he...  \n",
       "18                     rt eat healthy amazing superfoods  \n",
       "19                     rt computer diagnose cancer watch  \n",
       "20               rt presented child iron man robotic arm  \n",
       "21                        rt hidden dangers ‘skinny fat’  \n",
       "22           kids constant ear infections save trip er w  \n",
       "23     ehypochondriac searching symptoms online dange...  \n",
       "24                    training triathlon yoga poses help  \n",
       "25     battling eliminate elephantiasis parasite cont...  \n",
       "26     simple blood test someday tell youre genetical...  \n",
       "27     rt explore secrets ikaria #thewonderlist sun p...  \n",
       "28     ear trouble save trip er startup created iphon...  \n",
       "29     mustard better ketchup explains sugar hiding food  \n",
       "...                                                  ...  \n",
       "13199                    tobaccofree plan irish republic  \n",
       "13200                  video disabled students need help  \n",
       "13201                              nhs staff hopeful fix  \n",
       "13202                  gp services face cuts catastrophe  \n",
       "13203                     baby brain research unit opens  \n",
       "13204                  video pm tells labour lecture nhs  \n",
       "13205                          video exercise good pills  \n",
       "13206                     health board fails fix problem  \n",
       "13207                         major problem health board  \n",
       "13208                     changes help nhs balance books  \n",
       "13209                      urgent action needed child tb  \n",
       "13210               video campbells tory alcohol pricing  \n",
       "13211                          legionella compost brands  \n",
       "13212                       safe drink cocktails raw egg  \n",
       "13213                              sweden best place old  \n",
       "13214                       big rise number centenarians  \n",
       "13215                  pupils breakfasting energy drinks  \n",
       "13216                     video tooth eye restored sight  \n",
       "13217                       indecent images nurse struck  \n",
       "13218                     criticism health debate noshow  \n",
       "13219                      pm promises flexible gp hours  \n",
       "13220                   midlife stress precedes dementia  \n",
       "13221                 breast cancer research gap warning  \n",
       "13222                    global war drugs failing report  \n",
       "13223                       video thought death sentence  \n",
       "13224                       baby born ovaries reawakened  \n",
       "13225                       identical triplets born odds  \n",
       "13226                  hospital failed make improvements  \n",
       "13227                     new patient targets pledge nhs  \n",
       "13228                        c diff manslaughter inquiry  \n",
       "\n",
       "[13229 rows x 3 columns]"
      ]
     },
     "execution_count": 4,
     "metadata": {},
     "output_type": "execute_result"
    }
   ],
   "source": [
    "def clean_data(pandas_data, column_name):\n",
    "  #remove punctuation exect for # and @, they have meanings on Twitter\n",
    "  blacklist = string.punctuation\n",
    "  blacklist = blacklist.replace(\"#\", \"\")\n",
    "  blacklist = blacklist.replace(\"@\", \"\")\n",
    "  print('blacklist = ', blacklist)\n",
    "  \n",
    "  #remove punctuation\n",
    "  pandas_data[column_name] = pandas_data[column_name].str.replace('[{}]'.format(blacklist), '')\n",
    "  \n",
    "  #remove digits\n",
    "  pandas_data[column_name] = pandas_data[column_name].str.replace('\\d+', '')\n",
    "  \n",
    "  #remove the references started with @\n",
    "  pandas_data[column_name] = pandas_data[column_name].str.replace(r'@[A-Za-z0-9]+', '')\n",
    "  \n",
    "  #all to lowercase\n",
    "  pandas_data[column_name] = [header.lower() for header in pandas_data[column_name]]\n",
    "  \n",
    "  #remove stop words\n",
    "  stop = text.ENGLISH_STOP_WORDS\n",
    "  complete_tweet['headline_text'] = complete_tweet['headline_text'].apply(lambda x: ' '.join([word for word in x.split() if word not in (stop)]))\n",
    "\n",
    "    \n",
    "  return pandas_data\n",
    "\n",
    "complete_tweet = clean_data(complete_tweet,'headline_text')\n",
    "complete_tweet\n",
    "  "
   ]
  },
  {
   "cell_type": "markdown",
   "metadata": {
    "colab_type": "text",
    "id": "ypQQlpLnaK5D"
   },
   "source": [
    "## Create a bag of words\n",
    "\n",
    "**text_counter:**  counts the frequency of each word.   Using [CountVectorizer](http://scikit-learn.org/stable/modules/generated/sklearn.feature_extraction.text.CountVectorizer.html)  \n",
    "**dictionary**  : a pandas'  dataframe, with the name of the word (String) and the frequency of the worrd on the entire document.  \n",
    "**processed_tfidf:** normalize the matriz penalizing the words that appears too much in the document. Using [TfidfTransformer](http://scikit-learn.org/stable/modules/generated/sklearn.feature_extraction.text.TfidfTransformer.html#sklearn.feature_extraction.text.TfidfTransformer)."
   ]
  },
  {
   "cell_type": "code",
   "execution_count": 5,
   "metadata": {
    "colab": {
     "base_uri": "https://localhost:8080/",
     "height": 414
    },
    "colab_type": "code",
    "id": "HcLorhR0iev8",
    "outputId": "d75a78a4-78b0-4a8d-d258-6c864ec27c23"
   },
   "outputs": [
    {
     "data": {
      "image/png": "[encoded data removed]",
      "text/plain": [
       "<Figure size 432x288 with 1 Axes>"
      ]
     },
     "metadata": {},
     "output_type": "display_data"
    },
    {
     "name": "stdout",
     "output_type": "stream",
     "text": [
      "(13229, 11400)\n"
     ]
    },
    {
     "data": {
      "text/plain": [
       "{'norm': 'l2', 'smooth_idf': True, 'sublinear_tf': False, 'use_idf': True}"
      ]
     },
     "execution_count": 5,
     "metadata": {},
     "output_type": "execute_result"
    }
   ],
   "source": [
    "vectorizer = CountVectorizer(input = 'content', lowercase = True, analyzer = 'word',\n",
    "                             token_pattern=r'\\b[^\\d\\W]+\\b')\n",
    "text_counter = vectorizer.fit_transform(complete_tweet['headline_text'])\n",
    "\n",
    "frequency = np.sum(text_counter.toarray(), axis = 0)\n",
    "frequency = np.asarray(frequency, dtype = 'float32')\n",
    "number_words = frequency.shape[0]\n",
    "frequency = np.squeeze(frequency.reshape(number_words, 1))\n",
    "\n",
    "feature_names = vectorizer.get_feature_names()\n",
    "feature_names = np.asarray(feature_names)\n",
    "feature_names = feature_names.reshape(number_words, 1)\n",
    "\n",
    "\n",
    "dictionary = {'name': np.squeeze(feature_names), 'frequency': np.squeeze(frequency)}\n",
    "dictionary = pd.DataFrame(data=dictionary)\n",
    "dictionary = dictionary.sort_values('frequency',ascending = False)\n",
    "\n",
    "tfidf_transformer = TfidfTransformer()\n",
    "processed_tfidf = tfidf_transformer.fit_transform(text_counter)\n",
    "\n",
    "\n",
    "#test\n",
    "plt.title('Most Frequent Words')\n",
    "plt.xlabel('Palavra')\n",
    "plt.ylabel('Frequência')\n",
    "plt.bar(np.asarray(dictionary['name'])[:10], np.asarray(dictionary['frequency'])[:10])\n",
    "plt.show()\n",
    "\n",
    "print(processed_tfidf.shape)\n",
    "parameters = tfidf_transformer.get_params(deep=True)\n",
    "parameters\n"
   ]
  },
  {
   "cell_type": "markdown",
   "metadata": {
    "colab_type": "text",
    "id": "WoBR3QMz7Bx4"
   },
   "source": [
    "##  Determining the number of centroids\n",
    "Using K means\n",
    "K means is very sensitive to the initialization,  in order to find the best  K with minimizing this effect, we will set the atribute  **n_init**  to be 10.  As defined in the documentation:  \n",
    "**n_init** Number of time the k-means algorithm will be run with different centroid seeds. The final results will be the best output of n_init consecutive runs in terms of inertia.\"  \n",
    "To make the experiments consistent, we will set a fixed random state, by choosing a fixed value to  **random_state**. As defined in the documentation:  \n",
    "Determines random number generation for centroid initialization. Use an int to make the randomness deterministic.  \n",
    "[See Details].(http://scikit-learn.org/stable/modules/generated/sklearn.cluster.KMeans.html)\n",
    "\n",
    "In the section bellow we will run the k-means algorithm to find the \"elbow\" that will give us the best k. We will take some metrics as well, the main is the silhouette coefficient, that measues how well each element lies within it's cluster."
   ]
  },
  {
   "cell_type": "code",
   "execution_count": 6,
   "metadata": {
    "colab": {},
    "colab_type": "code",
    "id": "X2-xpDP3qeYq"
   },
   "outputs": [],
   "source": [
    "def perform_kmeans(processed_tfidf, range_kmeans):\n",
    "  sum_of_squares = []\n",
    "  silhouettes = []\n",
    "\n",
    "  tic  = time.time()\n",
    "  j = 0\n",
    "  for i in range(range_kmeans[0],range_kmeans[1],range_kmeans[2]):\n",
    "    km = KMeans(n_clusters= i,n_init = 10, random_state = 42)\n",
    "    km.fit(processed_tfidf)\n",
    "    sum_of_squares.append(km.inertia_ )\n",
    "    silhouettes.append(metrics.silhouette_score(processed_tfidf, km.labels_, sample_size=1000))\n",
    "    j+=1\n",
    "    print('\\rIteration', j , end = '')\n",
    "  toc = time.time()\n",
    "  print('Time elapsed: ', toc - tic)\n",
    "  return (km, sum_of_squares, silhouettes)"
   ]
  },
  {
   "cell_type": "code",
   "execution_count": 7,
   "metadata": {
    "colab": {},
    "colab_type": "code",
    "id": "-Pju1HUk4RN7"
   },
   "outputs": [
    {
     "name": "stdout",
     "output_type": "stream",
     "text": [
      "Iteration 3Time elapsed:  18.470991134643555\n"
     ]
    },
    {
     "data": {
      "text/plain": [
       "Text(0,0.5,'inertia')"
      ]
     },
     "execution_count": 7,
     "metadata": {},
     "output_type": "execute_result"
    },
    {
     "data": {
      "image/png": "[encoded data removed]",
      "text/plain": [
       "<Figure size 432x288 with 1 Axes>"
      ]
     },
     "metadata": {},
     "output_type": "display_data"
    }
   ],
   "source": [
    "km, sum_squares, silhouettes = perform_kmeans(processed_tfidf, (2, 5, 1))\n",
    "plt.plot(range(2,5,1),sum_squares)\n",
    "plt.title(\"Elbow Curve\")\n",
    "plt.xlabel('number of clusters (k)')\n",
    "plt.ylabel('inertia')"
   ]
  },
  {
   "cell_type": "code",
   "execution_count": 8,
   "metadata": {
    "colab": {
     "base_uri": "https://localhost:8080/",
     "height": 394
    },
    "colab_type": "code",
    "id": "-5m_um675D47",
    "outputId": "5903e51c-0562-4ea1-8271-554ee09de9f3"
   },
   "outputs": [
    {
     "name": "stdout",
     "output_type": "stream",
     "text": [
      "(13229, 11400)\n"
     ]
    },
    {
     "data": {
      "image/png": "[encoded data removed]",
      "text/plain": [
       "<Figure size 432x288 with 1 Axes>"
      ]
     },
     "metadata": {},
     "output_type": "display_data"
    }
   ],
   "source": [
    "plt.plot(range(2,5,1),silhouettes)\n",
    "plt.title(\"Silhouette Coefficient\")\n",
    "plt.xlabel('number of clusters (k)')\n",
    "plt.ylabel('Silhouette Coefficient')\n",
    "print(processed_tfidf.shape)"
   ]
  },
  {
   "cell_type": "markdown",
   "metadata": {
    "colab_type": "text",
    "id": "jE-dg3g-Ira8"
   },
   "source": [
    "##  Visualizing the Clusters\n",
    "Choosing k = 150"
   ]
  },
  {
   "cell_type": "code",
   "execution_count": 9,
   "metadata": {
    "colab": {
     "base_uri": "https://localhost:8080/",
     "height": 71
    },
    "colab_type": "code",
    "id": "8YS5bEwwPUcK",
    "outputId": "bcdbaa92-9883-4703-dd95-3a37f1f25137"
   },
   "outputs": [
    {
     "name": "stdout",
     "output_type": "stream",
     "text": [
      "inertia =  13121.99285908534\n",
      "silhouette coef =  0.0021828050957039755\n"
     ]
    }
   ],
   "source": [
    "km = KMeans(n_clusters = 2 ,n_init = 10, random_state = 42)\n",
    "label_vectors = km.fit_predict(processed_tfidf)\n",
    "print('inertia = ', km.inertia_)\n",
    "print('silhouette coef = ', metrics.silhouette_score(processed_tfidf, km.labels_, sample_size=1000))\n"
   ]
  },
  {
   "cell_type": "code",
   "execution_count": 10,
   "metadata": {
    "colab": {
     "base_uri": "https://localhost:8080/",
     "height": 408545
    },
    "colab_type": "code",
    "id": "FG9WGgRQYngB",
    "outputId": "81f9c523-fd4a-4fa5-bcc8-717334a488de"
   },
   "outputs": [],
   "source": [
    "num_samples = complete_tweet.shape[0]\n",
    "for i in range(num_samples):\n",
    "  if(label_vectors[i] == 2):\n",
    "    print(copy_tweet['headline_text'][i])\n",
    "    print()"
   ]
  },
  {
   "cell_type": "markdown",
   "metadata": {
    "colab_type": "text",
    "id": "5Vb91Al5uvjO"
   },
   "source": [
    "## List the most frequent word of each cluster"
   ]
  },
  {
   "cell_type": "code",
   "execution_count": 11,
   "metadata": {
    "colab": {
     "base_uri": "https://localhost:8080/",
     "height": 1187
    },
    "colab_type": "code",
    "id": "PHeF3W1Bsmm8",
    "outputId": "bb379bb7-c524-457c-b9f6-ca0ef2f7ffe6"
   },
   "outputs": [
    {
     "name": "stdout",
     "output_type": "stream",
     "text": [
      "8579        rt\n",
      "10837    video\n",
      "Name: name, dtype: object\n"
     ]
    }
   ],
   "source": [
    "main_words = np.argmax(km.cluster_centers_, axis = 1)\n",
    "print(dictionary['name'][main_words])"
   ]
  },
  {
   "cell_type": "markdown",
   "metadata": {
    "colab_type": "text",
    "id": "PhiA_R6eQ4SQ"
   },
   "source": [
    "# Applying  PCA to reduce dimensionality"
   ]
  },
  {
   "cell_type": "code",
   "execution_count": 13,
   "metadata": {
    "colab": {
     "base_uri": "https://localhost:8080/",
     "height": 55
    },
    "colab_type": "code",
    "id": "O8BG8F5oQ2oA",
    "outputId": "2af84540-45f5-45d9-d60c-06be7ef8af08"
   },
   "outputs": [
    {
     "name": "stdout",
     "output_type": "stream",
     "text": [
      "tempo do svd 0.09392404556274414\n",
      "0.007553097548765352\n"
     ]
    }
   ],
   "source": [
    "from sklearn.decomposition import PCA, TruncatedSVD\n",
    "\n",
    "ti = time.time()\n",
    "svd = TruncatedSVD(n_components=2, n_iter=5)\n",
    "truc_data = svd.fit_transform(processed_tfidf)\n",
    "tf = time.time()\n",
    "\n",
    "print('tempo do svd' ,tf - ti)\n",
    "# print(svd.explained_variance_ratio_)  \n",
    "print(svd.explained_variance_ratio_.sum())  \n",
    "# print(svd.singular_values_) "
   ]
  },
  {
   "cell_type": "markdown",
   "metadata": {
    "colab_type": "text",
    "id": "eA0pP4lGrd4C"
   },
   "source": [
    "## Apply k-means with lower dimensionality"
   ]
  },
  {
   "cell_type": "code",
   "execution_count": 14,
   "metadata": {
    "colab": {
     "base_uri": "https://localhost:8080/",
     "height": 414
    },
    "colab_type": "code",
    "id": "1K8IhWDu_6JA",
    "outputId": "4ece1154-4b5d-429f-dda1-8dc632f67de2"
   },
   "outputs": [
    {
     "name": "stdout",
     "output_type": "stream",
     "text": [
      "Iteration 3Time elapsed:  0.5346624851226807\n"
     ]
    },
    {
     "data": {
      "text/plain": [
       "Text(0,0.5,'inertia')"
      ]
     },
     "execution_count": 14,
     "metadata": {},
     "output_type": "execute_result"
    },
    {
     "data": {
      "image/png": "[encoded data removed]",
      "text/plain": [
       "<Figure size 432x288 with 1 Axes>"
      ]
     },
     "metadata": {},
     "output_type": "display_data"
    }
   ],
   "source": [
    "rng = (2, 5, 1)\n",
    "\n",
    "km, sum_squares, sih = perform_kmeans(truc_data, rng)\n",
    "\n",
    "plt.plot(range(rng[0], rng[1], rng[2]), sum_squares)\n",
    "plt.title(\"Elbow Curve\")\n",
    "plt.xlabel('number of clusters (k)')\n",
    "plt.ylabel('inertia')"
   ]
  },
  {
   "cell_type": "code",
   "execution_count": 15,
   "metadata": {
    "colab": {
     "base_uri": "https://localhost:8080/",
     "height": 395
    },
    "colab_type": "code",
    "id": "S2db4nTlJB3T",
    "outputId": "8b6cb6b4-f21a-493a-e7fc-89edb41a8ab2"
   },
   "outputs": [
    {
     "data": {
      "text/plain": [
       "Text(0,0.5,'Silhouette Coefficient')"
      ]
     },
     "execution_count": 15,
     "metadata": {},
     "output_type": "execute_result"
    },
    {
     "data": {
      "image/png": "[encoded data removed]",
      "text/plain": [
       "<Figure size 432x288 with 1 Axes>"
      ]
     },
     "metadata": {},
     "output_type": "display_data"
    }
   ],
   "source": [
    "plt.plot(range(rng[0], rng[1], rng[2]),sih)\n",
    "plt.title(\"Silhouette Coefficient\")\n",
    "plt.xlabel('number of clusters (k)')\n",
    "plt.ylabel('Silhouette Coefficient')"
   ]
  },
  {
   "cell_type": "code",
   "execution_count": 16,
   "metadata": {
    "colab": {
     "base_uri": "https://localhost:8080/",
     "height": 150
    },
    "colab_type": "code",
    "id": "g8-MEydnI7f3",
    "outputId": "9f2f1865-85c9-4de8-9620-42b249fa8b57"
   },
   "outputs": [
    {
     "name": "stdout",
     "output_type": "stream",
     "text": [
      "inertia =  59.230725751870885\n",
      "silhouette coef =  0.6081236504337081\n",
      "(13229, 11400)\n",
      "[0 0 0 ... 0 1 0]\n",
      "['a', 'aaand', 'aampc', 'aampe', 'aampes', 'aap', 'aaron', 'ab', 'aback', 'abandon', 'abandoned', 'abandoning', 'abating', 'abbvie', 'abcs', 'abdomen', 'abduction', 'aberdeen', 'abilities', 'ability', 'abiltity', 'able', 'aboard', 'abort', 'aborted', 'abortion', 'abortions', 'aboth', 'abroad', 'abs', 'abscesses', 'absences', 'absent', 'absolute', 'absolutely', 'absorbed', 'abstain', 'abstaining', 'abstinence', 'abt', 'abundance', 'abuse', 'abused', 'abusedeterrent', 'abusing', 'abusive', 'aby', 'ac', 'aca', 'academic', 'acai', 'accent', 'accept', 'acceptance', 'accepted', 'accepting', 'access', 'accesses', 'accessible', 'accessory', 'accident', 'accidental', 'accidentally', 'accidents', 'accompany', 'accomplice', 'accomplish', 'accomplished', 'according', 'account', 'accountability', 'accountable', 'accounts', 'accuracy', 'accurate', 'accuse', 'accused', 'accutane', 'acetaminophen', 'ache', 'achieve', 'achieves', 'achieving', 'achingly', 'achy', 'acid', 'acids', 'acl', 'acne', 'acquired', 'acronyms', 'act', 'actavis', 'acting', 'action', 'actions', 'actionshttpcnnitdadioy', 'activates', 'active', 'activities', 'activity', 'actor', 'actress', 'acts', 'actual', 'actually', 'acupuncture', 'acute', 'ad', 'add', 'added', 'addenbrookes', 'addict', 'addicted', 'addiction', 'addictive', 'addicts', 'adding', 'addition', 'additives', 'address', 'addresses', 'addressing', 'adds', 'adepends', 'adequate', 'adhd', 'adhdfriendly', 'adhdlike', 'adherence', 'adjust', 'adjusting', 'administration', 'admire', 'admissions', 'admit', 'admits', 'admitted', 'admitting', 'ado', 'adolescents', 'adopt', 'adoption', 'adorable', 'adore', 'adrenal', 'adrian', 'ads', 'adult', 'adulthood', 'adults', 'adultsized', 'advance', 'advanced', 'advances', 'advantage', 'advergames', 'advert', 'advertising', 'adverts', 'advice', 'advise', 'advised', 'advisers', 'advises', 'advisor', 'advisors', 'advocate', 'advocates', 'advocatesh', 'aeds', 'aerobic', 'aerosmith', 'affair', 'affec', 'affect', 'affected', 'affecting', 'affection', 'affective', 'affects', 'affluenza', 'afford', 'affordable', 'afghan', 'afghanistan', 'afghanistans', 'afraid', 'africa', 'african', 'africas', 'aft', 'afterburn', 'afterlife', 'aftermath', 'afternoon', 'afterschool', 'afterwork', 'agave', 'age', 'aged', 'agedrc', 'ageing', 'agencies', 'agency', 'agencywide', 'agenda', 'ageproof', 'agerelated', 'ages', 'agespecific', 'agetypically', 'aggravate', 'aggressive', 'aging', 'ago', 'agonizing', 'agree', 'agreed', 'agrees', 'aha', 'ahchoo', 'ahcjsa', 'ahead', 'ahem', 'aherne', 'ahh', 'aid', 'aids', 'aidsfree', 'ailing', 'ailments', 'aim', 'aims', 'ainsleys', 'air', 'airborne', 'airing', 'airline', 'airlines', 'airplane', 'airport', 'airports', 'airwaves', 'aisle', 'aits', 'ajcn', 'akilah', 'al', 'alabama', 'alan', 'alarm', 'alarming', 'alarmist', 'albacore', 'alcohol', 'alcoholics', 'alcoholism', 'alcoholrelated', 'alda', 'aldi', 'aleppo', 'alert', 'alerts', 'ali', 'alicia', 'aliens', 'alike', 'alive', 'allclear', 'alleged', 'allergic', 'allergies', 'allergy', 'allergyproof', 'alleviate', 'allheres', 'allison', 'allnatural', 'allow', 'allowed', 'allows', 'alltime', 'allvegetarian', 'allweeklong', 'almond', 'almonds', 'almondsbanana', 'alopecia', 'alpha', 'als', 'alter', 'altered', 'altering', 'alternative', 'alternatives', 'altitude', 'altitudes', 'altogether', 'altruist', 'alum', 'alz', 'alzheimer', 'alzheimers', 'alzheimersfor', 'ama', 'amazing', 'amazonian', 'ambassador', 'amber', 'ambien', 'ambitions', 'ambitious', 'ambulance', 'ambulances', 'amen', 'amendment', 'america', 'american', 'americans', 'americas', 'ametformin', 'amid', 'amidst', 'amish', 'amnesia', 'amniotic', 'amoeba', 'amounts', 'amp', 'ampnose', 'amps', 'ampst', 'amputated', 'amputation', 'amputee', 'amputees', 'amsterdam', 'amt', 'amusement', 'amy', 'amys', 'analysis', 'analyst', 'analysts', 'analyze', 'analyzes', 'anarchist', 'anatomy', 'ancestors', 'ancestral', 'anchor', 'anchovy', 'ancient', 'andersen', 'anderson', 'andersons', 'andme', 'andor', 'android', 'androids', 'anecdotally', 'anemia', 'anesthesia', 'aneurysm', 'aneurysms', 'angeles', 'angelesready', 'angelina', 'angelinajolie', 'anger', 'angina', 'angioplasty', 'angle', 'angry', 'animal', 'animals', 'animalshttpcnnitjyezw', 'animation', 'aniston', 'anistons', 'ankle', 'ann', 'anna', 'anne', 'anniversary', 'anniversay', 'announce', 'announced', 'announcer', 'announces', 'annoying', 'annual', 'annually', 'annuities', 'annus', 'anonymous', 'anorexia', 'anorexic', 'answer', 'answered', 'answering', 'answers', 'anthrax', 'anti', 'antiaging', 'antialcohol', 'antianxiety', 'antibacterial', 'antibiotic', 'antibioticresistant', 'antibiotics', 'antibodies', 'antibody', 'antibucket', 'anticancer', 'anticipatory', 'antidepressant', 'antidepressants', 'antidiabetic', 'antidote', 'antidrinking', 'antiebola', 'antifungal', 'antigua', 'antihistamines', 'antihiv', 'antiinflammation', 'antiinflammatory', 'antiobesity', 'antioxidant', 'antioxidants', 'antipot', 'antipsychotic', 'antismoking', 'antisocial', 'antivaccination', 'antivaccine', 'antivaxxers', 'antivenom', 'antiviral', 'ants', 'anxiety', 'anxietybusting', 'anxious', 'anym', 'anymore', 'anytime', 'apart', 'apb', 'aphrodisiac', 'apnea', 'apocalypse', 'apologies', 'apologises', 'apology', 'app', 'apparent', 'apparently', 'appeal', 'appealing', 'appeals', 'appear', 'appearance', 'appears', 'appendicitis', 'appetite', 'appetizers', 'appetizing', 'applauding', 'apple', 'appleaday', 'applebees', 'applecider', 'applelive', 'apples', 'apply', 'appointment', 'appointments', 'approach', 'approaches', 'appropriate', 'approval', 'approvals', 'approve', 'approved', 'approves', 'apps', 'appts', 'aprilfoolsday', 'apt', 'aqua', 'aquarium', 'arab', 'arabia', 'archery', 'architect', 'archives', 'area', 'areas', 'aren', 'arent', 'argentina', 'argentine', 'arginine', 'arguing', 'arguments', 'arimany', 'arizona', 'arkansas', 'arm', 'armchairs', 'armrests', 'arms', 'armstrong', 'armstrongs', 'army', 'array', 'arrest', 'arrested', 'arrests', 'arrivals', 'arrive', 'arrived', 'arrives', 'arrogance', 'arrow', 'arsenic', 'art', 'arterial', 'arteries', 'arthritis', 'article', 'articles', 'artificial', 'artist', 'arts', 'asap', 'asbestos', 'asd', 'ash', 'ashes', 'ashleyhayes', 'ashya', 'ashyas', 'asia', 'asian', 'asians', 'asias', 'ask', 'asked', 'asking', 'asks', 'asksanjay', 'asleep', 'asparagus', 'asperger', 'aspergers', 'aspire', 'aspirin', 'ass', 'assaulting', 'assaults', 'assembly', 'assemblywoman', 'assessed', 'assessment', 'assessments', 'assigning', 'assignment', 'assistance', 'assistant', 'assisted', 'assisting', 'associated', 'association', 'assume', 'assumptions', 'asthma', 'asthmakids', 'astonishing', 'astra', 'astrazeneca', 'asylum', 'atake', 'ate', 'athlete', 'athletes', 'athletic', 'athome', 'atl', 'atlanta', 'atlantaarea', 'atlas', 'atoz', 'atrial', 'atrialfibrillation', 'atrophy', 'attach', 'attached', 'attaching', 'attachment', 'attack', 'attackproof', 'attacks', 'attainable', 'attempt', 'attend', 'attendants', 'attends', 'attention', 'attentiondeficithyperactivity', 'atthishour', 'attitude', 'attitudes', 'attn', 'attorney', 'attract', 'attracted', 'attractive', 'atypical', 'auction', 'audacious', 'audio', 'auditors', 'audrina', 'augmented', 'august', 'aussie', 'austin', 'australia', 'australian', 'australians', 'autcraft', 'author', 'authorities', 'authority', 'authors', 'autism', 'autismawareness', 'autismfriendly', 'autisms', 'autistic', 'autoimmune', 'autopsies', 'autopsy', 'available', 'avandia', 'avas', 'avastin', 'avatar', 'avatars', 'average', 'avert', 'averted', 'avg', 'avian', 'avocado', 'avoid', 'avoidable', 'avoided', 'avoiding', 'aw', 'awaited', 'awake', 'awakens', 'award', 'awarded', 'awardorig', 'awards', 'aware', 'awareness', 'away', 'aweinspiring', 'awesome', 'awful', 'awkward', 'awry', 'axe', 'axed', 'ayahuasca', 'ayurveda', 'azodicarbonamide', 'b', 'babies', 'baby', 'babyboomer', 'babys', 'bachchan', 'bachelors', 'backed', 'backfire', 'backfired', 'background', 'backing', 'backlash', 'backlog', 'backs', 'backtoschool', 'backwards', 'backyards', 'bacon', 'baconlovers', 'bacteria', 'bacterial', 'bad', 'badfordiabetes', 'bag', 'bagbox', 'bagforlife', 'baggies', 'bags', 'bailout', 'bailouts', 'baiters', 'bake', 'baked', 'baking', 'balance', 'balanced', 'bald', 'baldness', 'bali', 'ball', 'ballet', 'balloon', 'balloons', 'ballot', 'ballpark', 'balls', 'ban', 'banana', 'band', 'bandage', 'bandana', 'bandito', 'bands', 'bang', 'bangladesh', 'bangor', 'banish', 'banishing', 'bank', 'banned', 'banning', 'bans', 'baobab', 'bar', 'barack', 'barbara', 'barefoot', 'barely', 'bargain', 'bariatric', 'bariatricsurgery', 'barkleys', 'barley', 'barrier', 'barriers', 'barry', 'bars', 'base', 'baseball', 'baseballs', 'based', 'baseless', 'basic', 'basically', 'basics', 'basing', 'basis', 'basket', 'basketball', 'bass', 'bassett', 'bat', 'batches', 'bath', 'bathing', 'bathroom', 'bathseat', 'batman', 'bats', 'batteries', 'battery', 'battle', 'battled', 'battlefield', 'battles', 'battling', 'baxter', 'bay', 'bbc', 'bbq', 'bc', 'bch', 'bcschampionship', 'bday', 'bdrm', 'be', 'beach', 'beads', 'beam', 'bean', 'beans', 'beanshummussoups', 'beanslentils', 'bear', 'beard', 'bearded', 'beards', 'bearing', 'bears', 'beat', 'beaten', 'beating', 'beats', 'beautiful', 'beauty', 'beazley', 'bed', 'bedblocking', 'bedhttpbitlysxucla', 'bedroom', 'bedrooms', 'beds', 'bedside', 'bedtime', 'bedtimes', 'bedwetting', 'bee', 'beef', 'beep', 'beer', 'beethovens', 'beetroot', 'began', 'begin', 'beginner', 'beginning', 'begins', 'begs', 'behavior', 'behavioral', 'behaviors', 'behaviour', 'behindthescenes', 'beijing', 'bein', 'bekaa', 'belfast', 'belgian', 'belgium', 'believe', 'believed', 'believes', 'bell', 'bellies', 'bells', 'belly', 'bellyflops', 'ben', 'benadryl', 'bene', 'benedict', 'beneficial', 'beneficiaries', 'benefit', 'benefiting', 'benefits', 'bently', 'bereaved', 'berlin', 'berries', 'berry', 'best', 'bestdiet', 'bestdiets', 'besthospitals', 'bet', 'beta', 'betel', 'bets', 'better', 'bettered', 'betterinbalance', 'betterlatethannever', 'bettertasting', 'beverage', 'beware', 'bewitching', 'bf', 'bff', 'bholoo', 'bias', 'bible', 'bicycles', 'bid', 'big', 'bigger', 'biggest', 'biggestloser', 'biggestloserfinale', 'bike', 'bikers', 'biking', 'bikini', 'bilingual', 'bilinguals', 'billing', 'billion', 'billions', 'billionyr', 'bills', 'biloba', 'binder', 'binge', 'bingedrinking', 'bingewatching', 'biobank', 'bioethicists', 'biogen', 'biological', 'biologics', 'biology', 'biomarkers', 'bionic', 'biopsies', 'biopsy', 'biosolutions', 'bioterror', 'bioterrorism', 'bipolar', 'bird', 'birdflu', 'birds', 'birth', 'birthcontrol', 'birthday', 'birthdays', 'birthing', 'birthplace', 'births', 'biscuit', 'biscuits', 'bisexual', 'bisexuality', 'bishop', 'bistro', 'bit', 'bite', 'bites', 'bits', 'bitter', 'bizarre', 'bk', 'black', 'blackened', 'blackouts', 'blacks', 'bladder', 'bladdercontrol', 'blade', 'blah', 'blair', 'blais', 'blame', 'blamed', 'blames', 'bland', 'blank', 'blanket', 'blast', 'blasts', 'bldg', 'bleach', 'bleeding', 'bleeds', 'blessed', 'blessing', 'blights', 'blind', 'blindness', 'blister', 'bloat', 'bloated', 'bloating', 'block', 'blockades', 'blockages', 'blockbuster', 'blocked', 'blocker', 'blockers', 'blocks', 'blog', 'blogged', 'blogger', 'bloggers', 'blood', 'bloodclot', 'bloodfilter', 'bloodpressure', 'bloodstreams', 'bloodtherapy', 'bloomberg', 'blow', 'blows', 'blt', 'blubbering', 'blue', 'blueberries', 'blueprint', 'blues', 'bluetooth', 'blunders', 'bma', 'bmi', 'bmj', 'bn', 'board', 'boarded', 'boards', 'boat', 'bobbi', 'bodies', 'bodily', 'body', 'bodyaltering', 'bodybuilding', 'bodyimage', 'bodymedia', 'bodys', 'bodyweight', 'bogus', 'bold', 'bolivian', 'bolod', 'bomb', 'bombing', 'bombings', 'bombs', 'bomi', 'bond', 'bonding', 'bone', 'bonebuilding', 'bonemarrow', 'bones', 'bonnie', 'bonus', 'boo', 'boob', 'boobs', 'booby', 'boogeymaninthecloset', 'boogie', 'book', 'books', 'boom', 'boomer', 'boomers', 'booming', 'boon', 'boost', 'boosted', 'booster', 'boosting', 'boosts', 'bootcamp', 'boots', 'booty', 'booze', 'boozefree', 'boozing', 'boozy', 'border', 'borders', 'bored', 'boredom', 'boring', 'boris', 'borland', 'born', 'borough', 'borrowed', 'boss', 'bosses', 'bosss', 'boston', 'bostonmarathon', 'bostonmov', 'bostonstrong', 'botched', 'botham', 'bothered', 'bothers', 'botox', 'bottle', 'bottled', 'bottles', 'bought', 'bounce', 'bounds', 'bounty', 'bout', 'bouts', 'bowel', 'bowels', 'bowl', 'bowling', 'box', 'boxing', 'boy', 'boyfriendim', 'boyle', 'boys', 'bp', 'bpa', 'br', 'bra', 'brace', 'braces', 'brad', 'bradley', 'brag', 'braille', 'brain', 'braincontrolled', 'braindamaged', 'braindead', 'braineating', 'braininjury', 'brainmemory', 'brainpower', 'brains', 'brainstorm', 'braintraining', 'braintumor', 'brakes', 'brand', 'branded', 'brandedmedicine', 'branding', 'brandnew', 'brands', 'brantly', 'brave', 'braved', 'bravely', 'bravery', 'brazil', 'brca', 'brd', 'breach', 'breached', 'breaches', 'bread', 'breads', 'breadstortillas', 'break', 'breakdown', 'breakfast', 'breakfastbowl', 'breakfasting', 'breakfasts', 'breaking', 'breaks', 'breakthrough', 'breakup', 'breast', 'breastcancer', 'breastfed', 'breastfeed', 'breastfeeding', 'breasts', 'breath', 'breathe', 'breathed', 'breathing', 'breathlessness', 'breaths', 'breed', 'breeds', 'breeze', 'brett', 'brew', 'brewers', 'brewing', 'brian', 'bribes', 'brick', 'bricks', 'bridal', 'bride', 'brides', 'bridge', 'brief', 'bright', 'brighter', 'brilliant', 'bring', 'bringing', 'brings', 'brink', 'brisk', 'briskly', 'bristly', 'bristol', 'brit', 'britain', 'british', 'briton', 'britons', 'brits', 'brittany', 'brittanymaynard', 'brittle', 'brkfst', 'brkfsts', 'bro', 'broad', 'broadmoor', 'broccoli', 'brockovich', 'broke', 'broken', 'bronx', 'brookeburke', 'brother', 'brothers', 'brought', 'brown', 'brownbag', 'brownie', 'brownies', 'brrrr', 'brush', 'brushing', 'brussels', 'brutal', 'bt', 'btw', 'btwn', 'bu', 'bubble', 'bubonic', 'buck', 'bucket', 'buckles', 'bucks', 'buckthorn', 'buckyballs', 'bud', 'buddies', 'budge', 'budget', 'budgets', 'buds', 'buffalo', 'bug', 'bugs', 'build', 'builder', 'builders', 'building', 'builds', 'built', 'bulgarias', 'bulk', 'bulkbuying', 'bullet', 'bulletin', 'bulletproof', 'bullets', 'bullfrog', 'bullied', 'bullies', 'bulls', 'bully', 'bullying', 'bum', 'bummed', 'bump', 'bumps', 'bungee', 'bungle', 'burden', 'bureaucracy', 'burger', 'burgers', 'burial', 'burials', 'buried', 'burn', 'burned', 'burnham', 'burning', 'burns', 'burnt', 'burnthis', 'burpee', 'bus', 'business', 'bust', 'busted', 'buster', 'busters', 'busting', 'busts', 'busy', 'butim', 'buts', 'butt', 'butter', 'butterfly', 'buttermilk', 'butters', 'buttery', 'buttnaked', 'buttock', 'buttocks', 'button', 'butts', 'butty', 'buy', 'buyer', 'buying', 'buyout', 'buzz', 'bw', 'bye', 'bypass', 'bystander', 'bystanders', 'c', 'ca', 'cabinet', 'caboose', 'cacner', 'cadavers', 'caesarean', 'cafes', 'cafeteria', 'caffeinated', 'caffeine', 'caffeines', 'cake', 'caked', 'cakes', 'cal', 'calcium', 'calculate', 'calculator', 'calendar', 'calf', 'calfhigh', 'calif', 'california', 'californias', 'called', 'callers', 'calling', 'calls', 'calm', 'calmer', 'calmly', 'calorie', 'calorienegative', 'calories', 'caloriesat', 'cals', 'calsday', 'calshr', 'cambodia', 'cambodian', 'cambridge', 'came', 'camel', 'camels', 'camera', 'cameras', 'cameron', 'camerons', 'camp', 'campaign', 'campaigner', 'campaigners', 'campaigns', 'campbells', 'camped', 'campers', 'campfires', 'campus', 'campylobacteriosis', 'can', 'canada', 'canadian', 'canal', 'cancel', 'canceled', 'cancelled', 'cancelling', 'cancels', 'cancer', 'cancerdisease', 'cancerdrug', 'cancerfighting', 'cancerkilling', 'cancerous', 'cancers', 'cancerscreening', 'cancerstricken', 'cancerwith', 'cancr', 'candid', 'candidate', 'candy', 'canine', 'cannabis', 'canned', 'cans', 'cantidad', 'cap', 'capabilities', 'capability', 'capes', 'capital', 'cappon', 'caps', 'capsule', 'capsules', 'captain', 'captivity', 'car', 'caramel', 'carbohydrate', 'carbon', 'carbs', 'carcinogen', 'carcinogens', 'card', 'cardiac', 'cardiff', 'cardio', 'cardiovascular', 'cards', 'care', 'cared', 'caredata', 'career', 'careful', 'carefully', 'caregiver', 'caregivers', 'caregiving', 'carer', 'carers', 'cares', 'caribbean', 'caring', 'carlos', 'carolers', 'carolina', 'carpet', 'carried', 'carrier', 'carriers', 'carries', 'carrot', 'carrots', 'carry', 'carrying', 'cars', 'carson', 'cart', 'cartilage', 'carve', 'case', 'cases', 'caseykasem', 'cash', 'cashewalmond', 'cashier', 'cast', 'casting', 'castration', 'casts', 'casual', 'cat', 'catalogue', 'cataract', 'catastrophe', 'catastrophic', 'catch', 'catches', 'catching', 'categories', 'catherine', 'catholic', 'cats', 'cattle', 'catwalks', 'caught', 'cause', 'caused', 'causes', 'causing', 'caution', 'cautiously', 'cavities', 'cavitypreventing', 'cavityproof', 'cayenne', 'cbt', 'ccgs', 'cctv', 'cd', 'cdc', 'cdcchat', 'cdcs', 'celeb', 'celebrate', 'celebrated', 'celebrates', 'celebrating', 'celebration', 'celebrities', 'celebrity', 'celebs', 'celery', 'celgenes', 'celiac', 'celiacrisk', 'cell', 'cellist', 'cellphones', 'cells', 'cellular', 'cellulite', 'cempra', 'censure', 'centenarians', 'center', 'centers', 'central', 'centre', 'centres', 'cents', 'centuries', 'century', 'ceo', 'cereal', 'cerealday', 'cereals', 'cerebral', 'certain', 'certainly', 'certificate', 'certified', 'cervical', 'ces', 'cessation', 'cha', 'chagas', 'chain', 'chained', 'chains', 'chainsaw', 'chair', 'challenge', 'challenged', 'challenges', 'challenging', 'champ', 'champagne', 'champion', 'champions', 'champs', 'chan', 'chance', 'chancellor', 'chances', 'change', 'changed', 'changer', 'changes', 'changethelist', 'changing', 'channel', 'channels', 'chantix', 'chaos', 'character', 'characteristics', 'charge', 'charged', 'charges', 'charging', 'charities', 'charity', 'charlatans', 'charles', 'charlize', 'charlotte', 'charredvery', 'chart', 'charts', 'chased', 'chasing', 'chasinglife', 'chat', 'chats', 'chatting', 'cheap', 'cheaper', 'cheat', 'cheating', 'check', 'checked', 'checkin', 'checking', 'checkouts', 'checks', 'checkup', 'checkups', 'cheering', 'cheerios', 'cheerleader', 'cheerleaders', 'cheerleading', 'cheese', 'cheeseburger', 'cheeses', 'cheesy', 'cheetos', 'chef', 'chemical', 'chemicals', 'chemo', 'chemogot', 'chemotherapy', 'cheney', 'cherishing', 'chernobyl', 'cherry', 'chest', 'chew', 'chewing', 'chexican', 'chia', 'chicago', 'chicagos', 'chicken', 'chickenpox', 'chickens', 'chief', 'chiefs', 'chikungunya', 'child', 'childbearing', 'childbirth', 'childbirthrelated', 'childcare', 'childfree', 'childfriendly', 'childhood', 'childhoodcancer', 'childline', 'childminder', 'children', 'childrenofsyria', 'childrens', 'childs', 'chile', 'chilean', 'chili', 'chilis', 'chill', 'chimerix', 'chiming', 'chimp', 'chimps', 'chin', 'china', 'chinas', 'chinese', 'chip', 'chipbreadcracker', 'chipper', 'chips', 'chlorine', 'chock', 'chocoholics', 'chocolate', 'choice', 'choices', 'choke', 'choked', 'choking', 'chol', 'cholera', 'cholesterol', 'cholesterollowering', 'cholesterols', 'choose', 'choosing', 'chop', 'chopper', 'chopra', 'chopstick', 'chopsticks', 'chore', 'chose', 'chowing', 'chris', 'chrissie', 'christie', 'christina', 'christine', 'christmas', 'chronic', 'chronically', 'chronicle', 'chronicles', 'chronicpain', 'chronotherapy', 'chubby', 'chuck', 'chuckle', 'chugging', 'church', 'churches', 'cider', 'cig', 'cigarette', 'cigarettes', 'cigars', 'cinderella', 'cinnamon', 'cio', 'circulation', 'circumcise', 'circumcision', 'circus', 'cirque', 'cited', 'cites', 'cities', 'citizen', 'citizens', 'citrus', 'city', 'civilians', 'cj', 'cjd', 'cl', 'claim', 'claimed', 'claims', 'clampdown', 'clarify', 'clarity', 'clash', 'clashes', 'class', 'classa', 'classes', 'classical', 'classmate', 'classmates', 'classroom', 'claus', 'clawing', 'clean', 'cleaned', 'cleaner', 'cleaners', 'cleanest', 'cleaning', 'cleanings', 'cleans', 'cleanse', 'cleanses', 'clear', 'cleared', 'clearer', 'clearest', 'clearing', 'clearly', 'clears', 'clearwater', 'cleavage', 'clegg', 'clench', 'cleverer', 'click', 'clients', 'cliff', 'clifford', 'climate', 'climb', 'climbed', 'climbing', 'climbs', 'clinic', 'clinical', 'clinically', 'clinics', 'clinton', 'clintons', 'clip', 'clipped', 'clipping', 'clips', 'clock', 'clocks', 'clogged', 'cloned', 'cloning', 'clooneyesque', 'close', 'closed', 'closely', 'closer', 'closes', 'closest', 'closeup', 'closing', 'closure', 'closures', 'clot', 'clotbuster', 'clotgrabbing', 'clothes', 'clothing', 'clothinggear', 'clots', 'clotting', 'cloud', 'club', 'clubs', 'clue', 'clues', 'cluster', 'clwyd', 'clwyds', 'cmo', 'cmvmatters', 'cn', 'cnn', 'cnna', 'cnnaller', 'cnnallergies', 'cnnelection', 'cnnexpress', 'cnnhero', 'cnnheroes', 'cnnideas', 'cnnireport', 'cnnorc', 'cnnparents', 'cnns', 'cnnsnow', 'cnntop', 'cnntownhall', 'cnnwomensmonth', 'cnnx', 'coach', 'coaches', 'coaching', 'coachrefump', 'coalition', 'coast', 'coax', 'cocacola', 'cocaine', 'cochlear', 'cocktail', 'cocktails', 'coconut', 'coddled', 'code', 'codes', 'coeliac', 'coffee', 'coffins', 'cofounder', 'cognition', 'cognitive', 'cognizant', 'cohabiting', 'cohen', 'cohost', 'cohosted', 'cohosting', 'cohosts', 'coiled', 'coined', 'coke', 'colchester', 'cold', 'coldhearted', 'colds', 'coli', 'colicky', 'colitis', 'collaborates', 'collaboration', 'collapse', 'collapses', 'colleague', 'collect', 'collected', 'collecting', 'collectively', 'college', 'colleges', 'collegiate', 'collins', 'colombian', 'colon', 'coloncancer', 'colonoscopy', 'color', 'colorado', 'colorectal', 'colors', 'columbia', 'columnist', 'coma', 'comas', 'combat', 'combats', 'combination', 'combined', 'combines', 'combo', 'come', 'comeback', 'comedians', 'comedic', 'comes', 'comfort', 'comfortable', 'comfy', 'comic', 'comics', 'comin', 'coming', 'comment', 'commenter', 'commenting', 'comments', 'commercial', 'commercials', 'commissioner', 'commit', 'commitment', 'committed', 'committee', 'committing', 'common', 'commonly', 'commons', 'communicate', 'communicating', 'communication', 'communion', 'communities', 'community', 'commute', 'commuter', 'commuters', 'commuting', 'companies', 'company', 'compare', 'compared', 'compares', 'comparing', 'comparisons', 'compass', 'compassion', 'compassionate', 'compensation', 'competition', 'competitor', 'complacency', 'complacent', 'complain', 'complaining', 'complaint', 'complaints', 'complete', 'completely', 'completes', 'complex', 'complexion', 'complicated', 'complicates', 'complication', 'complications', 'compliment', 'compose', 'composer', 'compost', 'compound', 'compounder', 'compounding', 'comprehensive', 'compression', 'compromise', 'computer', 'computers', 'conceal', 'conceive', 'concentrate', 'concentrated', 'concept', 'concern', 'concerned', 'concerning', 'concerns', 'concert', 'concerts', 'concierge', 'concludes', 'concussion', 'concussionrelated', 'concussions', 'condiments', 'condition', 'conditioning', 'conditions', 'condom', 'condoms', 'conduct', 'conference', 'confessions', 'confidence', 'confident', 'confidential', 'confirmed', 'confirms', 'conflictfree', 'conflicts', 'confused', 'confusing', 'confusion', 'congo', 'congrats', 'congratulations', 'congress', 'conjoined', 'connect', 'connected', 'connecticut', 'connection', 'connections', 'connects', 'conned', 'conquer', 'conquered', 'conquering', 'conquers', 'conscientious', 'consensual', 'consent', 'consequence', 'consequences', 'conservative', 'consider', 'considerations', 'considered', 'considering', 'consistency', 'consistent', 'conspire', 'constant', 'constipated', 'constipation', 'consult', 'consultants', 'consultation', 'consume', 'consumed', 'consumer', 'consumers', 'consuming', 'consumption', 'contact', 'contacts', 'contagion', 'contagious', 'contain', 'contained', 'containers', 'containing', 'contains', 'contaminated', 'contamination', 'content', 'contest', 'continents', 'continue', 'continued', 'continues', 'contraband', 'contraceptive', 'contraceptives', 'contract', 'contracted', 'contracting', 'contracts', 'contradicting', 'contrarian', 'contrasting', 'contribute', 'contributed', 'contribution', 'contributor', 'contributors', 'control', 'controlled', 'controlling', 'controls', 'controversial', 'controversy', 'conv', 'convention', 'conversation', 'conversational', 'conversations', 'conversion', 'convicted', 'convo', 'convos', 'cook', 'cooked', 'cookfor', 'cookie', 'cookies', 'cooking', 'cooks', 'cool', 'coolest', 'cooling', 'cooper', 'cooperstyle', 'copd', 'cope', 'copilot', 'copilots', 'coping', 'copper', 'cops', 'copy', 'cord', 'cords', 'core', 'corgenix', 'corn', 'corneal', 'corneas', 'corner', 'cornerstone', 'coronary', 'coronavirus', 'coroner', 'corporal', 'corporate', 'correctly', 'correspond', 'correspondent', 'corrie', 'corrsepond', 'corruption', 'cortex', 'cortexthat', 'cosmetic', 'cosmetics', 'cost', 'costa', 'costco', 'costeffective', 'costing', 'costly', 'costoletta', 'costs', 'costumes', 'cotton', 'couch', 'cough', 'couldn', 'council', 'councilrun', 'councils', 'counseling', 'counselling', 'counselor', 'counsels', 'count', 'counter', 'counterfeit', 'counterfeits', 'counties', 'counting', 'countries', 'country', 'countrys', 'countryside', 'counts', 'county', 'couple', 'couples', 'coupon', 'coupons', 'courage', 'course', 'courses', 'court', 'courting', 'courts', 'couture', 'cover', 'coverage', 'covered', 'covergirl', 'covert', 'coverup', 'cow', 'coworker', 'cows', 'cpr', 'cqc', 'crab', 'crackdown', 'cracked', 'crackin', 'cracks', 'craft', 'crafting', 'crafts', 'craigslist', 'cramps', 'crandall', 'crane', 'crank', 'cranky', 'crappy', 'crash', 'crashed', 'crashes', 'crave', 'craving', 'cravings', 'craze', 'crazy', 'crazyamazing', 'crazyawesome', 'creaking', 'cream', 'creamers', 'creaminess', 'creams', 'creamy', 'creamysweet', 'create', 'created', 'creates', 'creating', 'creativity', 'credible', 'credit', 'credited', 'credits', 'cremation', 'crematorium', 'crestor', 'crew', 'crews', 'crickets', 'cried', 'cries', 'crime', 'crimes', 'criminal', 'criminologist', 'crippled', 'crises', 'crisis', 'crisp', 'critical', 'critically', 'criticise', 'criticised', 'criticises', 'criticism', 'criticisms', 'criticizes', 'critics', 'crohns', 'cross', 'crossfit', 'crossrail', 'crosswalk', 'crosswords', 'crowd', 'crowdfund', 'crp', 'crucial', 'cruciferous', 'cruel', 'cruise', 'cruises', 'crunches', 'crunchy', 'crushed', 'crushing', 'crying', 'cryotherapy', 'crystal', 'csection', 'csections', 'cspi', 'ct', 'cte', 'cuba', 'cubaflorida', 'cuban', 'cubans', 'cubatoflorida', 'cube', 'cucumber', 'cucumbers', 'cuddlers', 'cuddling', 'cuddly', 'cue', 'cuisine', 'culls', 'culprit', 'culture', 'cup', 'cupboard', 'cupcake', 'cupcakes', 'cupid', 'cupids', 'cupp', 'cupping', 'cups', 'curable', 'curb', 'curbs', 'cure', 'cured', 'cures', 'curious', 'curiouser', 'current', 'currently', 'curry', 'curse', 'curtis', 'curveballs', 'curved', 'curves', 'cushman', 'cusp', 'custody', 'custom', 'customer', 'customers', 'customize', 'customized', 'cut', 'cute', 'cuts', 'cutting', 'cv', 'cvs', 'cvshealth', 'cyanide', 'cyaochat', 'cyber', 'cyberbullied', 'cyberbullying', 'cyborgs', 'cycle', 'cycles', 'cycling', 'cyclone', 'cyclospora', 'cynicism', 'cynics', 'cyrus', 'cystic', 'cápita', 'd', 'dad', 'dads', 'dahlias', 'daily', 'dairy', 'dairyfree', 'dakota', 'dakotas', 'dalai', 'dalek', 'dallas', 'dallasfort', 'damage', 'damaged', 'damagefemale', 'damages', 'damaging', 'dammed', 'damp', 'dan', 'dance', 'danced', 'dancer', 'dances', 'dancing', 'dander', 'danes', 'danger', 'dangerous', 'dangerously', 'dangers', 'daniel', 'daniels', 'danish', 'darcy', 'dare', 'darin', 'dark', 'darker', 'darkness', 'dash', 'dashdiet', 'data', 'database', 'datasharing', 'date', 'daterape', 'dates', 'dating', 'daughter', 'daughters', 'david', 'davis', 'dawkins', 'dawn', 'day', 'daycare', 'dayearly', 'daylight', 'dayold', 'days', 'dayscheck', 'daysweek', 'dayswk', 'dc', 'dd', 'dea', 'dead', 'deadlier', 'deadliest', 'deadline', 'deadly', 'deadlydose', 'deaf', 'deal', 'dealing', 'dealng', 'dean', 'dear', 'death', 'deathbed', 'deaths', 'debatable', 'debate', 'debated', 'debates', 'debilitated', 'debilitating', 'debt', 'debts', 'debunk', 'debunked', 'debunking', 'debuts', 'decade', 'decadent', 'decades', 'decay', 'deceiving', 'december', 'decent', 'deception', 'deceptive', 'decide', 'decided', 'deciding', 'decision', 'decisions', 'decisive', 'declare', 'declared', 'declares', 'declaring', 'declawing', 'decline', 'declines', 'declining', 'decode', 'decoding', 'decorating', 'decrease', 'decreased', 'decreases', 'decreasing', 'dedicate', 'dedicated', 'dedicating', 'dedication', 'deductibles', 'deemed', 'deen', 'deens', 'deep', 'deepali', 'deepens', 'deeply', 'defeat', 'defect', 'defective', 'defects', 'defend', 'defended', 'defender', 'defends', 'defense', 'deferred', 'defibrillator', 'defibrillators', 'deficiencies', 'deficiency', 'deficient', 'deficit', 'deficits', 'defies', 'define', 'defined', 'definite', 'definitely', 'definition', 'definitive', 'deflate', 'deformities', 'defrauding', 'degeneration', 'degree', 'degrees', 'dehydrated', 'deja', 'delay', 'delayed', 'delaying', 'delays', 'deleted', 'delicious', 'deliciously', 'deliciousness', 'delish', 'deliver', 'delivered', 'delivering', 'delivers', 'delivery', 'delusions', 'demand', 'demands', 'dementia', 'dementiaalzheimers', 'dementiadrugs', 'dementiafriendly', 'demo', 'demons', 'demonstrates', 'dems', 'dengue', 'denial', 'denied', 'denies', 'denmarks', 'denny', 'dense', 'dental', 'dente', 'dentist', 'dentists', 'dentures', 'deny', 'departing', 'department', 'depended', 'dependence', 'dependent', 'depending', 'depends', 'deployment', 'depollinate', 'deposits', 'depressed', 'depressing', 'depression', 'depressionfighting', 'depressions', 'depressive', 'depressives', 'deprivation', 'deprived', 'depriving', 'dept', 'derail', 'derby', 'derived', 'dermal', 'dermatologist', 'descends', 'described', 'describes', 'dese', 'desert', 'deserve', 'design', 'designer', 'desire', 'desk', 'desks', 'desmond', 'despair', 'despite', 'dessert', 'desserts', 'destigmatize', 'destination', 'destress', 'destroyed', 'destroys', 'destructive', 'detailing', 'details', 'detect', 'detectable', 'detected', 'detection', 'detective', 'detectives', 'detector', 'detectors', 'detects', 'detention', 'detentions', 'deter', 'detergent', 'detergents', 'deteriorate', 'deteriorates', 'deteriorating', 'determine', 'determines', 'detour', 'detox', 'devastating', 'develop', 'developed', 'developing', 'development', 'developments', 'develops', 'device', 'devices', 'devil', 'devised', 'devo', 'devolution', 'dhs', 'diabetes', 'diabetesdrc', 'diabetesfree', 'diabetesfriendly', 'diabetic', 'diabetics', 'diabolical', 'diagnosable', 'diagnose', 'diagnosed', 'diagnoses', 'diagnosing', 'diagnosis', 'diagnostic', 'dialysis', 'diana', 'diananyad', 'diapers', 'diaries', 'diarrhoea', 'did', 'didn', 'didnt', 'didyouknow', 'die', 'died', 'dies', 'diet', 'dietary', 'dietfriendly', 'diethealth', 'dietician', 'dieting', 'dietitian', 'dietmaintain', 'diets', 'dif', 'diff', 'differ', 'difference', 'differences', 'different', 'differently', 'differing', 'differs', 'difficult', 'difficulty', 'digest', 'digested', 'digestion', 'digestive', 'digital', 'digits', 'dignity', 'digs', 'dilation', 'dilemma', 'dilligently', 'dim', 'dimensions', 'dine', 'dining', 'dinner', 'dinners', 'dioxide', 'dip', 'diplomatic', 'dips', 'dire', 'direct', 'directives', 'directly', 'director', 'directors', 'directtoconsumer', 'dirt', 'dirty', 'disabilities', 'disability', 'disabled', 'disappear', 'disappointment', 'disaster', 'disasters', 'disastrous', 'discharged', 'discharges', 'discipline', 'disclosing', 'discontinued', 'discover', 'discovered', 'discoveries', 'discovering', 'discovers', 'discovery', 'discreetly', 'discrimination', 'discuss', 'discussed', 'discusses', 'discussing', 'discussion', 'discussions', 'disease', 'diseasecarrying', 'diseased', 'diseaseproblems', 'diseases', 'disgraced', 'disgraceful', 'disguise', 'disgusted', 'dish', 'dishes', 'dishesrecipestips', 'disinfect', 'disk', 'dismissal', 'dismissed', 'dismisses', 'dismissing', 'disney', 'disneyland', 'disorder', 'disordered', 'disorders', 'disparities', 'disparity', 'dispatch', 'display', 'disposable', 'dispute', 'disputed', 'disrupting', 'diss', 'distance', 'distant', 'distinct', 'distractions', 'distress', 'distressing', 'distribution', 'district', 'distrubing', 'disturbing', 'ditch', 'ditching', 'dive', 'diversity', 'divert', 'divide', 'divided', 'division', 'divorce', 'diy', 'dl', 'dna', 'dnamedicine', 'dnc', 'dnp', 'do', 'dobbins', 'doc', 'docs', 'doctor', 'doctors', 'doctorsinsurers', 'documentary', 'documents', 'dodge', 'dodgy', 'does', 'doesn', 'doesnt', 'dog', 'doglovers', 'dogs', 'doing', 'dole', 'doll', 'dollar', 'dolphins', 'domestic', 'domesticated', 'domesticviolence', 'dominate', 'don', 'donate', 'donated', 'donates', 'donating', 'donation', 'donations', 'donor', 'donors', 'donovan', 'dont', 'dontfryday', 'donts', 'donuts', 'doom', 'door', 'doors', 'doorstep', 'doortodoor', 'doped', 'doping', 'dorkenoo', 'dormers', 'dorsett', 'dorsi', 'dos', 'dose', 'doses', 'double', 'doublearm', 'doublechin', 'doubled', 'doublelung', 'doubles', 'doubling', 'doubt', 'doubts', 'doug', 'doughnut', 'douglas', 'doused', 'downey', 'downgrade', 'downgraded', 'downhill', 'download', 'downplay', 'downs', 'downside', 'downsides', 'downsyndrome', 'downton', 'downturn', 'downward', 'dozen', 'dozens', 'dprinted', 'dr', 'draft', 'drafting', 'drafts', 'dragged', 'dragging', 'drama', 'dramatic', 'drank', 'drastic', 'drastically', 'draw', 'drawn', 'draws', 'drc', 'dread', 'dreadful', 'dreading', 'dream', 'dreaming', 'dreams', 'dress', 'dresses', 'dressing', 'dressings', 'drexel', 'dried', 'drifit', 'drill', 'drillfree', 'drills', 'drink', 'drinkdeath', 'drinkdrivers', 'drinker', 'drinkers', 'drinking', 'drinks', 'drips', 'drive', 'driver', 'drivers', 'drives', 'drivethru', 'driving', 'drop', 'dropped', 'dropping', 'drops', 'drown', 'drowned', 'drowning', 'drowns', 'drowsy', 'drs', 'drug', 'drugdriving', 'drugfree', 'drugmaker', 'drugresistant', 'drugs', 'drum', 'drumming', 'drumroll', 'drums', 'drunk', 'drunken', 'drunkenness', 'drunker', 'drunkest', 'drunks', 'dry', 'drying', 'ds', 'du', 'dubai', 'duchenne', 'duchess', 'duck', 'dukan', 'dulles', 'dulls', 'dump', 'dumped', 'duncan', 'dung', 'dunkin', 'duo', 'dupe', 'duped', 'dust', 'dutch', 'duty', 'dvr', 'dwelling', 'dx', 'dyes', 'dying', 'dysfunction', 'dyslexia', 'dyspraxia', 'dystextia', 'dystonia', 'dzn', 'e', 'ear', 'earley', 'earlier', 'earliest', 'early', 'earlymid', 'earlyonset', 'earlystage', 'earn', 'ears', 'earth', 'ease', 'eases', 'easier', 'easiest', 'easily', 'east', 'eastenders', 'easter', 'eastern', 'easy', 'easytocrush', 'eat', 'eater', 'eating', 'eatingdisorder', 'eatingdisorders', 'eats', 'ebbed', 'ebbs', 'ebola', 'ebolafree', 'ebolahit', 'ebolaoutbreak', 'ebolaproof', 'ebolaqanda', 'ebolas', 'ec', 'ecig', 'ecigarette', 'ecigarettes', 'ecigs', 'eclampsia', 'eclipse', 'eco', 'ecoli', 'economic', 'ecstasy', 'ect', 'eczema', 'ed', 'edamame', 'eden', 'edge', 'editing', 'editor', 'editorial', 'editors', 'educate', 'educated', 'educating', 'education', 'educational', 'educator', 'eeg', 'eek', 'effect', 'effective', 'effectively', 'effectiveness', 'effects', 'effectsdrc', 'efficacy', 'efficacyhow', 'efficiency', 'efficient', 'effort', 'efforts', 'efua', 'egg', 'eggcellent', 'eggnog', 'eggplant', 'eggs', 'egypt', 'egyptian', 'egyptians', 'eh', 'ehospital', 'ehypochondriac', 'ehypochondriacs', 'eighth', 'eightyearold', 'einstein', 'einsteins', 'eitheror', 'el', 'elaborate', 'elaine', 'elastic', 'elba', 'eldercare', 'elderly', 'elearning', 'election', 'electric', 'electrical', 'electrodes', 'electronic', 'electronically', 'electronics', 'element', 'elementary', 'elephant', 'elephantiasis', 'elevated', 'elevator', 'eligibility', 'eligible', 'eliminate', 'eliminated', 'eliminating', 'elite', 'elizabeth', 'elizabethlandau', 'elle', 'ellie', 'elliptical', 'elmo', 'elses', 'elusive', 'em', 'email', 'emails', 'embarrassed', 'embed', 'embrace', 'embraced', 'embraces', 'embryos', 'emerge', 'emergencies', 'emergencieseven', 'emergency', 'emergent', 'emerging', 'emilyletts', 'emirates', 'emma', 'emmerdale', 'emojis', 'emory', 'emotion', 'emotional', 'emotions', 'empathy', 'employee', 'employees', 'employers', 'empowered', 'empoweredpatients', 'emt', 'encephalitis', 'encephalopathy', 'encounter', 'encourage', 'encouragement', 'encouraging', 'end', 'endanger', 'endangeredriver', 'endearing', 'ended', 'endemic', 'endgame', 'ending', 'endoflife', 'endometrial', 'endometriosis', 'endorphin', 'ends', 'endstage', 'endurance', 'endure', 'enema', 'enemy', 'energizing', 'energy', 'enforce', 'enforced', 'engage', 'engagement', 'engaging', 'engine', 'engineer', 'engineering', 'england', 'englands', 'english', 'enhance', 'enhancement', 'enhancing', 'enjoy', 'enjoyed', 'enjoying', 'enjoyment', 'enjoys', 'enlarged', 'enlargements', 'enormous', 'enot', 'enriched', 'enrique', 'enroll', 'enrollment', 'ensure', 'enter', 'entered', 'entering', 'enteromedics', 'enterovirus', 'enters', 'entertainer', 'entire', 'entirely', 'entitled', 'entrees', 'entrepreneurial', 'entry', 'environ', 'environment', 'environmental', 'envy', 'enzymes', 'ep', 'epic', 'epicenter', 'epidemic', 'epidemics', 'epidural', 'epilepsy', 'epileptic', 'episode', 'equal', 'equally', 'equator', 'equipment', 'equipped', 'equivalent', 'er', 'era', 'eradicate', 'eradicated', 'eradicating', 'eradication', 'erase', 'ereaders', 'erectile', 'erects', 'eric', 'erik', 'erotic', 'error', 'errors', 'errr', 'erupts', 'es', 'escalator', 'escalators', 'escapee', 'escapes', 'esophageal', 'esophagus', 'esp', 'espec', 'especially', 'essay', 'essential', 'essex', 'essure', 'est', 'estatic', 'estimate', 'estimates', 'estrogen', 'et', 'ethan', 'ethical', 'ethics', 'ethiopia', 'ethiopian', 'ethnic', 'ethnicity', 'etiquette', 'etpt', 'eu', 'eunuchs', 'euphoric', 'europe', 'european', 'europes', 'euthanasia', 'euthanize', 'euthanizes', 'evacuated', 'evacuates', 'evacuating', 'evacuation', 'evacuations', 'evade', 'evaluate', 'evaluated', 'evans', 'eve', 'evened', 'evening', 'evenings', 'event', 'events', 'eventually', 'everett', 'everybody', 'everyday', 'everymins', 'everyone', 'everyones', 'everystepcounts', 'everythings', 'evidence', 'evidencebased', 'evocative', 'evolution', 'evolutionary', 'evolved', 'evolving', 'ew', 'ewwwww', 'ex', 'exact', 'exactly', 'exaggerating', 'exam', 'examine', 'examined', 'examines', 'example', 'exampleit', 'exams', 'excarer', 'excarers', 'excedrin', 'exceed', 'exceeds', 'excellence', 'excellent', 'exceptionally', 'exceptions', 'excercisingmuch', 'excess', 'exchange', 'excited', 'exciting', 'exclusive', 'exclusively', 'exconjoined', 'excuse', 'excuseproof', 'excuses', 'exdrug', 'exec', 'execution', 'exemptions', 'exercise', 'exercised', 'exerciser', 'exercisers', 'exercises', 'exercisewk', 'exercising', 'exert', 'exfattest', 'exfoliating', 'exhaled', 'exhausted', 'exhaustive', 'exhibit', 'exhospital', 'exhumed', 'exist', 'existed', 'existence', 'existing', 'exists', 'exit', 'exits', 'exmamps', 'exnflers', 'exoskeleton', 'exotic', 'expand', 'expanded', 'expanding', 'expands', 'expansion', 'expect', 'expectancy', 'expectant', 'expected', 'expecting', 'expenses', 'expensive', 'experience', 'experiences', 'experiencing', 'experiment', 'experimental', 'experiments', 'expert', 'experts', 'expilot', 'expiration', 'expired', 'explain', 'explained', 'explainer', 'explaining', 'explains', 'explanation', 'exploded', 'exploited', 'explore', 'explored', 'explorers', 'explosive', 'exporting', 'expose', 'exposed', 'exposes', 'exposing', 'exposure', 'exposures', 'express', 'expressions', 'expro', 'expsychiatric', 'exsmokers', 'exsoldier', 'exstafford', 'exsuper', 'extend', 'extended', 'extends', 'extension', 'extent', 'external', 'extinction', 'extra', 'extract', 'extradition', 'extrafirm', 'extraordinary', 'extreme', 'extremely', 'extremes', 'eye', 'eyeburn', 'eyelashes', 'eyelid', 'eyeliner', 'eyes', 'eyesight', 'f', 'fab', 'fabric', 'fabrics', 'fabulous', 'face', 'facebook', 'faced', 'faces', 'facetime', 'facetoface', 'facets', 'facial', 'facilitate', 'facility', 'facing', 'fact', 'factchecking', 'factor', 'factordrc', 'factories', 'factors', 'factory', 'facts', 'fad', 'fade', 'fads', 'faecal', 'faeces', 'fail', 'failed', 'failing', 'failings', 'fails', 'failure', 'failures', 'fainting', 'fair', 'fairing', 'fairytale', 'faith', 'faithful', 'fake', 'fakeand', 'faked', 'fakes', 'faking', 'fall', 'fallen', 'falling', 'fallout', 'falls', 'false', 'fam', 'fame', 'famer', 'familiar', 'families', 'family', 'familys', 'famine', 'famous', 'famouslies', 'fan', 'fanconi', 'fancy', 'fangirling', 'fans', 'fantasies', 'fantastic', 'fantasy', 'faq', 'faqs', 'far', 'farage', 'farah', 'fare', 'farhttpcnnitcwmiid', 'farm', 'farme', 'farmers', 'farmersmarket', 'farms', 'farmworkers', 'farther', 'fascinating', 'fashion', 'fashionable', 'fast', 'faster', 'fastfood', 'fastfoodloving', 'fasting', 'fastpaced', 'fasttracks', 'fat', 'fatal', 'fatalities', 'fatality', 'fatban', 'fatburning', 'fate', 'fatfighting', 'father', 'fatherhood', 'fathers', 'fatherson', 'fatigue', 'fatman', 'fatness', 'fats', 'fatshaming', 'fatsodium', 'fattening', 'fatter', 'fattest', 'fatty', 'fauja', 'fault', 'faulty', 'faux', 'fav', 'fave', 'favorite', 'favorites', 'favour', 'favre', 'favs', 'fb', 'fbchat', 'fd', 'fda', 'fdas', 'fds', 'fear', 'feared', 'fearing', 'fears', 'feat', 'feathers', 'feature', 'featured', 'featuredsection', 'features', 'featuring', 'feb', 'february', 'fecal', 'feces', 'fed', 'federal', 'feds', 'fee', 'feed', 'feedback', 'feeding', 'feedings', 'feel', 'feelgood', 'feeling', 'feelings', 'feels', 'fees', 'feet', 'felix', 'fell', 'fellow', 'felt', 'female', 'females', 'fence', 'fend', 'feng', 'fentanyl', 'ferment', 'fertile', 'fertility', 'festival', 'festive', 'fetal', 'fetus', 'fetuses', 'fever', 'fewer', 'ff', 'fgm', 'fgms', 'fi', 'fiancee', 'fiasco', 'fib', 'fiber', 'fiberrich', 'fibers', 'fibre', 'fibrillation', 'fibroid', 'fibromyalgia', 'fibrosis', 'fiction', 'fictional', 'fidgeting', 'field', 'fields', 'fiery', 'fifteenminute', 'fifth', 'fifthgrader', 'fight', 'fighter', 'fighters', 'fighting', 'fights', 'figure', 'figures', 'file', 'filed', 'files', 'filipino', 'filler', 'fillers', 'filling', 'fillings', 'film', 'filming', 'films', 'filter', 'filtered', 'filters', 'filthy', 'filtration', 'fin', 'final', 'finally', 'finances', 'financial', 'finding', 'findings', 'finds', 'fine', 'fined', 'finer', 'fines', 'finger', 'fingers', 'finish', 'finished', 'finishing', 'fired', 'firefighter', 'firefighters', 'firehouse', 'fires', 'firm', 'firmly', 'firms', 'firstever', 'firstperson', 'firstresponders', 'fiscal', 'fischer', 'fish', 'fisher', 'fishes', 'fishing', 'fist', 'fistclinching', 'fists', 'fistula', 'fit', 'fitbit', 'fitbits', 'fitf', 'fitfam', 'fitfamiles', 'fitfamilies', 'fitnation', 'fitness', 'fitquote', 'fitspiration', 'fitted', 'fitter', 'fittest', 'fiveaday', 'fives', 'fix', 'fixable', 'fixation', 'fixed', 'fixes', 'fixing', 'fizzles', 'fizzy', 'fizzzzzz', 'fl', 'flags', 'flaky', 'flame', 'flamin', 'flaming', 'flare', 'flares', 'flash', 'flashbacks', 'flashes', 'flashing', 'flat', 'flatten', 'flatter', 'flavor', 'flavored', 'flavorings', 'flavorless', 'flavors', 'flavoured', 'flawed', 'flax', 'flaxseed', 'fleeing', 'fleet', 'flesheating', 'flew', 'flexibility', 'flexible', 'flight', 'flights', 'flimsy', 'flock', 'floodhit', 'flooding', 'floods', 'floor', 'floors', 'florida', 'floss', 'flossing', 'flour', 'flow', 'flowed', 'flowers', 'flowing', 'flown', 'flows', 'flu', 'fluent', 'fluid', 'fluids', 'fluoridation', 'fluqs', 'flurelated', 'flurisk', 'flush', 'flushes', 'flutreatments', 'fly', 'flying', 'foam', 'focus', 'focused', 'focuses', 'focusing', 'foetal', 'foetuses', 'fog', 'folate', 'foley', 'folic', 'follow', 'followed', 'followers', 'followfriday', 'following', 'follows', 'food', 'foodborne', 'fooddiet', 'foodlabel', 'foodlabels', 'foodlove', 'foodproducing', 'foods', 'foodsafety', 'foodsdrc', 'fool', 'foot', 'footandmouth', 'football', 'footballer', 'footballers', 'footballs', 'footballsized', 'footbath', 'footsteps', 'footwear', 'for', 'force', 'forced', 'forceps', 'forcing', 'foreign', 'foresees', 'forest', 'forever', 'forget', 'forgetful', 'forgetfulness', 'forgive', 'forgiving', 'forgotten', 'fork', 'forks', 'form', 'formal', 'formaldehyde', 'formation', 'formed', 'forms', 'formula', 'forties', 'fortnight', 'forward', 'foster', 'fought', 'foul', 'fouls', 'foundation', 'founder', 'fountain', 'fourhour', 'fourth', 'fowler', 'fox', 'fr', 'fragment', 'fragrancefree', 'fragrant', 'frail', 'frailest', 'frailty', 'frame', 'framework', 'francais', 'france', 'francis', 'francisco', 'francoeur', 'frank', 'frankenfruit', 'frankie', 'fraternity', 'fraud', 'frazzled', 'freak', 'freaked', 'freakouts', 'free', 'freed', 'freedom', 'freel', 'freeze', 'freezes', 'freezing', 'french', 'frequent', 'frequently', 'fresh', 'freshen', 'freshfruitfridays', 'freshman', 'freud', 'fri', 'friday', 'fridays', 'fridge', 'fried', 'frieden', 'friend', 'friendly', 'friends', 'friendship', 'friendships', 'fries', 'fringe', 'frisbeefootball', 'frith', 'frogs', 'frontal', 'frontier', 'frontline', 'frostbite', 'frostbitten', 'frosty', 'frozen', 'frozenthemed', 'fructose', 'fruit', 'fruits', 'fruitsveggies', 'fruity', 'frustrating', 'frustration', 'frustrations', 'ftc', 'ftw', 'fuel', 'fueled', 'fueling', 'fuels', 'fukushima', 'fullbody', 'fuller', 'fully', 'fumes', 'fun', 'function', 'functional', 'functionally', 'fund', 'fundamental', 'fundamentally', 'funded', 'funding', 'fundraiser', 'fundraising', 'funds', 'fungal', 'funkhouser', 'funky', 'funny', 'furious', 'fury', 'fusion', 'fuss', 'future', 'fword', 'g', 'ga', 'gadget', 'gadgets', 'gaga', 'gain', 'gained', 'gaining', 'gainobesity', 'gains', 'gal', 'gallery', 'gals', 'gamble', 'gamblers', 'game', 'gamechanging', 'gamer', 'games', 'gaming', 'gammy', 'gap', 'gaps', 'garbled', 'gardasil', 'garden', 'gardening', 'gardenyours', 'garlic', 'garments', 'garner', 'gas', 'gasp', 'gasping', 'gasproducing', 'gassiest', 'gassy', 'gastric', 'gastroenteritis', 'gastrointestinal', 'gate', 'gates', 'gateway', 'gave', 'gay', 'gaza', 'gd', 'gear', 'gears', 'geeks', 'gehrigs', 'gel', 'gelatine', 'geldof', 'gellar', 'gels', 'gen', 'gender', 'genderabortion', 'gene', 'genentech', 'general', 'generalised', 'generalizations', 'generally', 'generate', 'generation', 'generations', 'generic', 'generosity', 'genes', 'genetesting', 'genetic', 'genetically', 'geneticists', 'genetics', 'geneva', 'genital', 'genitals', 'genius', 'genome', 'genomes', 'gently', 'gents', 'genuine', 'genuinely', 'geographic', 'geography', 'george', 'georgia', 'gerbils', 'germ', 'german', 'germans', 'germanwings', 'germany', 'germaphobs', 'germiest', 'germs', 'gestational', 'getcovered', 'getfit', 'gets', 'getting', 'gettng', 'ghana', 'ghost', 'gi', 'giant', 'gift', 'giftguide', 'gifts', 'gig', 'gilenya', 'gillises', 'gimmick', 'ginger', 'ginkgo', 'girl', 'girls', 'giveblood', 'given', 'giver', 'gives', 'giving', 'glad', 'glaring', 'glasgow', 'glass', 'glasses', 'glassexplorer', 'glassspecked', 'glaucoma', 'glaxo', 'glaxosmithkline', 'gleason', 'glimpse', 'glitches', 'global', 'globalization', 'globally', 'gloves', 'glow', 'glowing', 'glucose', 'glue', 'glues', 'gluten', 'glutenfree', 'gmc', 'gmo', 'gmos', 'goahead', 'goal', 'goals', 'god', 'godfather', 'gods', 'goes', 'goggle', 'goggles', 'going', 'gold', 'golden', 'goldfish', 'goldfishs', 'golf', 'golfer', 'gone', 'gonna', 'gonorrhea', 'gonorrhoea', 'good', 'goodbye', 'goodforyourboobs', 'goodforyourmouth', 'goodies', 'goods', 'gooey', 'google', 'googledoodle', 'goopapproved', 'gored', 'goredforwomen', 'gorilla', 'gossip', 'got', 'gothere', 'goto', 'gotta', 'gotten', 'gout', 'gov', 'government', 'governor', 'gp', 'gps', 'gr', 'grab', 'grabngo', 'grace', 'gracefully', 'gracehopper', 'graces', 'gracie', 'grade', 'grades', 'gradual', 'gradually', 'grain', 'grains', 'grams', 'gran', 'grand', 'grandmas', 'grandmother', 'grandparenting', 'grandparents', 'grandson', 'granola', 'granted', 'grants', 'granulated', 'grapefruit', 'grapples', 'grateful', 'gratitude', 'grave', 'graves', 'gravity', 'gray', 'grays', 'graze', 'greasy', 'great', 'greater', 'greatest', 'greatgrandfather', 'greatgrandkids', 'greatly', 'greece', 'greed', 'greek', 'green', 'greenpeace', 'greens', 'greentea', 'greenwich', 'grew', 'grey', 'greys', 'grief', 'grieving', 'grill', 'grilled', 'grilling', 'grim', 'grimacing', 'grind', 'grinding', 'grips', 'grocery', 'groggy', 'groom', 'gross', 'grotto', 'ground', 'groundbreaking', 'group', 'groupexercise', 'groups', 'grow', 'growing', 'grown', 'grows', 'growth', 'grt', 'gruesome', 'gsk', 'gspot', 'gt', 'guantanamo', 'guarantee', 'guarding', 'guernseys', 'guess', 'guests', 'guidance', 'guide', 'guided', 'guidelines', 'guidelinesbeing', 'guides', 'guiding', 'guilt', 'guiltfree', 'guilty', 'guinea', 'guineas', 'guinness', 'guitar', 'gullet', 'gum', 'gums', 'gun', 'guns', 'gupta', 'guru', 'gussone', 'gut', 'guy', 'guys', 'gwyneth', 'gyford', 'gym', 'gymetiquette', 'gyms', 'gyno', 'gypo', 'h', 'ha', 'habanero', 'habit', 'habits', 'hachi', 'hack', 'hackable', 'hacked', 'hackers', 'hacks', 'haemophilia', 'haemorrhage', 'hail', 'hailed', 'hails', 'hair', 'hairdryers', 'hairfac', 'hairloss', 'haiti', 'haitis', 'haiyan', 'hajj', 'half', 'halfpound', 'hall', 'halleberry', 'halloween', 'hallucinate', 'hallucination', 'halperin', 'halperins', 'halt', 'halted', 'halting', 'halts', 'halve', 'halved', 'halves', 'halving', 'hamburger', 'hand', 'handed', 'handfuls', 'handheld', 'handle', 'handles', 'handroid', 'hands', 'handsfree', 'handshake', 'handshakes', 'handsoff', 'handwashing', 'hang', 'hanging', 'hangout', 'hangover', 'hangoverfree', 'hangovers', 'hangry', 'hantavirus', 'happen', 'happened', 'happening', 'happens', 'happier', 'happiest', 'happily', 'happiness', 'happpy', 'happy', 'happyday', 'happymonday', 'happynewyear', 'hara', 'harassed', 'harbour', 'hard', 'hardening', 'harder', 'hardest', 'hardig', 'hardly', 'hardtospot', 'hardy', 'harm', 'harmful', 'harming', 'harmon', 'harms', 'haroldramis', 'harried', 'harrison', 'harrowing', 'harry', 'harsh', 'harvard', 'harvested', 'harvests', 'hashtag', 'hashtah', 'hat', 'hate', 'haul', 'hav', 'haven', 'havens', 'havent', 'having', 'havoc', 'hawaii', 'hawaiians', 'hawking', 'hay', 'hayleys', 'hazard', 'hazardous', 'hazards', 'hazelnuts', 'hazing', 'hazmat', 'hca', 'hdl', 'he', 'hea', 'head', 'headache', 'headaches', 'headbanging', 'headed', 'heading', 'headline', 'headlines', 'headphones', 'heads', 'headset', 'heal', 'healer', 'healing', 'heals', 'health', 'healthcare', 'healthfact', 'healthfitness', 'healthful', 'healthfully', 'healthier', 'healthiest', 'healthily', 'healthpromoting', 'healthtalk', 'healthtalkq', 'healthtech', 'healthy', 'healthyeating', 'healthyliving', 'healthymy', 'hear', 'heard', 'hearing', 'hearingimpaired', 'hearings', 'hears', 'heart', 'heartattack', 'heartbeat', 'heartbleed', 'heartbreak', 'heartbreaker', 'heartbreaking', 'heartburn', 'heartburncancer', 'heartdisease', 'heartfelt', 'hearthealth', 'hearthealthmonth', 'hearthealthy', 'hearthealthyliving', 'heartland', 'heartmonth', 'hearts', 'heartwrenching', 'hearty', 'heat', 'heated', 'heathrow', 'heating', 'heatstroke', 'heavier', 'heavily', 'heavy', 'heb', 'hedline', 'heels', 'height', 'heighten', 'heightened', 'heimlich', 'hel', 'held', 'helicopter', 'hell', 'hellish', 'hello', 'helmet', 'helmetlike', 'helmets', 'help', 'helped', 'helpers', 'helpful', 'helping', 'helpline', 'helps', 'hemingway', 'hemorrhoids', 'hemp', 'henrietta', 'hens', 'henson', 'hep', 'hepa', 'hepatitis', 'herb', 'herbal', 'herbicide', 'herbs', 'herd', 'here', 'herecreating', 'heres', 'hernia', 'hero', 'heroes', 'heroic', 'heroin', 'heroines', 'heroinoverdose', 'heroins', 'heros', 'herpes', 'herring', 'hes', 'hesitant', 'heston', 'hever', 'hey', 'hf', 'hg', 'hi', 'hibernating', 'hiccups', 'hidden', 'hide', 'hides', 'hiding', 'high', 'higher', 'highest', 'highfat', 'highfiber', 'highincome', 'highlight', 'highlighted', 'highlights', 'highly', 'highpotency', 'highpoverty', 'highprotein', 'highrisk', 'highs', 'hightech', 'hiit', 'hijacked', 'hike', 'hill', 'hillary', 'hills', 'hinckley', 'hinders', 'hint', 'hints', 'hip', 'hipaa', 'hipimplants', 'hippa', 'hips', 'hire', 'hired', 'hiring', 'hispanic', 'hispanics', 'historic', 'histories', 'history', 'hit', 'hitched', 'hitchhikers', 'hitech', 'hits', 'hitting', 'hiv', 'hivfree', 'hivpositive', 'hivs', 'hivunites', 'hm', 'hmrc', 'hn', 'ho', 'hoarders', 'hockey', 'hodgkin', 'hoffman', 'hog', 'hold', 'holding', 'holds', 'hole', 'holiday', 'holidaygifts', 'holidayhurt', 'holidays', 'holistic', 'hollande', 'hollywood', 'hollywoods', 'holograms', 'holy', 'home', 'homego', 'homeless', 'homemade', 'homemakers', 'homeopathy', 'homer', 'homes', 'homey', 'homicides', 'honduran', 'honest', 'honestly', 'honey', 'hong', 'honor', 'honorary', 'honoring', 'honoured', 'honours', 'hookah', 'hookahs', 'hop', 'hope', 'hopeful', 'hopes', 'hoping', 'horizon', 'horizontal', 'hormonal', 'hormone', 'hormones', 'horriblis', 'horrific', 'horror', 'horse', 'horses', 'horton', 'hospice', 'hospices', 'hospital', 'hospitalization', 'hospitalizations', 'hospitalized', 'hospitalizes', 'hospitals', 'hospitalshttpcnnitknmq', 'host', 'hostess', 'hostile', 'hosting', 'hosts', 'hot', 'hotel', 'hotline', 'hotspot', 'hotspots', 'hottest', 'hotzone', 'hour', 'hours', 'house', 'household', 'houses', 'housetohouse', 'housework', 'housing', 'houston', 'houstons', 'how', 'hows', 'hpv', 'hr', 'hrday', 'hrs', 'hrt', 'hrtusers', 'hs', 'hse', 'ht', 'htt', 'hub', 'hubby', 'hubbys', 'huddles', 'hudson', 'hudsons', 'hug', 'huge', 'hughes', 'hugs', 'hulk', 'hulu', 'human', 'humanfactor', 'humanitarian', 'humanlike', 'humans', 'humble', 'humidifier', 'humiliating', 'hummus', 'hundreds', 'hunger', 'hungerdefying', 'hungergames', 'hungerstrikers', 'hungover', 'hungry', 'hunt', 'hunter', 'hunts', 'hurdle', 'hurricane', 'hurry', 'hurt', 'hurting', 'hurts', 'husband', 'husbands', 'hvac', 'hydrate', 'hydrated', 'hydrating', 'hydration', 'hydro', 'hydrocodone', 'hydrogenated', 'hydrogenation', 'hydrospinning', 'hyena', 'hygiene', 'hype', 'hyperbaric', 'hyperplasia', 'hypertensive', 'hypnosis', 'hypnotised', 'hypoglycemia', 'hypothesis', 'hypoxia', 'hysterectomies', 'hysterectomy', 'hysteria', 'hysterical', 'i', 'ian', 'ibd', 'ibs', 'ibuprofen', 'ice', 'iced', 'icelanders', 'icon', 'icu', 'icymi', 'id', 'idaho', 'idea', 'ideal', 'ideas', 'identical', 'identified', 'identifies', 'identify', 'identifying', 'identity', 'idiotic', 'idol', 'idonthavetimefor', 'idris', 'iffsasrm', 'iglesias', 'ignites', 'ignorant', 'ignore', 'ignored', 'ignores', 'ignoring', 'iis', 'ikaria', 'ikea', 'ill', 'illegal', 'illegally', 'illfated', 'illinois', 'illness', 'illnesses', 'illuminating', 'illusion', 'im', 'image', 'images', 'imagine', 'imaging', 'imbibes', 'imf', 'immensely', 'immigrant', 'immigrants', 'immigration', 'imminent', 'immu', 'immune', 'immunisation', 'immunised', 'immunity', 'immunization', 'immunizes', 'immunotherapy', 'imo', 'imp', 'impact', 'impacted', 'impacts', 'impaired', 'impairs', 'impaled', 'impedes', 'impending', 'imperfect', 'imperfections', 'implant', 'implanted', 'implants', 'implications', 'imply', 'importance', 'important', 'imported', 'imports', 'imposes', 'imposing', 'impossible', 'impotence', 'impotent', 'impressed', 'imprisoned', 'improve', 'improved', 'improvements', 'improves', 'improving', 'imprv', 'impt', 'impulse', 'impulses', 'in', 'inaction', 'inactive', 'inactivity', 'inadequate', 'inafter', 'incentive', 'incentives', 'incessant', 'incest', 'inch', 'inches', 'inching', 'incidence', 'incident', 'incidents', 'incisions', 'incld', 'incline', 'include', 'includes', 'including', 'income', 'incoming', 'incompetence', 'incomplete', 'incontinence', 'inconvenient', 'incorporate', 'incorporates', 'incorporating', 'incr', 'increase', 'increased', 'increases', 'increasing', 'increasingly', 'incredible', 'incredibly', 'incubation', 'incurable', 'indecent', 'independenceday', 'index', 'india', 'indian', 'indiana', 'indians', 'indias', 'indicates', 'indicators', 'indicted', 'indigestion', 'individual', 'indonesia', 'indoor', 'indoors', 'induced', 'indulge', 'indulgences', 'industry', 'industryfunded', 'industrys', 'inequality', 'inevitable', 'inexpensive', 'inexplicable', 'infant', 'infants', 'infect', 'infected', 'infection', 'infections', 'infectious', 'infects', 'infert', 'infertile', 'infertility', 'infestation', 'infinite', 'inflammation', 'inflammatory', 'influence', 'influences', 'influenza', 'info', 'infographic', 'infomy', 'information', 'informative', 'informed', 'infrastructure', 'infrequently', 'ingest', 'ingesting', 'ingestion', 'ingred', 'ingredient', 'ingredients', 'ingredwheat', 'ingrid', 'ingrown', 'inhalers', 'inherited', 'inheriting', 'inherits', 'inhospital', 'inhuman', 'initiative', 'injectables', 'injected', 'injection', 'injections', 'injure', 'injured', 'injuries', 'injury', 'injuryfree', 'inlaws', 'inlc', 'inmates', 'inner', 'innovations', 'innovative', 'inoperable', 'inpatient', 'input', 'inquiring', 'inquiry', 'insect', 'insecticide', 'inserted', 'inside', 'insideman', 'insideyourbrain', 'insight', 'insightful', 'insights', 'insist', 'insomnia', 'inspection', 'inspections', 'inspector', 'inspectors', 'inspiration', 'inspirational', 'inspire', 'inspired', 'inspires', 'inspiring', 'instagram', 'installing', 'installment', 'instance', 'instant', 'instantly', 'instead', 'instinct', 'institutes', 'institutional', 'institutions', 'instrument', 'insulin', 'insurance', 'insurer', 'insurers', 'insuring', 'intake', 'intakes', 'intelligence', 'intended', 'intense', 'intensely', 'intensifies', 'intensity', 'intensive', 'intentional', 'interactive', 'interdisciplinary', 'interested', 'interesting', 'interests', 'intermittent', 'intern', 'internal', 'internally', 'international', 'internet', 'internship', 'interprets', 'interrupted', 'interrupting', 'interrupts', 'intersection', 'intersex', 'interval', 'intervention', 'interview', 'interviewed', 'interviewer', 'intestinal', 'intestines', 'intoxicating', 'intravenous', 'intrepid', 'introduce', 'introduced', 'introduces', 'introduction', 'intrusive', 'intuition', 'intvu', 'invaders', 'invaluable', 'invasive', 'invent', 'invention', 'inventions', 'invents', 'invest', 'investigate', 'investigated', 'investigates', 'investigating', 'investigation', 'investigative', 'investigators', 'investment', 'invisble', 'invisible', 'invite', 'invites', 'inviting', 'involve', 'involved', 'involving', 'iowa', 'ipad', 'iphone', 'iphones', 'iq', 'iran', 'iraq', 'iraqi', 'ireallyhatewhen', 'ireland', 'ireport', 'ireportawards', 'ireporter', 'ireporters', 'ireports', 'irish', 'irishinspired', 'irishman', 'iron', 'ironchef', 'ironman', 'irregular', 'irrelevant', 'irresponsible', 'irritate', 'irritating', 'irritation', 'isaac', 'island', 'islanders', 'isn', 'isnt', 'isolate', 'isolated', 'isolation', 'israel', 'israeli', 'issue', 'issued', 'issues', 'it', 'italian', 'italy', 'italys', 'itch', 'itchdown', 'itching', 'itchy', 'item', 'items', 'itll', 'its', 'itstimeforyoutorealize', 'iud', 'iv', 'ive', 'ivf', 'ivory', 'j', 'jab', 'jabs', 'jackson', 'jacquewilson', 'jahi', 'jail', 'jailed', 'jails', 'james', 'jamie', 'jampj', 'jan', 'janet', 'janice', 'janney', 'january', 'japan', 'japanese', 'japans', 'jar', 'jason', 'jaw', 'jawdropping', 'jaxe', 'jayden', 'jazz', 'jazzercizewhatsplayingnow', 'jean', 'jeans', 'jeeves', 'jeff', 'jeffery', 'jen', 'jenkins', 'jennifer', 'jeopardy', 'jerry', 'jersey', 'jessica', 'jesus', 'jet', 'jewish', 'jfk', 'jill', 'jillian', 'jim', 'jimbo', 'jimmy', 'jittery', 'jlo', 'jn', 'joan', 'joana', 'job', 'jobless', 'jobs', 'joe', 'joes', 'jogging', 'john', 'johns', 'johnson', 'join', 'joined', 'joinedup', 'joiners', 'joining', 'joins', 'joint', 'joints', 'joke', 'jokes', 'jolie', 'jolies', 'jolts', 'jonahs', 'jones', 'jordan', 'josh', 'joshua', 'journal', 'journaling', 'journalism', 'journalist', 'journals', 'journey', 'joy', 'joyce', 'joyrecipemakeover', 'jr', 'judge', 'judged', 'judgement', 'judges', 'juice', 'juicing', 'julieanna', 'july', 'jump', 'jumped', 'jumping', 'jumps', 'jumpstart', 'junior', 'junk', 'junkfood', 'jurors', 'just', 'justice', 'justices', 'justsaying', 'k', 'kabul', 'kailahun', 'kajillion', 'kale', 'kali', 'kamens', 'kamut', 'kandel', 'kandels', 'kandinsky', 'kangaroo', 'kansas', 'kaput', 'kate', 'kathleen', 'kcal', 'kcgoesred', 'keeping', 'keeps', 'kegels', 'kelley', 'kelly', 'kennedy', 'kent', 'kentbrantly', 'kentucky', 'kenya', 'kenyas', 'kept', 'kerb', 'kerry', 'ketamine', 'ketchup', 'kettle', 'kettlebells', 'kevin', 'kevorkian', 'key', 'keyhole', 'keys', 'kezia', 'khat', 'kia', 'kick', 'kicked', 'kicking', 'kickoff', 'kickstart', 'kickstarts', 'kid', 'kidnapping', 'kidney', 'kidneys', 'kids', 'kilimanjaro', 'kill', 'killed', 'killer', 'killers', 'killing', 'killings', 'kills', 'kimmel', 'kin', 'kind', 'kindercare', 'kindergarten', 'kindness', 'kinds', 'king', 'kings', 'kinshasa', 'kirby', 'kiss', 'kissing', 'kisspeptin', 'kit', 'kitchen', 'kitemark', 'kits', 'kitten', 'kllls', 'kmf', 'knee', 'knees', 'knew', 'knife', 'knighted', 'knit', 'knitters', 'knitting', 'kno', 'knocking', 'know', 'knowing', 'knowit', 'knowledge', 'known', 'knownpossible', 'knows', 'koch', 'koebner', 'kona', 'kong', 'kool', 'koops', 'korea', 'kournikova', 'kraft', 'kreme', 'krispy', 'kristina', 'kroger', 'krokodil', 'kunis', 'kushner', 'kuwaitis', 'l', 'la', 'lab', 'labcoated', 'label', 'labeled', 'labeling', 'labels', 'labgrown', 'labor', 'laboratory', 'labour', 'labours', 'labs', 'lace', 'lacey', 'lack', 'lacking', 'lacks', 'lactation', 'lactic', 'ladder', 'ladies', 'lady', 'lagging', 'laid', 'lake', 'lakers', 'lamas', 'lamb', 'lamps', 'lance', 'land', 'landau', 'landed', 'landmark', 'lands', 'language', 'languages', 'lankan', 'laos', 'lapband', 'lapse', 'lapses', 'large', 'largely', 'larger', 'largescale', 'largest', 'lark', 'larson', 'las', 'lasagna', 'laser', 'last', 'lastet', 'lasting', 'lasts', 'lat', 'late', 'lately', 'latenight', 'later', 'latest', 'latestage', 'lather', 'latin', 'latinas', 'latinos', 'latissimus', 'latte', 'laugh', 'laughing', 'laughter', 'launch', 'launched', 'launches', 'launching', 'laundry', 'lauren', 'laury', 'laverbread', 'law', 'lawful', 'lawmakers', 'lawn', 'lawrence', 'laws', 'lawsuit', 'lawyer', 'lax', 'laxative', 'lay', 'lazy', 'lb', 'lbs', 'lbsweek', 'ldl', 'le', 'lead', 'leader', 'leaders', 'leading', 'leads', 'leaflet', 'leafy', 'league', 'leak', 'leaking', 'leaky', 'lean', 'leaner', 'leaning', 'leap', 'leaps', 'learn', 'learned', 'learning', 'learns', 'learnt', 'lease', 'leave', 'leaves', 'leaving', 'lebanon', 'lecture', 'lecturer', 'led', 'leech', 'left', 'lefthanders', 'leftie', 'lefties', 'leftover', 'leftovers', 'leg', 'legacy', 'legal', 'legalise', 'legalization', 'legalize', 'legalized', 'legalizes', 'legalizing', 'legally', 'legend', 'legionella', 'legionnaires', 'legos', 'legs', 'legumes', 'leisurely', 'lend', 'length', 'lengthen', 'lens', 'lentil', 'lentils', 'leonard', 'leonardo', 'leone', 'leonean', 'leoneans', 'leones', 'leprosy', 'leptine', 'lesbians', 'leslie', 'lesserknown', 'lesson', 'lessons', 'lessonsfromjoe', 'let', 'lethal', 'lethally', 'lets', 'letsmove', 'letter', 'letters', 'letting', 'lettuce', 'leukaemia', 'leukemia', 'level', 'levelled', 'levelling', 'levels', 'lewisham', 'lgbt', 'lhu', 'liability', 'liars', 'lib', 'liberia', 'liberian', 'liberias', 'liberty', 'libido', 'lice', 'licence', 'license', 'licenses', 'lick', 'lid', 'lie', 'lied', 'lies', 'lieu', 'lif', 'life', 'lifechanging', 'lifeenhancing', 'lifelife', 'lifelong', 'lifes', 'lifesaver', 'lifesaving', 'lifespan', 'lifespans', 'lifestyle', 'lifestyles', 'lifesupport', 'lifeswork', 'lifethreatening', 'lifetime', 'lift', 'lifting', 'lifts', 'light', 'lighten', 'lighter', 'lightgold', 'lightning', 'lights', 'lightweight', 'like', 'likelihood', 'likely', 'likeminded', 'likes', 'lil', 'lillian', 'lilly', 'limb', 'limbo', 'limbs', 'limit', 'limitations', 'limited', 'limiting', 'limits', 'line', 'lineages', 'linebacker', 'linen', 'lines', 'linger', 'lingerie', 'lingering', 'lingers', 'lining', 'link', 'linked', 'linkedin', 'linking', 'links', 'lipid', 'lipids', 'lipitor', 'liquid', 'liquor', 'lisa', 'list', 'listen', 'listened', 'listeners', 'listeria', 'listeriosis', 'listing', 'lists', 'lite', 'literacy', 'literally', 'literature', 'litigation', 'little', 'littleknown', 'littlest', 'livable', 'live', 'lived', 'liver', 'livercancer', 'liverpool', 'livertransplant', 'lives', 'livestock', 'liveto', 'living', 'livinghttpowlyhlqez', 'livinghttpowlyhlqw', 'll', 'load', 'loaf', 'loans', 'lobby', 'lobbying', 'lobbyists', 'local', 'locate', 'locations', 'lock', 'lockdown', 'locked', 'lockedin', 'locks', 'locum', 'locums', 'lodged', 'lofat', 'log', 'logan', 'logging', 'lol', 'london', 'londons', 'loneliness', 'lonely', 'loner', 'long', 'longawaited', 'longdistance', 'longed', 'longer', 'longest', 'longevity', 'longlasting', 'longseparated', 'longterm', 'longtime', 'look', 'lookalikes', 'looked', 'looking', 'looks', 'loom', 'loop', 'loose', 'loosefitting', 'loosens', 'looser', 'lopez', 'lord', 'lords', 'lorrie', 'los', 'lose', 'loser', 'losers', 'loses', 'losing', 'loss', 'lossspiration', 'lost', 'lot', 'lotions', 'lots', 'lottery', 'lou', 'loud', 'louisiana', 'love', 'loved', 'lovehate', 'lover', 'loves', 'lovesick', 'lovett', 'loving', 'low', 'lowcal', 'lowcarb', 'lowcarbfriendly', 'lowcost', 'lowdown', 'lower', 'lowercalorie', 'lowering', 'lowers', 'lowertier', 'lowest', 'lowestfat', 'lowfat', 'lowimpact', 'lowincome', 'lowmeat', 'lowpriced', 'lowrisk', 'lows', 'lowsalt', 'lozenge', 'lsd', 'lt', 'ltbe', 'lube', 'lucas', 'luck', 'lucky', 'lucozade', 'lugger', 'lululemon', 'lumberjack', 'lunatic', 'lunch', 'lunches', 'lunchtime', 'lunesta', 'lung', 'lungcancer', 'lunge', 'lunges', 'lungs', 'lupita', 'lupus', 'lure', 'lurk', 'lustig', 'luv', 'lvls', 'lycopenepacked', 'lying', 'lyme', 'lymphocytic', 'lymphoma', 'lyon', 'm', 'ma', 'mac', 'machine', 'machinery', 'machines', 'macho', 'macmillan', 'macular', 'mad', 'madagascar', 'madcowdisease', 'maddoctors', 'madness', 'madnessthemed', 'madrid', 'magazine', 'magazines', 'maggot', 'maggots', 'magic', 'magically', 'magnet', 'magnetic', 'magnets', 'mahone', 'mailbox', 'main', 'maine', 'mainstream', 'maintain', 'maintaining', 'maintenance', 'maisie', 'major', 'majorie', 'majority', 'make', 'makeover', 'makeovers', 'maker', 'makers', 'makes', 'makeshift', 'makeup', 'making', 'makinghopehappen', 'malaga', 'malaria', 'malariainfected', 'malarias', 'malaysia', 'male', 'malepattern', 'males', 'malfunctioned', 'mali', 'malibu', 'malicious', 'malnutrition', 'malpractice', 'mamas', 'mammal', 'mammogram', 'mammograms', 'mampms', 'man', 'manage', 'management', 'manager', 'managers', 'manages', 'managing', 'manc', 'manchester', 'mandate', 'mandatory', 'mandela', 'mangos', 'mangosteen', 'mania', 'manipulated', 'manmade', 'mannequin', 'manner', 'manny', 'mans', 'manslaughter', 'mantra', 'manual', 'manually', 'manuever', 'manufacturer', 'map', 'mapped', 'mapping', 'maps', 'marathon', 'marathonaweek', 'marathoner', 'marathoners', 'marathons', 'march', 'marching', 'marfan', 'margaret', 'marigolds', 'marijuana', 'marijuanarelated', 'marine', 'mario', 'marital', 'mark', 'markers', 'market', 'marketing', 'marketplace', 'marketplaces', 'markets', 'marking', 'marlo', 'marriage', 'marriages', 'married', 'marries', 'marrow', 'marry', 'mars', 'marshall', 'martial', 'martinez', 'marvel', 'mary', 'maryland', 'mashed', 'mask', 'masked', 'masks', 'mass', 'massachusetts', 'massage', 'massive', 'mastectomies', 'mastectomy', 'master', 'masterchef', 'mastered', 'masters', 'mat', 'match', 'matcha', 'matches', 'matching', 'matchmaker', 'matchmaking', 'material', 'materials', 'maternal', 'maternity', 'math', 'mathematician', 'maths', 'mating', 'matrixstyle', 'matter', 'matters', 'matthew', 'mattresses', 'maurice', 'max', 'maximize', 'maybe', 'mayo', 'mayor', 'maysoon', 'maze', 'mcdonalds', 'mckenna', 'mclain', 'mclemore', 'mcmath', 'md', 'me', 'meal', 'meals', 'mealtime', 'mean', 'meaning', 'meaningful', 'meanings', 'means', 'meant', 'meantime', 'measles', 'measure', 'measures', 'measuring', 'meat', 'meatfish', 'meatfree', 'meats', 'meaty', 'mechanic', 'mechanism', 'med', 'media', 'mediation', 'medic', 'medicaid', 'medical', 'medically', 'medicare', 'medication', 'medications', 'medicinal', 'medicine', 'medicines', 'medics', 'medieval', 'meditate', 'meditating', 'meditation', 'mediterranean', 'mediterraneandiet', 'meds', 'meerkat', 'meet', 'meeting', 'meetings', 'meets', 'mega', 'megamillions', 'melanoma', 'melt', 'melting', 'member', 'members', 'membership', 'memoir', 'memorialday', 'memories', 'memorized', 'memory', 'men', 'meningitis', 'meningitisrelated', 'meningococcal', 'menopausal', 'menopause', 'mens', 'menshealth', 'menstrual', 'menstruation', 'mental', 'mentalhealth', 'mentalillness', 'mentally', 'mentaltoll', 'menu', 'menus', 'merck', 'mercknewlink', 'mercury', 'mere', 'merged', 'merger', 'merit', 'merry', 'mers', 'merscov', 'meryl', 'mesh', 'mess', 'message', 'messages', 'messedup', 'messes', 'messing', 'met', 'metabolic', 'metabolism', 'metal', 'metastatic', 'meter', 'metformin', 'meth', 'methadone', 'methamphetamine', 'methlike', 'method', 'methods', 'methuselah', 'metric', 'metro', 'metropolis', 'mexican', 'mexico', 'mg', 'mgmt', 'mi', 'mice', 'michael', 'michaelbrown', 'michaels', 'michelangelo', 'michelle', 'michigan', 'michiganbased', 'mickey', 'micro', 'microbe', 'microbes', 'microchip', 'micrograms', 'microscope', 'microscopic', 'microsleeps', 'microvascular', 'microwave', 'mid', 'middle', 'middleage', 'middleaged', 'middleschoolers', 'middleton', 'midlife', 'midmonth', 'midnight', 'midstaffs', 'midstage', 'midwest', 'midwestern', 'midwife', 'midwifeled', 'midwives', 'migraine', 'migraines', 'migrants', 'mil', 'mila', 'mild', 'milder', 'mile', 'miles', 'milestone', 'milestones', 'miley', 'miliband', 'military', 'milk', 'milked', 'milks', 'millennials', 'millennium', 'millet', 'million', 'millions', 'mimics', 'min', 'mind', 'mindbody', 'mindcalories', 'mindful', 'mindfuleating', 'mindfulness', 'minds', 'mindset', 'minecraft', 'mines', 'mini', 'miniaturized', 'minimal', 'minimally', 'minimize', 'minimizing', 'minimum', 'mining', 'miniscule', 'minister', 'ministers', 'ministroke', 'ministrokes', 'ministry', 'minnesota', 'minor', 'minorities', 'minority', 'minors', 'mins', 'mint', 'minus', 'minute', 'minutes', 'minutesweek', 'miracle', 'miracles', 'mirrors', 'miscarriage', 'miscarriages', 'misconceptions', 'misconduct', 'misdeeds', 'misdemeanor', 'misdiagnosed', 'misdiagnosis', 'miserable', 'misguided', 'mishandled', 'misinformed', 'mislabeled', 'misleading', 'misled', 'misplace', 'miss', 'missed', 'misses', 'missing', 'mission', 'mississippi', 'missouri', 'mistake', 'mistaken', 'mistakes', 'mistletoe', 'misunderstanding', 'misuse', 'misusing', 'mix', 'mixed', 'mixer', 'mixers', 'mixes', 'mixup', 'mke', 'mlb', 'mmmm', 'mmmmm', 'mmmmmm', 'mmr', 'mob', 'mobile', 'mobiles', 'mobility', 'mod', 'model', 'modeling', 'models', 'moderate', 'moderately', 'moderation', 'modern', 'modest', 'modification', 'modified', 'mogle', 'moisturize', 'moisturized', 'moisturizers', 'mold', 'moldovas', 'molecular', 'molecule', 'molecules', 'molly', 'mom', 'moment', 'momentum', 'moms', 'mon', 'mona', 'monday', 'mondaymorning', 'mondaymornings', 'mondays', 'money', 'monitor', 'monitored', 'monitoring', 'monitors', 'monkey', 'monkeys', 'monks', 'monogamy', 'monorail', 'monoxide', 'monrovia', 'monsanto', 'monster', 'montana', 'montefiorenyc', 'month', 'monthly', 'monthold', 'months', 'mood', 'moodaltering', 'moodboosting', 'moon', 'moonlights', 'moral', 'morale', 'morality', 'morals', 'morbidly', 'morgan', 'morgellons', 'morning', 'morningafter', 'morningafterpill', 'mornings', 'morningwhats', 'mortality', 'moskowitzs', 'mosquito', 'mosquitoborne', 'mosquitoes', 'most', 'mostbeautiful', 'mostused', 'mother', 'motherdaughter', 'motherhood', 'mothers', 'mothersday', 'mothertodaughter', 'motivate', 'motivated', 'motivates', 'motivation', 'motives', 'motocross', 'motor', 'motorbike', 'motorbiking', 'mots', 'mountain', 'mounting', 'mourns', 'mouse', 'moustache', 'mouth', 'mouthwash', 'mouthwatering', 'moved', 'moveitorloseit', 'movember', 'movement', 'movements', 'moves', 'movie', 'movies', 'moving', 'mozambique', 'mozart', 'mp', 'mps', 'mr', 'mri', 'mrsa', 'ms', 'msf', 'msp', 'msps', 'mstreatment', 'mt', 'mtg', 'mtvs', 'much', 'muchneeded', 'mud', 'mudder', 'muffin', 'muffins', 'muggles', 'mull', 'mulls', 'multimillion', 'multiorgan', 'multiple', 'multiples', 'multiplesclerosis', 'multivitamin', 'multivitamins', 'mum', 'mummies', 'mumps', 'mums', 'munches', 'munchies', 'muniz', 'mural', 'murder', 'murders', 'muscle', 'muscleenhancing', 'muscles', 'muscular', 'museums', 'mushrooms', 'music', 'musical', 'musicians', 'musicobsessed', 'musictherapy', 'muslim', 'mustard', 'mustdo', 'mustdos', 'musteat', 'mustfollow', 'musthave', 'mustread', 'musts', 'mutate', 'mutated', 'mutating', 'mutation', 'mutations', 'mutilation', 'myanmar', 'myers', 'myplate', 'mysteries', 'mysterious', 'mystery', 'myth', 'myths', 'n', 'nacho', 'nag', 'nail', 'nailing', 'naive', 'naked', 'namebrand', 'named', 'names', 'nami', 'nancy', 'nanotechnology', 'nap', 'napping', 'naps', 'napster', 'narcissism', 'narcissistic', 'narcolepsy', 'nares', 'narrative', 'narrowly', 'nasal', 'nascar', 'nasty', 'natalie', 'nation', 'national', 'nationalcoffeeday', 'nationalcondommonthbut', 'nationaldoughnutday', 'nationers', 'nations', 'nationwide', 'natl', 'natural', 'naturally', 'nature', 'naughty', 'nausea', 'nautica', 'navajo', 'navigate', 'navigating', 'navigators', 'navy', 'navys', 'nba', 'ncaa', 'nd', 'nealon', 'neanderthals', 'near', 'neardeath', 'neardrowning', 'nearest', 'nearly', 'nears', 'nearsighted', 'nearuniversal', 'neatly', 'nebraska', 'necessary', 'neck', 'neckyup', 'nectarines', 'need', 'needed', 'needing', 'needle', 'needlefree', 'needles', 'needlessly', 'needs', 'neets', 'neg', 'negative', 'negatively', 'negativity', 'neglect', 'neighbor', 'neighborhood', 'neighborhoods', 'neighbors', 'neknominate', 'nelson', 'nemo', 'neon', 'neonatal', 'nephew', 'nerve', 'nerves', 'netflix', 'netherlands', 'nets', 'network', 'networking', 'neuralgia', 'neuro', 'neurological', 'neuron', 'neurons', 'neuroscience', 'neurosurgeon', 'nevada', 'new', 'newborn', 'newborns', 'newday', 'newer', 'newest', 'newham', 'newlywed', 'news', 'newser', 'newstudy', 'newton', 'newtown', 'newyear', 'newyears', 'nextgeneration', 'nfl', 'nfls', 'nh', 'nhl', 'nhs', 'nhss', 'nhssocial', 'ni', 'niaw', 'nice', 'nicer', 'nickel', 'nicotine', 'nicu', 'nida', 'niece', 'nigeria', 'nigerian', 'nigh', 'night', 'nightcaps', 'nightclub', 'nighteating', 'nightmare', 'nightmares', 'nights', 'nightshifts', 'nighttime', 'nih', 'nike', 'nile', 'nina', 'ninas', 'ninth', 'nip', 'nipple', 'nis', 'nitrogen', 'nivison', 'nixon', 'nj', 'no', 'noaa', 'nobel', 'nobrainer', 'nod', 'noequipment', 'nofu', 'noise', 'noisy', 'nominee', 'nominees', 'nonbeating', 'nondairy', 'nondiet', 'nondrinkers', 'nonemergency', 'nonessential', 'noneu', 'nonhuman', 'nonnatural', 'nonopinion', 'nonperishable', 'nonprofit', 'nonrunners', 'nonsedating', 'nonsterile', 'nonurgent', 'nonvegans', 'noodles', 'noon', 'nope', 'norm', 'normal', 'norman', 'norovirus', 'norris', 'north', 'northeast', 'norway', 'nose', 'noses', 'nosh', 'noshow', 'nostringsattached', 'nosugaradded', 'notch', 'note', 'notes', 'notice', 'noticing', 'notified', 'notify', 'notoriouslyhardtotarget', 'notsodeadly', 'notsogood', 'notsoobvious', 'notsosweet', 'nov', 'novartis', 'novartiss', 'novavax', 'novel', 'november', 'np', 'npfcancer', 'nphw', 'nphwch', 'nphwchat', 'nsaid', 'nsaids', 'nuclear', 'nude', 'nuisance', 'number', 'numbered', 'numbers', 'numerous', 'nuns', 'nurs', 'nurse', 'nursery', 'nurses', 'nursing', 'nurture', 'nurturing', 'nus', 'nut', 'nutchewing', 'nutmeg', 'nutnut', 'nutrient', 'nutrients', 'nutrition', 'nutritional', 'nutritionist', 'nutritionistapproved', 'nutritionists', 'nutritionphysical', 'nutritious', 'nuts', 'nutsgrainsbeans', 'nutso', 'nutsseeds', 'nutt', 'nuture', 'ny', 'nyad', 'nyc', 'nyongo', 'nyt', 'nyus', 'o', 'oap', 'oaps', 'oat', 'oatmeal', 'oats', 'oatsmealsliced', 'obama', 'obamacare', 'obamas', 'obese', 'obesity', 'obesityhypertension', 'obesogenic', 'obgyn', 'obit', 'objection', 'obscure', 'observation', 'observing', 'obsess', 'obsessed', 'obsessing', 'obsession', 'obstacles', 'obstetric', 'obstruction', 'occasion', 'occasional', 'occur', 'occurs', 'ocd', 'ocean', 'oct', 'octavio', 'october', 'octomomtype', 'ocular', 'od', 'odd', 'odds', 'odor', 'odour', 'odours', 'oecd', 'oesophageal', 'off', 'offend', 'offenders', 'offer', 'offered', 'offering', 'offers', 'office', 'officer', 'offices', 'official', 'officially', 'officials', 'offlabel', 'offroad', 'oft', 'oftenlet', 'oftoverlooked', 'oh', 'ohagan', 'ohio', 'oie', 'oil', 'oils', 'ointments', 'ok', 'oklahoma', 'oks', 'ol', 'old', 'older', 'oldest', 'olds', 'oldschool', 'olive', 'oliver', 'olympic', 'olympiclevel', 'om', 'omaha', 'omani', 'ombudsman', 'omega', 'omegas', 'omelet', 'omg', 'omission', 'on', 'ona', 'onair', 'onceweekly', 'oncologist', 'onehanded', 'onemonth', 'oneofakind', 'ones', 'oneshot', 'oneuse', 'ongoing', 'online', 'ons', 'onward', 'oops', 'op', 'opdivo', 'oped', 'opedhealth', 'open', 'opened', 'opening', 'openingceremony', 'openly', 'opens', 'operate', 'operates', 'operating', 'operation', 'operations', 'operator', 'ophthalmologists', 'opiatebased', 'opiates', 'opinion', 'opinions', 'opioid', 'opossums', 'opponent', 'opportunities', 'opportunity', 'oppose', 'opposed', 'opposing', 'opposite', 'opposition', 'ops', 'opt', 'optician', 'optimal', 'optimism', 'optimistic', 'optimists', 'optimize', 'option', 'options', 'or', 'oral', 'orange', 'oranges', 'ordeal', 'order', 'ordered', 'orders', 'oregon', 'oreos', 'org', 'organ', 'organic', 'organization', 'organized', 'organizes', 'organs', 'orgasm', 'orientation', 'origin', 'original', 'origins', 'orleans', 'orphan', 'orphanage', 'orphaned', 'orphans', 'orthorexia', 'osborne', 'oscar', 'osteoarthritis', 'osteoporosis', 'ouch', 'ourshttponcnncomlev', 'out', 'outbreak', 'outbreaks', 'outbursts', 'outcome', 'outcomes', 'outdoor', 'outdoors', 'outdoorsif', 'outer', 'outfit', 'outgrow', 'outlaw', 'outlawed', 'outlets', 'outlined', 'outlines', 'outliving', 'outofdate', 'outofhours', 'outrage', 'outraged', 'outreach', 'outright', 'outs', 'outside', 'outstrip', 'outweigh', 'ovarian', 'ovaries', 'ovation', 'ovenbaked', 'overall', 'overboard', 'overcame', 'overcome', 'overcomes', 'overcoming', 'overconsumption', 'overcook', 'overcrowded', 'overdiagnosing', 'overdid', 'overdose', 'overdoserelated', 'overdoses', 'overdosing', 'overdue', 'overeat', 'overeating', 'overestimate', 'overestimated', 'overfeeding', 'overhaul', 'overheating', 'overhyped', 'overlap', 'overlooked', 'overnight', 'overoptimistic', 'overprescribe', 'overreliant', 'overs', 'overseas', 'oversold', 'overstated', 'overstuffed', 'overtake', 'overthecounter', 'overtreatment', 'overturned', 'overturns', 'overuse', 'overweight', 'overweightobese', 'overwhelm', 'overwhelmed', 'overwhelming', 'overworked', 'owl', 'owls', 'owner', 'owners', 'oxford', 'oxfords', 'oxycontin', 'oxygen', 'oxytocin', 'oy', 'oysters', 'oz', 'ozone', 'ozs', 'p', 'pa', 'pace', 'pacemaker', 'pacemakers', 'pacific', 'pacifier', 'pacifiers', 'pacing', 'pack', 'package', 'packaging', 'packed', 'packet', 'packets', 'packs', 'pad', 'paedophile', 'page', 'pages', 'paid', 'paige', 'pain', 'painfree', 'painful', 'painfully', 'painkiller', 'painkillers', 'painpatch', 'pains', 'paint', 'paintchanging', 'painted', 'paints', 'pair', 'paired', 'pakistan', 'pakistani', 'pakistans', 'pal', 'palates', 'paleo', 'palestinian', 'palin', 'palliative', 'pals', 'palsy', 'paltrow', 'paltrows', 'pam', 'pancakes', 'pancreas', 'pancreatic', 'pandas', 'pandemic', 'pandemics', 'pandemonium', 'pandoras', 'panel', 'panic', 'pantry', 'pants', 'pap', 'paper', 'papers', 'paperwork', 'paracetamol', 'paralympian', 'paralysed', 'paralysis', 'paralyzed', 'paralyzes', 'paralyzing', 'paramedic', 'paramedics', 'paranoia', 'paraplegic', 'parasite', 'parasites', 'parasitic', 'pare', 'parent', 'parental', 'parenthood', 'parenting', 'parents', 'parity', 'park', 'parking', 'parkinson', 'parkinsons', 'parkinsonsdisease', 'parkisons', 'parks', 'parlezvous', 'parliament', 'parm', 'partic', 'participant', 'participants', 'participate', 'participated', 'participating', 'participation', 'particles', 'particular', 'partied', 'parties', 'partly', 'partner', 'partners', 'parts', 'partsunknown', 'partway', 'party', 'pass', 'passed', 'passenger', 'passengers', 'passes', 'passing', 'passion', 'passive', 'passport', 'password', 'past', 'pasta', 'pastas', 'pastor', 'patch', 'patches', 'patchy', 'patent', 'patents', 'path', 'pathogenic', 'pathogens', 'pathway', 'patient', 'patientchoice', 'patientdoctor', 'patientmonitor', 'patients', 'patientsafetyfear', 'patni', 'patrick', 'pattern', 'patterns', 'paul', 'paula', 'pause', 'paused', 'pave', 'paws', 'pay', 'paycheck', 'paying', 'payload', 'payments', 'payout', 'pays', 'país', 'pbampj', 'pe', 'peacefully', 'peacekeeper', 'peaches', 'peacocks', 'peak', 'peaked', 'peaks', 'peanut', 'peanuts', 'pear', 'pearly', 'pears', 'pedestrians', 'pediatric', 'pediatrician', 'pediatricians', 'pedicure', 'pedometer', 'pee', 'peek', 'peekaboo', 'peel', 'peer', 'peering', 'peers', 'pegeeks', 'pelosi', 'pelvic', 'pen', 'penalizes', 'penalty', 'pencil', 'penicillin', 'penile', 'penis', 'penises', 'pennsylvania', 'pens', 'pension', 'pensioners', 'people', 'peoplelike', 'peoples', 'pepper', 'peppers', 'pepsis', 'perceived', 'percent', 'perceptions', 'percocetvicodin', 'perfect', 'perfection', 'perfectly', 'perform', 'performance', 'performed', 'performer', 'performing', 'performs', 'perfume', 'peril', 'perils', 'perimeter', 'period', 'perk', 'perky', 'perpetrators', 'perplexed', 'perseverance', 'persist', 'person', 'personal', 'personalised', 'personality', 'personalized', 'personally', 'personhood', 'persons', 'persontoperson', 'perspective', 'persuade', 'peru', 'pesky', 'pessimism', 'pesticide', 'pesticides', 'pet', 'peter', 'pethttpwwwcnncomhealthpetallergiesrelationshipsindexhtml', 'petition', 'petpt', 'petri', 'pets', 'pfizer', 'pfizers', 'pg', 'pham', 'phantom', 'pharma', 'pharmaceutical', 'pharmacies', 'pharmacist', 'pharmacists', 'pharmacy', 'phase', 'phd', 'phenomenon', 'phil', 'philadelphia', 'philippines', 'phillip', 'philosophy', 'phobia', 'phobias', 'phobic', 'phoenix', 'phone', 'phones', 'photo', 'photograph', 'photographer', 'photographic', 'photos', 'phrase', 'phthalates', 'phys', 'physed', 'physical', 'physicians', 'physique', 'pi', 'piano', 'pic', 'pick', 'picked', 'picket', 'picking', 'picks', 'picky', 'pics', 'picture', 'pictures', 'piday', 'pie', 'piece', 'pieces', 'piercing', 'pig', 'pigim', 'pigs', 'pilates', 'pile', 'piled', 'pilgrims', 'pill', 'pilllike', 'pillpoppers', 'pills', 'pilot', 'piloted', 'pilots', 'pin', 'pinch', 'pineapples', 'pink', 'pinpoint', 'pinpoints', 'pinterest', 'pioneer', 'pioneering', 'pioneers', 'piot', 'pip', 'pippaworthy', 'pippen', 'pirate', 'pissed', 'pistachios', 'pit', 'pitch', 'pitcher', 'pitching', 'pitfalls', 'pitt', 'pittsburgh', 'pivotal', 'pizza', 'place', 'placebo', 'placebos', 'placed', 'placenta', 'places', 'plague', 'plagued', 'plagues', 'plaguing', 'plaid', 'plain', 'plan', 'plane', 'planet', 'planetbased', 'plank', 'plankaday', 'planking', 'planknation', 'planks', 'planned', 'planning', 'plans', 'plant', 'plantbased', 'plantmilks', 'plants', 'plaque', 'plasma', 'plaster', 'plasters', 'plastic', 'plastics', 'plasticsurgery', 'plate', 'plateau', 'platebowl', 'plateful', 'plates', 'play', 'played', 'player', 'players', 'playground', 'playgrounds', 'playing', 'playlists', 'playpens', 'plays', 'playtim', 'playtime', 'plea', 'plead', 'pleads', 'pleas', 'pleasure', 'pleasures', 'pleated', 'pledge', 'pledged', 'pledges', 'plight', 'ploy', 'pls', 'plug', 'plugging', 'plugs', 'plumbers', 'plumbing', 'plummet', 'plummeted', 'plums', 'plunge', 'plus', 'pm', 'pmest', 'pmet', 'pms', 'pneumonia', 'pocket', 'pockets', 'poignantly', 'point', 'pointing', 'points', 'poised', 'poison', 'poisoning', 'poisonings', 'poisonous', 'poisons', 'polar', 'polarvortex', 'pole', 'police', 'policies', 'policy', 'polio', 'poliofree', 'poliolike', 'polish', 'political', 'politicians', 'politics', 'poll', 'pollen', 'pollinated', 'pollution', 'pom', 'pomegranate', 'ponder', 'poo', 'pooch', 'poochs', 'poochy', 'pool', 'pooley', 'poop', 'pooping', 'poor', 'poorer', 'poorest', 'poots', 'pop', 'popcorn', 'pope', 'popper', 'poppers', 'pops', 'popular', 'popularity', 'population', 'populations', 'popup', 'pork', 'porn', 'portable', 'porters', 'portion', 'portions', 'portionsize', 'portland', 'portraits', 'pose', 'poses', 'position', 'positioning', 'positive', 'positivity', 'possibilities', 'possible', 'possibly', 'post', 'postantibiotic', 'postbaby', 'postcancer', 'postcard', 'postchemo', 'postcode', 'postebola', 'posted', 'posters', 'postfeast', 'postholidays', 'posting', 'postmortem', 'postnatal', 'postpartum', 'postponed', 'postponing', 'posts', 'posttraumatic', 'posture', 'postworkout', 'pot', 'potassium', 'potato', 'potatoes', 'potent', 'potential', 'potentially', 'potrelated', 'potter', 'pouch', 'poulter', 'poultry', 'pound', 'pounds', 'pour', 'poured', 'poverty', 'powder', 'power', 'powerful', 'powerhouse', 'powering', 'powerless', 'powerwalking', 'ppl', 'pple', 'pr', 'practical', 'practically', 'practice', 'practiced', 'practices', 'practicing', 'practioner', 'prague', 'praise', 'praises', 'pratchetts', 'pray', 'prayed', 'prayer', 'pre', 'preach', 'precancerous', 'precancers', 'precedes', 'precious', 'precisely', 'preclinical', 'precook', 'precut', 'predetermine', 'prediabetes', 'predict', 'predicted', 'predicting', 'predictions', 'predictor', 'predicts', 'predisposed', 'predisposition', 'preemie', 'preemies', 'pref', 'prefer', 'preferences', 'prefers', 'pregnancies', 'pregnancy', 'pregnant', 'preliminarily', 'preloading', 'prem', 'premature', 'prematurely', 'premier', 'premiere', 'premiums', 'prenatal', 'prepackaged', 'prepare', 'prepared', 'prepares', 'preparing', 'prepregnancy', 'presbyterian', 'preschoolers', 'preschools', 'prescribe', 'prescribed', 'prescribing', 'prescription', 'prescriptions', 'prescriptionthemed', 'present', 'presented', 'presenting', 'presents', 'preservatives', 'preserve', 'preserves', 'president', 'presidents', 'pressing', 'pressure', 'pressures', 'pretending', 'preterm', 'pretty', 'pretzels', 'prev', 'prevalent', 'prevent', 'preventable', 'prevented', 'preventing', 'prevention', 'preventive', 'prevents', 'preview', 'previous', 'previously', 'prevnar', 'preworkout', 'prey', 'price', 'priceless', 'prices', 'pricing', 'priest', 'primary', 'primavera', 'primodos', 'prince', 'princess', 'princeton', 'print', 'printed', 'printer', 'printing', 'prior', 'priorities', 'prioritize', 'priority', 'prison', 'prisoners', 'prisons', 'privacy', 'private', 'privatelyrun', 'privatisation', 'privatised', 'prize', 'prizes', 'pro', 'proactive', 'proanorexia', 'prob', 'probably', 'probe', 'probed', 'probes', 'probiotics', 'problem', 'problematic', 'problems', 'problemsolving', 'procarb', 'procedure', 'procedures', 'proceed', 'process', 'processed', 'procrastinating', 'procrastinators', 'produce', 'producer', 'produces', 'product', 'production', 'productivity', 'products', 'prof', 'professional', 'professor', 'professors', 'profile', 'profit', 'profiteering', 'profits', 'profound', 'profoundly', 'progeria', 'progesterone', 'program', 'programme', 'programs', 'progress', 'progresses', 'progression', 'progressive', 'project', 'projections', 'projects', 'prolong', 'promise', 'promises', 'promising', 'promote', 'promotes', 'promotion', 'prompt', 'prompts', 'prone', 'pronounce', 'pronounced', 'proof', 'prop', 'proper', 'properly', 'properties', 'proposal', 'proposed', 'proposes', 'prosecute', 'prosecution', 'prosecutor', 'prospect', 'prostate', 'prostatecancer', 'prosthesis', 'prosthetic', 'prostitutes', 'protect', 'protecting', 'protection', 'protections', 'protective', 'protects', 'protein', 'proteinonthego', 'proteins', 'protest', 'protester', 'protocol', 'proton', 'protruding', 'proud', 'prove', 'proven', 'proves', 'provide', 'provided', 'provider', 'providers', 'provides', 'providing', 'pru', 'ps', 'psa', 'psicólogos', 'psoriasis', 'psoriasishttpbitlyyoypre', 'psoriatic', 'pst', 'pstpm', 'psych', 'psychedelic', 'psychedelics', 'psychiatric', 'psychiatrist', 'psychiatrists', 'psychiatry', 'psychoactive', 'psychological', 'psychology', 'psychopathic', 'psychopaths', 'psychosis', 'psychotic', 'psyllium', 'pt', 'pts', 'ptsd', 'puberty', 'pubiclice', 'public', 'publichealth', 'publics', 'publish', 'published', 'pudding', 'pueraria', 'puerto', 'puffed', 'puhlease', 'pull', 'pulled', 'pulling', 'pulls', 'pullups', 'pulse', 'pump', 'pumped', 'pumping', 'pumpkin', 'pumps', 'pun', 'punch', 'punish', 'punished', 'punishes', 'punishment', 'pup', 'pupil', 'pupils', 'puppy', 'pups', 'purchased', 'purchasing', 'purdy', 'pure', 'purees', 'purified', 'purifiers', 'purina', 'purple', 'purpose', 'purse', 'pursue', 'pursuing', 'pursuit', 'push', 'pushed', 'pushes', 'pushing', 'pushups', 'put', 'putin', 'puts', 'puttanesca', 'putting', 'puzzled', 'puzzles', 'px', 'pyramid', 'q', 'qamp', 'qampa', 'qs', 'qsymia', 'quackery', 'quadruples', 'quadruplets', 'quake', 'quality', 'qualitygtquantity', 'quantitative', 'quantities', 'quantity', 'quarantine', 'quarantined', 'quarantines', 'quasivegetarian', 'queasy', 'queen', 'quentin', 'queried', 'quest', 'question', 'questioned', 'questioning', 'questionnaire', 'questionremains', 'questions', 'questionscomments', 'quests', 'queue', 'queues', 'queuing', 'quick', 'quicker', 'quickfix', 'quickly', 'quietly', 'quillaja', 'quinoa', 'quiona', 'quirky', 'quit', 'quite', 'quitperiod', 'quits', 'quitsmoking', 'quitting', 'quiz', 'quizzed', 'quote', 'quoted', 'quotes', 'r', 'ra', 'rabbi', 'rabies', 'race', 'racer', 'races', 'racey', 'rachel', 'rachels', 'racial', 'racing', 'racism', 'racist', 'racket', 'radhas', 'radiant', 'radiation', 'radical', 'radio', 'radioactive', 'radiographers', 'radishes', 'raf', 'rage', 'raine', 'raise', 'raised', 'raises', 'raising', 'raisingamerica', 'raisingawareness', 'raisins', 'raison', 'rallies', 'rally', 'ramadan', 'ran', 'random', 'range', 'rangers', 'rank', 'ranked', 'ranks', 'rap', 'rape', 'rapeseed', 'rapid', 'rapidly', 'rapists', 'rapper', 'rare', 'raredisease', 'rarediseaseday', 'rarely', 'rash', 'raspberries', 'rat', 'rate', 'rates', 'ratings', 'ratio', 'rationed', 'rats', 'ravaged', 'ravens', 'raw', 'ray', 'rayrice', 'razor', 'rd', 'rdchat', 'rdtip', 're', 'reach', 'reached', 'reaches', 'reaching', 'react', 'reaction', 'read', 'reader', 'readers', 'reading', 'readinghidden', 'readitbueatit', 'readmissions', 'readmitted', 'ready', 'readying', 'reair', 'reairing', 'real', 'realhousewives', 'realistic', 'reality', 'realization', 'realize', 'realizing', 'really', 'reals', 'reap', 'rear', 'reason', 'reasonable', 'reasons', 'reawakened', 'rebekah', 'rebelheld', 'rebound', 'rebuff', 'rec', 'recall', 'recalled', 'recalling', 'recalls', 'recap', 'receive', 'received', 'receives', 'receiving', 'recent', 'recently', 'recess', 'recession', 'recharge', 'recipe', 'recipes', 'recipient', 'recirculate', 'recited', 'recliner', 'recognise', 'recognize', 'recommend', 'recommendations', 'recommended', 'recommends', 'reconsider', 'reconstruct', 'reconstructed', 'reconstruction', 'reconstructive', 'record', 'recorded', 'records', 'recover', 'recovered', 'recovering', 'recovers', 'recovery', 'recs', 'rectal', 'recurrence', 'recycled', 'recycles', 'recycling', 'red', 'redefine', 'redefining', 'redheads', 'reduce', 'reduced', 'reducedfat', 'reducer', 'reduces', 'reducing', 'reduction', 'reelected', 'reemerges', 'reevaluate', 'referrals', 'referred', 'refill', 'refills', 'refined', 'reflect', 'reflecting', 'reflects', 'reform', 'reforms', 'refrain', 'refreshed', 'refried', 'refuge', 'refugee', 'refugees', 'refund', 'refusal', 'refuse', 'refused', 'refuses', 'refusing', 'reg', 'regain', 'regarding', 'regardless', 'regeneration', 'regime', 'regimen', 'regina', 'region', 'regions', 'register', 'registered', 'regret', 'regroup', 'regrow', 'regrown', 'reguarly', 'regular', 'regularly', 'regulate', 'regulated', 'regulation', 'regulations', 'regulator', 'regulatory', 'rehab', 'rehabilitation', 'rehearsal', 'reheated', 'rehired', 'rehydration', 'reigning', 'reignite', 'reignited', 'reinhardts', 'reinserted', 'reinvent', 'reinventing', 'reith', 'reject', 'rejected', 'rejection', 'rejects', 'rejuvenates', 'rekindle', 'relapses', 'related', 'relations', 'relationship', 'relationships', 'relative', 'relatively', 'relatives', 'relax', 'relaxation', 'relaxes', 'release', 'released', 'releases', 'relevant', 'reliable', 'relief', 'relieve', 'relievers', 'relieves', 'religion', 'religious', 'relocate', 'reluctant', 'rely', 'relying', 'remain', 'remained', 'remaining', 'remains', 'remake', 'remarkable', 'remedies', 'remedy', 'remember', 'remembered', 'remembering', 'remembers', 'remind', 'reminder', 'reminders', 'reminding', 'remission', 'remote', 'remotecontrolled', 'removal', 'remove', 'removed', 'removes', 'removing', 'renal', 'rename', 'renew', 'renewing', 'renowned', 'reopen', 'reopens', 'rep', 'repackage', 'repair', 'repairs', 'repeat', 'repeated', 'repeatedly', 'repellent', 'repercussions', 'replace', 'replaced', 'replacement', 'replacements', 'replacing', 'replenish', 'replenishing', 'replicate', 'replies', 'reply', 'report', 'reported', 'reportedly', 'reporter', 'reporters', 'reporting', 'reports', 'reproductive', 'reprogrammed', 'reprograms', 'reps', 'republic', 'republican', 'reputation', 'request', 'requested', 'require', 'required', 'requires', 'requiring', 'rerouted', 'rescue', 'rescued', 'rescuehealthcare', 'research', 'researcher', 'researchers', 'researching', 'resemble', 'reservists', 'reset', 'residence', 'resident', 'residents', 'residue', 'residues', 'resign', 'resigns', 'resilient', 'resist', 'resistance', 'resistant', 'resistantmalaria', 'resists', 'resolution', 'resolutions', 'resource', 'resources', 'respecting', 'respond', 'responded', 'responders', 'responds', 'response', 'responses', 'responsibilites', 'responsible', 'rest', 'restarted', 'restaurant', 'restaurants', 'resting', 'restless', 'reston', 'restorative', 'restore', 'restored', 'restores', 'restoring', 'restraint', 'restrict', 'restricted', 'restricting', 'restrictions', 'restrictive', 'restricts', 'resubmits', 'result', 'resulted', 'results', 'resume', 'resurgence', 'resusci', 'resuscitation', 'retail', 'retailers', 'retain', 'retardants', 'retardation', 'rethink', 'retinopathy', 'retire', 'retired', 'retirement', 'retiring', 'retracted', 'retraction', 'retrain', 'retrieve', 'retro', 'return', 'returned', 'returning', 'returns', 'reunion', 'reunions', 'reunite', 'reunited', 'reuse', 'reused', 'rev', 'revamp', 'revamped', 'reveal', 'revealed', 'reveals', 'reversal', 'reverse', 'reverses', 'reversible', 'review', 'reviewed', 'revision', 'revive', 'revived', 'revives', 'revlimid', 'revlon', 'revolution', 'revolutionary', 'revolutionise', 'revolutionize', 'rewarding', 'rewire', 'rhetoric', 'rheumatoid', 'rheumatoidarthritis', 'rhythm', 'ribs', 'rice', 'rich', 'richard', 'richer', 'rick', 'rickets', 'rico', 'ricotta', 'rid', 'ride', 'rides', 'riding', 'riffle', 'right', 'rightbrain', 'rights', 'righttodie', 'ring', 'rings', 'rinse', 'rio', 'rip', 'ripenessorigin', 'ripped', 'ripple', 'rise', 'riseandshine', 'risen', 'riser', 'risers', 'rises', 'rising', 'risk', 'riskdrc', 'riskier', 'risking', 'risks', 'risky', 'rite', 'ritual', 'river', 'rivera', 'rivers', 'rls', 'rmh', 'rnib', 'road', 'roadblocks', 'roast', 'rob', 'robach', 'robbed', 'robbie', 'robert', 'roberts', 'robin', 'robinwilliams', 'robohand', 'robot', 'robotassisted', 'robotic', 'robotically', 'robots', 'robust', 'roche', 'rock', 'rocked', 'rocket', 'rocketing', 'rocketshaped', 'rocking', 'rocks', 'rods', 'roe', 'rohn', 'role', 'rolemodel', 'roll', 'rolled', 'roller', 'rollerblade', 'rollercoaster', 'rollout', 'rolls', 'roman', 'romance', 'romances', 'romanian', 'rome', 'romney', 'romneys', 'romp', 'roni', 'ronney', 'rookie', 'room', 'rooms', 'root', 'roots', 'rosier', 'ross', 'rot', 'rota', 'rotating', 'rots', 'rough', 'roughly', 'round', 'routine', 'routines', 'rover', 'row', 'rowing', 'royal', 'royalbaby', 'royalty', 'royce', 'rshamp', 'rt', 'rub', 'rubber', 'rubbing', 'rubble', 'rubs', 'rude', 'rug', 'rugby', 'ruin', 'ruined', 'ruining', 'rule', 'ruled', 'rules', 'ruling', 'rulings', 'rumination', 'run', 'runforboston', 'runner', 'runners', 'running', 'runny', 'runreal', 'runs', 'runwilbs', 'rupture', 'rural', 'rush', 'rushed', 'russia', 'russian', 'rutgers', 'ruth', 'rvh', 'rwandans', 'rx', 'ryan', 's', 'sa', 'sabotaging', 'saboteurs', 'sac', 'sacked', 'sacra', 'sacrifice', 'sad', 'saddened', 'saddest', 'sadly', 'sadness', 'safari', 'safe', 'safely', 'safer', 'safest', 'safety', 'safeway', 'saffron', 'saga', 'sagging', 'saggy', 'said', 'sailing', 'sailor', 'saints', 'saks', 'salad', 'salads', 'salaries', 'sale', 'sales', 'salisbury', 'saliva', 'sally', 'salmon', 'salmonella', 'salon', 'salsa', 'salt', 'salts', 'saltshaker', 'salty', 'sam', 'samaritans', 'sample', 'samples', 'sams', 'san', 'sanctions', 'sanders', 'sandiego', 'sandusky', 'sandwich', 'sandwiches', 'sandy', 'sandysstory', 'sanger', 'sanitary', 'sanitation', 'sanitised', 'sanitizer', 'sanjay', 'santa', 'sara', 'sarah', 'sarahs', 'saris', 'sars', 'sarslike', 'sassy', 'sat', 'satiety', 'satisfaction', 'satisfied', 'satisfy', 'saturated', 'saturday', 'saturdays', 'sauce', 'sauces', 'saudi', 'saudis', 'sauna', 'sauteed', 'save', 'saved', 'savejoshhardy', 'saver', 'saves', 'savile', 'saving', 'savings', 'savor', 'savvy', 'saw', 'sawyer', 'say', 'saying', 'says', 'saysher', 'scalding', 'scale', 'scales', 'scaling', 'scalp', 'scalpelfree', 'scams', 'scan', 'scandal', 'scandalous', 'scanning', 'scans', 'scar', 'scarce', 'scare', 'scared', 'scaremongering', 'scarlet', 'scarred', 'scarring', 'scars', 'scary', 'scenes', 'scent', 'scents', 'schedule', 'scheduled', 'scheme', 'schemes', 'schiavos', 'schizophrenia', 'schizophrenics', 'school', 'schooler', 'schools', 'schoolwide', 'schulz', 'schumachers', 'sciatic', 'science', 'sciences', 'scientific', 'scientist', 'scientists', 'scissors', 'sclerosis', 'scoliosis', 'scoop', 'scooters', 'scope', 'scopes', 'scorch', 'score', 'scores', 'scorpion', 'scorpions', 'scotland', 'scotlands', 'scots', 'scottish', 'scourge', 'scout', 'scrambled', 'scrape', 'scrapped', 'scratch', 'scratcher', 'scratching', 'screen', 'screened', 'screening', 'screenings', 'screens', 'script', 'scripts', 'scrotum', 'scrum', 'scrupulosity', 'scrutiny', 'sculpt', 'scurvy', 'se', 'sea', 'seafood', 'seal', 'search', 'searched', 'searches', 'searching', 'season', 'seasonal', 'seasoning', 'seasonings', 'seasons', 'seat', 'seattle', 'seaweed', 'sebelius', 'second', 'secondclass', 'secondgraders', 'secondhand', 'seconds', 'secondyoungest', 'secret', 'secretion', 'secretly', 'secrets', 'secretweapon', 'secs', 'section', 'sector', 'security', 'sedated', 'sedation', 'sedentary', 'see', 'seedoil', 'seeds', 'seedsbean', 'seeing', 'seek', 'seeking', 'seeks', 'seemingly', 'seen', 'sees', 'seethrough', 'segment', 'segments', 'segregation', 'seine', 'seinfeld', 'seirra', 'seized', 'seizes', 'seizure', 'seizures', 'select', 'selected', 'selecting', 'self', 'selfcare', 'selfcentered', 'selfcleaning', 'selfcontrol', 'selfcriticism', 'selfdoubt', 'selfexams', 'selfharm', 'selfheal', 'selfhealing', 'selfie', 'selfies', 'selfish', 'selflove', 'selfreported', 'selfstimulation', 'sell', 'sellers', 'selling', 'semen', 'senate', 'senators', 'send', 'sendak', 'sending', 'sendoff', 'sends', 'senegal', 'senior', 'seniors', 'sense', 'senses', 'sensitive', 'sensitivity', 'sensors', 'sent', 'sentara', 'sentence', 'sentenced', 'separate', 'separated', 'separately', 'separates', 'separating', 'sepsis', 'sept', 'september', 'sequel', 'sequencing', 'serco', 'serial', 'series', 'seriously', 'serum', 'serve', 'served', 'service', 'services', 'serving', 'servings', 'serwotkas', 'session', 'sessions', 'set', 'setback', 'sets', 'settle', 'settlement', 'settles', 'seven', 'sevenday', 'seventh', 'severe', 'severed', 'severely', 'severity', 'sewage', 'sewed', 'sews', 'sex', 'sexanddementia', 'sexchange', 'sexes', 'sexhttptribalillhor', 'sexier', 'sexism', 'sexlife', 'sexpectations', 'sexpregnancybirth', 'sext', 'sexting', 'sexual', 'sexually', 'sexualviolence', 'sexy', 'sf', 'sg', 'sgmd', 'shades', 'shadow', 'shake', 'shakes', 'shakespeare', 'shakespowders', 'shakeup', 'shame', 'shamed', 'shamefree', 'shaming', 'shampoo', 'shamrock', 'shape', 'shaped', 'shapes', 'shaping', 'share', 'shared', 'shares', 'sharing', 'sharon', 'sharp', 'sharper', 'sharply', 'shaved', 'she', 'shealth', 'shed', 'shedding', 'sheds', 'sheer', 'sheldon', 'shelf', 'shell', 'shelves', 'shepherds', 'sheri', 'shes', 'shhh', 'shield', 'shielding', 'shift', 'shifted', 'shifting', 'shingles', 'ship', 'shipman', 'shipped', 'shipping', 'shipwreck', 'shirt', 'shivering', 'shnookums', 'shoal', 'shock', 'shocked', 'shocking', 'shocks', 'shoe', 'shoebox', 'shoes', 'shoestring', 'shoot', 'shooters', 'shooting', 'shootings', 'shop', 'shoplifting', 'shopping', 'shops', 'short', 'shortage', 'shortages', 'shortcircuit', 'shortens', 'shorter', 'shortness', 'shortterm', 'shot', 'shots', 'shoulder', 'shouldn', 'shouldnt', 'shout', 'shoving', 'showdown', 'showed', 'shower', 'showering', 'showing', 'shown', 'shows', 'shredded', 'shrimp', 'shrinkage', 'shrinking', 'shudder', 'shui', 'shukman', 'shulman', 'shun', 'shunned', 'shut', 'shutdown', 'shuts', 'shutup', 'shy', 'shyness', 'siamese', 'sibling', 'siblings', 'sick', 'sickened', 'sickening', 'sickens', 'sicker', 'sickest', 'sickle', 'sickness', 'sideeffects', 'sideline', 'sidelines', 'sides', 'sidewalk', 'sids', 'sierra', 'sight', 'sign', 'signal', 'signals', 'signed', 'significant', 'significantly', 'signifor', 'signing', 'signs', 'signups', 'silence', 'silenced', 'silences', 'silent', 'silentstep', 'silicone', 'silver', 'similar', 'simple', 'simplest', 'simply', 'simpson', 'simpsons', 'simulating', 'simulator', 'sing', 'singer', 'singh', 'singing', 'single', 'singlehood', 'singles', 'singleuse', 'sings', 'sink', 'sinusclearing', 'sinusitis', 'sip', 'sir', 'sister', 'sisters', 'sit', 'site', 'sites', 'sits', 'sitter', 'sitting', 'situation', 'situations', 'sixpack', 'sixteen', 'sixth', 'sixties', 'sixtime', 'sixway', 'size', 'sizes', 'sizzling', 'skating', 'skeleton', 'skeletons', 'skeptic', 'skeptical', 'skeptics', 'skies', 'skiing', 'skill', 'skilled', 'skills', 'skim', 'skin', 'skincancer', 'skincare', 'skinny', 'skintight', 'skip', 'skipped', 'skipping', 'skirt', 'skull', 'skunk', 'skydiver', 'skyrocket', 'skyrocketing', 'slacking', 'slain', 'slam', 'slams', 'slash', 'slashes', 'slay', 'sleep', 'sleeper', 'sleepfriendly', 'sleeping', 'sleepless', 'sleeps', 'sleepy', 'slice', 'slices', 'sliceshoney', 'slide', 'slideshow', 'sliding', 'slightly', 'slim', 'slimdown', 'slimming', 'slip', 'slipped', 'slipup', 'slow', 'slowdown', 'slowed', 'slower', 'slowing', 'slowly', 'slows', 'slug', 'sluggishness', 'slugs', 'slum', 'slump', 'smackdown', 'smacks', 'small', 'smallbabies', 'smaller', 'smallest', 'smallpox', 'smart', 'smarter', 'smartphone', 'smartphones', 'smartwatch', 'smashes', 'smear', 'smears', 'smell', 'smelled', 'smelling', 'smells', 'smile', 'smiles', 'smog', 'smoke', 'smoked', 'smokefree', 'smokeout', 'smoker', 'smokers', 'smoking', 'smokingrelated', 'smooch', 'smooching', 'smooth', 'smoothie', 'smoothies', 'smores', 'smothered', 'smthg', 'smuggling', 'snack', 'snacking', 'snacks', 'snacky', 'snake', 'snakes', 'snap', 'snapshot', 'snarky', 'snatched', 'sneak', 'sneakers', 'sneaky', 'sneeze', 'sniff', 'sniffing', 'sniffle', 'sniffles', 'sniffs', 'snls', 'snoop', 'snooze', 'snore', 'snores', 'snot', 'snow', 'snowball', 'snowed', 'snowman', 'snus', 'soap', 'soaps', 'soar', 'soaring', 'soars', 'sober', 'sobers', 'sobriety', 'soccer', 'soci', 'social', 'socialize', 'socially', 'society', 'sock', 'socks', 'sod', 'soda', 'sodas', 'soderberghs', 'sodium', 'soft', 'softeners', 'softer', 'software', 'soil', 'solar', 'sold', 'soldier', 'soldiers', 'sole', 'soleil', 'soles', 'solid', 'solidarity', 'solo', 'soluble', 'solution', 'solutions', 'solve', 'solved', 'solvents', 'solving', 'somebodys', 'someday', 'son', 'sonar', 'song', 'songs', 'sons', 'soon', 'sooner', 'sooo', 'soooo', 'sooth', 'soothe', 'soothes', 'soothing', 'sore', 'soreness', 'sorority', 'sorry', 'sort', 'sorted', 'sos', 'sought', 'sound', 'sounds', 'soup', 'soupedup', 'soupsinacup', 'source', 'sources', 'south', 'southern', 'southpaws', 'southwest', 'souvenir', 'sox', 'soy', 'space', 'spaces', 'spaghetti', 'spain', 'span', 'spanking', 'spanx', 'spark', 'sparked', 'sparking', 'sparks', 'sparselyattended', 'spawns', 'spaying', 'speak', 'speaking', 'speaks', 'spear', 'special', 'specialcontent', 'specialises', 'specialist', 'specialists', 'specialized', 'specialneeds', 'specialties', 'specialty', 'species', 'specific', 'specifically', 'spectrum', 'speech', 'speed', 'speeds', 'spell', 'spelled', 'spelling', 'spells', 'spend', 'spending', 'spends', 'spent', 'sperm', 'spice', 'spices', 'spicy', 'spider', 'spiderbands', 'spiderman', 'spike', 'spikes', 'spill', 'spin', 'spinach', 'spinal', 'spine', 'spines', 'spinning', 'spirit', 'spiritday', 'spiritgrass', 'spirits', 'spirulina', 'spit', 'splash', 'spleen', 'split', 'splurge', 'spock', 'spoil', 'sponge', 'spongebob', 'sponsored', 'spoonfuls', 'sporadically', 'sport', 'sporting', 'sports', 'spot', 'spotlight', 'spots', 'spotted', 'spouse', 'spousefamily', 'spouses', 'spray', 'spraysamp', 'spread', 'spreading', 'spreads', 'spring', 'sprinkling', 'sprouting', 'sprouts', 'spur', 'spurs', 'spy', 'square', 'squash', 'squat', 'squats', 'squeeze', 'squibb', 'sr', 'sri', 'sssisted', 'st', 'stabbed', 'stabbing', 'stabilised', 'stability', 'stable', 'stack', 'stadium', 'staff', 'staffing', 'stafford', 'staffs', 'stage', 'stages', 'staggering', 'stain', 'stairmaster', 'stairrelated', 'stairs', 'stairwell', 'stake', 'stale', 'stalking', 'stalls', 'stamina', 'stammer', 'stamos', 'stamp', 'stamps', 'stance', 'stand', 'standard', 'standardised', 'standardized', 'standards', 'standing', 'stands', 'standup', 'stanford', 'stanley', 'staple', 'stapling', 'star', 'starbucks', 'staring', 'stars', 'start', 'started', 'startedhttpbitlypuenin', 'starting', 'starts', 'startup', 'starve', 'starwars', 'stat', 'state', 'statebystate', 'statecitygroup', 'statement', 'states', 'statesupplied', 'statin', 'statins', 'station', 'statistic', 'statistics', 'stats', 'statue', 'status', 'stay', 'stayed', 'staying', 'stays', 'std', 'stds', 'steady', 'steak', 'steal', 'steam', 'steep', 'steeply', 'steer', 'stem', 'stemcell', 'stemcells', 'stemmed', 'stents', 'step', 'stephanie', 'stephen', 'stephens', 'steppan', 'stepping', 'steps', 'stereotypes', 'sterilisation', 'sterilised', 'sterilization', 'steroid', 'steroids', 'stethoscope', 'stethoscopes', 'steve', 'stevia', 'stews', 'stgrade', 'stick', 'sticking', 'stiff', 'stigma', 'stigmatised', 'stigmatized', 'stilettoloving', 'stillbirth', 'stillbirths', 'stillborn', 'stimulant', 'stimulate', 'stimulation', 'sting', 'stink', 'stinky', 'stirrups', 'stirs', 'stis', 'stitched', 'stock', 'stockpile', 'stockpiles', 'stole', 'stolen', 'stomach', 'stomachbug', 'stomachfriendly', 'stone', 'stoneage', 'stones', 'stool', 'stop', 'stophttptribalxvcgd', 'stopped', 'stopping', 'stops', 'storage', 'store', 'storeclassroom', 'stores', 'stories', 'storify', 'storm', 'storms', 'story', 'storyhttpwwwcnncomlivingirpttshirttalesindexhtml', 'stove', 'stpatricksday', 'stpattysday', 'str', 'straight', 'straighten', 'straightforward', 'strain', 'strained', 'stranded', 'strands', 'strange', 'strangers', 'strangest', 'strap', 'strategies', 'strategy', 'straw', 'strawberries', 'strawberryraspberry', 'streaming', 'streeeeetch', 'streep', 'street', 'streets', 'strength', 'strengthen', 'strengthens', 'strenuous', 'strep', 'stress', 'stressbusting', 'stresseater', 'stressed', 'stressedoutcities', 'stressedu', 'stressfree', 'stressful', 'stressing', 'stressmanagement', 'stresstry', 'stretch', 'stretches', 'stretching', 'stricken', 'strict', 'stricter', 'strident', 'strike', 'strikeday', 'strikes', 'string', 'stringent', 'stroke', 'strokechat', 'strokes', 'strong', 'stronger', 'strongest', 'strongestkidever', 'stronglyattractedto', 'struck', 'structure', 'struggle', 'struggles', 'struggling', 'stub', 'stuck', 'student', 'studentdesigned', 'students', 'studied', 'studies', 'study', 'studying', 'stuff', 'stuffed', 'stuffing', 'stuffy', 'stunt', 'stunting', 'stunts', 'stupid', 'stutter', 'style', 'stylish', 'su', 'suarez', 'subcmte', 'subconcussive', 'subject', 'submissions', 'submit', 'subscribe', 'subsidies', 'subsidize', 'substance', 'substitute', 'substitutions', 'subtle', 'subtract', 'suburb', 'suburban', 'subway', 'succeeds', 'success', 'successful', 'successfully', 'suck', 'sucks', 'sucky', 'suction', 'sudan', 'sudden', 'suddenly', 'sue', 'sued', 'sues', 'suffer', 'suffered', 'sufferer', 'sufferers', 'suffering', 'suffers', 'suffocating', 'suffocation', 'sugar', 'sugarday', 'sugarless', 'sugarlevels', 'sugarmoney', 'sugars', 'sugarseeking', 'sugary', 'suggest', 'suggestion', 'suggestions', 'suggests', 'suicidal', 'suicide', 'suicideprevention', 'suicides', 'suing', 'suit', 'suitcase', 'suited', 'suits', 'sum', 'summarizing', 'summer', 'summit', 'sumo', 'sums', 'sun', 'sunbathing', 'sunbed', 'sunburn', 'sunburns', 'suncreams', 'sunday', 'sundays', 'sunflowers', 'sunglasses', 'sunlamps', 'sunlight', 'suns', 'sunscreen', 'sunscreens', 'sunsets', 'sunshine', 'suntanning', 'super', 'superaged', 'superbowl', 'superbug', 'superbugrelated', 'superbugs', 'supercharge', 'supercomputer', 'supercomputers', 'supercooling', 'superfood', 'superfoods', 'superfruits', 'superglue', 'superhealthy', 'superhero', 'superheroes', 'supermarket', 'supermodel', 'supernanny', 'superrepellent', 'supersize', 'supersized', 'superskinny', 'superspreaders', 'superstar', 'superstitions', 'supervirus', 'supervision', 'supperdinner', 'supplement', 'supplements', 'supplies', 'supply', 'support', 'supported', 'supporters', 'supporting', 'supportive', 'supports', 'supposed', 'supps', 'supreme', 'surcharge', 'sure', 'surf', 'surfers', 'surfing', 'surge', 'surgeon', 'surgeons', 'surgeries', 'surgery', 'surges', 'surgical', 'surgically', 'surging', 'surprise', 'surprised', 'surprises', 'surprising', 'surprisingly', 'surrenders', 'surrenderyoursay', 'surrogacy', 'surrogate', 'surrogates', 'surround', 'surrounding', 'surrounds', 'surveillance', 'survey', 'surveys', 'survivable', 'survival', 'survive', 'survived', 'survives', 'surviving', 'survivor', 'survivors', 'suspect', 'suspected', 'suspects', 'suspended', 'suspends', 'suspension', 'suspicion', 'sussex', 'sustain', 'sustainability', 'sutton', 'suttons', 'suze', 'suzes', 'svg', 'swaddling', 'swallow', 'swallowed', 'swallowing', 'swamped', 'swan', 'swap', 'swaps', 'swears', 'sweat', 'sweating', 'sweatresistance', 'sweats', 'sweatshirt', 'sweden', 'swedish', 'sweeping', 'sweepstakes', 'sweet', 'sweetener', 'sweeteners', 'sweeter', 'sweetheart', 'sweethearts', 'sweetie', 'sweets', 'sweettreat', 'swelling', 'swells', 'swift', 'swim', 'swimmer', 'swimmers', 'swimming', 'swimsuits', 'swine', 'swings', 'swiss', 'switch', 'switched', 'switches', 'switching', 'switzerland', 'swoop', 'sxsw', 'symptom', 'symptomfree', 'symptoms', 'synaesthesia', 'sync', 'syndrome', 'synthesis', 'synthetic', 'syntheticpot', 'syphilis', 'syria', 'syrian', 'syringes', 'syrup', 'systemhttponcnncominogx', 'systems', 't', 'tab', 'table', 'tables', 'tablet', 'tablets', 'taboo', 'tackle', 'tackled', 'tackles', 'tackling', 'tacos', 'tactics', 'tag', 'tagged', 'tags', 'tailgating', 'tailless', 'tailored', 'tailormade', 'tainted', 'taiwan', 'takeaway', 'taken', 'takeout', 'takeover', 'takes', 'takeup', 'taking', 'talcum', 'tale', 'talent', 'talents', 'tales', 'talk', 'talked', 'talking', 'talkpsoriasis', 'talks', 'tall', 'tamiflu', 'tampa', 'tank', 'tanks', 'tanning', 'tantrums', 'tap', 'tape', 'tapestries', 'tapeworm', 'taps', 'target', 'targeted', 'targeting', 'targets', 'task', 'taskforce', 'tasks', 'taste', 'tastebuds', 'tastes', 'tastiest', 'tasting', 'tasty', 'tattoo', 'tattooed', 'tattoos', 'tau', 'taubdix', 'taught', 'tax', 'taylor', 'tb', 'tbi', 'tbsp', 'tea', 'teach', 'teache', 'teacher', 'teachers', 'teachersadministrators', 'teaches', 'teaching', 'tealpumpkinproject', 'team', 'teaming', 'teammates', 'teams', 'tear', 'tears', 'teas', 'teaser', 'teasers', 'teaspoons', 'teat', 'tebbit', 'tech', 'technical', 'technique', 'techniques', 'technologies', 'technology', 'teen', 'teena', 'teenage', 'teenager', 'teenagers', 'teens', 'teensi', 'teeth', 'teethstaining', 'tekmira', 'tekmiras', 'telephone', 'tell', 'telling', 'tells', 'telltale', 'temp', 'temper', 'temperature', 'temporarily', 'temporary', 'temps', 'temptation', 'tempted', 'tend', 'tenfold', 'tenhut', 'tennessee', 'tennis', 'tens', 'tension', 'tenth', 'term', 'terminal', 'terminally', 'termination', 'terms', 'terri', 'terrible', 'terrific', 'terrified', 'terrifying', 'terror', 'terrorists', 'terrors', 'terry', 'tesco', 'test', 'tested', 'testes', 'testicle', 'testicles', 'testicular', 'testing', 'testosterone', 'tests', 'testtube', 'tetanus', 'tethered', 'texas', 'text', 'textbook', 'texthappy', 'texting', 'textures', 'tgisaturday', 'th', 'thai', 'thailand', 'thalidomide', 'thank', 'thankfully', 'thanks', 'thanksgiving', 'that', 'thatcher', 'thathttpwwwcnncomhealthupwaveweightgenderindexhtml', 'thatll', 'thats', 'thatz', 'the', 'theater', 'theatre', 'thedress', 'thehearttruth', 'theme', 'themed', 'theory', 'theraflu', 'therapeutic', 'therapeutics', 'therapies', 'therapist', 'therapists', 'therapy', 'there', 'therealbears', 'thereand', 'theres', 'theresa', 'theron', 'thewonderlist', 'they', 'theyd', 'theyll', 'theyre', 'theyve', 'thickener', 'thicker', 'thief', 'thieves', 'thigh', 'thighs', 'thing', 'thingcaregivers', 'things', 'think', 'thinking', 'thinks', 'thinner', 'thinnest', 'thirds', 'thirst', 'thirsty', 'thisiscnn', 'thomas', 'thorough', 'thoughs', 'thought', 'thoughts', 'thousands', 'thread', 'threat', 'threaten', 'threatens', 'threats', 'threefold', 'threeparent', 'threeperson', 'threes', 'thriller', 'thriving', 'throat', 'thrombosis', 'throughglass', 'throw', 'throwing', 'throws', 'thumbs', 'thunder', 'thurs', 'thursday', 'thwart', 'thwarting', 'thx', 'thyroid', 'ti', 'tick', 'ticked', 'ticket', 'ticking', 'tickle', 'tickling', 'tidal', 'tie', 'tied', 'ties', 'tiger', 'tight', 'tighten', 'tightening', 'tighter', 'til', 'till', 'tim', 'time', 'timebomb', 'timeline', 'timer', 'times', 'timesdays', 'timetotalk', 'timewasters', 'tims', 'tinnitus', 'tiny', 'tip', 'tipping', 'tips', 'tire', 'tired', 'tis', 'tissue', 'titanium', 'title', 'tixylix', 'tkmebola', 'tmw', 'tnt', 'toast', 'tobacco', 'tobaccofree', 'today', 'todays', 'toddler', 'toddlers', 'todds', 'toddy', 'todo', 'todos', 'toes', 'tofu', 'tofutvpseitan', 'togo', 'toilet', 'toilets', 'told', 'toll', 'tom', 'tomato', 'tomatoes', 'tomorrow', 'tomorrows', 'ton', 'tone', 'toned', 'tongue', 'tonguetie', 'tonight', 'tonights', 'toning', 'tonite', 'tons', 'tonsil', 'tonsillectomy', 'tony', 'tonygwynn', 'took', 'tool', 'tools', 'tooth', 'toothbrushing', 'toothpastemouth', 'toothpicks', 'topic', 'topical', 'topics', 'topped', 'toppling', 'tops', 'torch', 'tories', 'tormented', 'tornado', 'torrie', 'tory', 'toss', 'tot', 'total', 'totaling', 'totally', 'touch', 'touched', 'touches', 'touching', 'touchy', 'tough', 'tougher', 'toughest', 'tour', 'tourette', 'tourettes', 'touring', 'tourism', 'tourist', 'tourists', 'tournament', 'touts', 'towel', 'towels', 'town', 'toxic', 'toxins', 'toy', 'toys', 'trace', 'traced', 'trachea', 'tracheostomy', 'tracing', 'track', 'tracker', 'trackers', 'tracking', 'tracks', 'trade', 'tradeoff', 'trader', 'traders', 'tradition', 'traditional', 'traditions', 'trafalgar', 'traffic', 'trafficking', 'tragedies', 'tragedy', 'tragic', 'train', 'trained', 'trainer', 'training', 'trains', 'trait', 'traits', 'trampoline', 'trampolines', 'tranfer', 'trans', 'transcript', 'transfat', 'transferred', 'transform', 'transformation', 'transformed', 'transforming', 'transfusion', 'transfusions', 'transgender', 'transit', 'transition', 'translating', 'translation', 'transmission', 'transmitted', 'transmitting', 'transparency', 'transplant', 'transplanted', 'transplants', 'transportationit', 'transsexualism', 'trap', 'trapeze', 'trapped', 'traps', 'trauma', 'traumatic', 'traumatized', 'travel', 'traveled', 'travelers', 'traveling', 'travellers', 'travels', 'tray', 'treadmill', 'treadmilldesk', 'treadmills', 'treasure', 'treat', 'treatable', 'treated', 'treating', 'treatment', 'treatmentdrc', 'treatmentgt', 'treatments', 'treatmentsvaccines', 'treats', 'treble', 'trebles', 'trend', 'trendiest', 'trending', 'trends', 'trendy', 'tri', 'trial', 'trialled', 'trials', 'triaminic', 'triathlete', 'triathletes', 'triathletetobe', 'triathlon', 'triathlons', 'tribute', 'triceps', 'trick', 'tricks', 'tricky', 'triclosan', 'tried', 'tries', 'trigeminal', 'trigger', 'triggered', 'triggers', 'triglyceride', 'triglycerides', 'trillion', 'trillions', 'trim', 'trimester', 'trip', 'triple', 'tripleamputee', 'tripled', 'triplets', 'trips', 'triumph', 'trivia', 'triwit', 'triwithme', 'trolley', 'trolls', 'troops', 'tropical', 'trots', 'trouble', 'troubled', 'troubling', 'truck', 'trucks', 'true', 'truly', 'truman', 'trumpeters', 'trumps', 'trust', 'trusted', 'trusts', 'trustworthy', 'truth', 'truvia', 'try', 'trying', 'ts', 'tshirt', 'tshirttales', 'tsp', 'ttip', 'tube', 'tuberculosis', 'tubing', 'tuck', 'tucks', 'tues', 'tuesday', 'tulane', 'tulsa', 'tummy', 'tumor', 'tumorfighting', 'tumors', 'tumour', 'tumours', 'tuna', 'tune', 'tunes', 'turkey', 'turkeys', 'turmeric', 'turn', 'turned', 'turning', 'turnip', 'turnoff', 'turnoffs', 'turnon', 'turns', 'turtles', 'tush', 'tut', 'tutor', 'tutors', 'tutu', 'tv', 'tvfree', 'tvs', 'twbirthday', 'tweaking', 'tweaks', 'tweeps', 'tweet', 'tweeting', 'tweets', 'twice', 'twin', 'twinkie', 'twins', 'twists', 'twitter', 'twitterchat', 'twoadays', 'twos', 'twothirds', 'twotier', 'twotime', 'tx', 'txt', 'ty', 'tylenol', 'tyneside', 'type', 'typediabetes', 'types', 'typhoon', 'typhoonhaiyan', 'typical', 'typically', 'tyson', 'u', 'uae', 'uaes', 'uber', 'uberinspired', 'ucla', 'uclaorlive', 'uganda', 'ugh', 'ugly', 'uh', 'uhoh', 'uk', 'ukfunded', 'ukip', 'uks', 'ulcer', 'ulcerative', 'ulcers', 'ultimate', 'ultrafit', 'ultramarathon', 'ultrasound', 'ultrasounds', 'ultraworkout', 'um', 'umami', 'unable', 'unacceptably', 'unaccompanied', 'unaffordable', 'unalarmed', 'unamerican', 'unaware', 'unbalanced', 'unbinding', 'unborn', 'unchecked', 'unclear', 'unclogging', 'uncomfortable', 'uncommon', 'unconscious', 'uncontrollable', 'uncontrolled', 'uncorked', 'uncover', 'uncovered', 'uncovers', 'underage', 'underdosed', 'underestimated', 'underfives', 'undergarments', 'undergo', 'undergoes', 'underimmunized', 'undermined', 'underreported', 'unders', 'understand', 'understanding', 'underused', 'underway', 'underweight', 'underwent', 'undetected', 'undiagnosed', 'undie', 'undoubtedly', 'unemployed', 'unequal', 'unevenly', 'unexpected', 'unfair', 'unfamiliar', 'unfit', 'unhappy', 'unhealthiest', 'unhealthy', 'unhygienic', 'unicef', 'uninsured', 'union', 'unions', 'unique', 'unison', 'unit', 'united', 'unitedhealth', 'units', 'univ', 'universal', 'university', 'unknowingly', 'unknown', 'unknowns', 'unlabelled', 'unless', 'unlicensed', 'unlikely', 'unlock', 'unlocking', 'unmarried', 'unmet', 'unnecessary', 'unplanned', 'unpopular', 'unprecedented', 'unpredictable', 'unrealistic', 'unrecorded', 'unreliable', 'unresolved', 'unsafe', 'unscented', 'unseen', 'unstructured', 'unsuccessful', 'unsung', 'unsure', 'unsuspecting', 'unsustainable', 'untapped', 'untested', 'untreatable', 'untreated', 'unturned', 'unused', 'unusual', 'unvaccinated', 'unveiled', 'unveils', 'unwanted', 'unwell', 'unwind', 'uou', 'up', 'upbeat', 'upbringing', 'upcoming', 'update', 'updated', 'updates', 'upgrade', 'upheld', 'uphill', 'upholds', 'uphttpthechartblogscnncombrainscansmaypredictifpatientswillwakeup', 'upped', 'upper', 'ups', 'upstream', 'uptake', 'uptick', 'upton', 'upwaves', 'ur', 'urban', 'ure', 'urethra', 'urge', 'urged', 'urgency', 'urgent', 'urges', 'urination', 'urine', 'urself', 'uruguay', 'us', 'usa', 'usda', 'use', 'used', 'user', 'users', 'uses', 'usetransition', 'using', 'uss', 'usual', 'usually', 'utah', 'uterine', 'utilize', 'uturn', 'uv', 'v', 'va', 'vacation', 'vacations', 'vaccinate', 'vaccinated', 'vaccinating', 'vaccination', 'vaccinations', 'vaccine', 'vaccines', 'vacuum', 'vagina', 'vaginal', 'vaginasand', 'vajayjays', 'valentine', 'valentines', 'valentinesday', 'valley', 'valuable', 'value', 'valued', 'values', 'vanuatu', 'vape', 'vaping', 'vapor', 'variant', 'variants', 'variation', 'varies', 'varieties', 'variety', 'vary', 'vasectomies', 'vastly', 'vaulting', 'vbl', 'vcjd', 'vday', 've', 'veg', 'vegan', 'vegans', 'vegas', 'vegetable', 'vegetables', 'vegetarian', 'vegetarians', 'vegetative', 'veggie', 'veggiefruit', 'veggies', 'vein', 'vending', 'venezuela', 'venice', 'vennie', 'venom', 'ventilation', 'ventilator', 'versa', 'version', 'versions', 'versus', 'vessel', 'vest', 'vet', 'veteran', 'veterans', 'vets', 'vex', 'viagra', 'vials', 'vibrant', 'vibrating', 'vibrio', 'vice', 'vices', 'vicodin', 'victim', 'victims', 'victorian', 'victorianedwardian', 'victory', 'video', 'videos', 'vids', 'vietnam', 'view', 'viewers', 'viewpoint', 'viewpoints', 'views', 'vigilance', 'vigilant', 'vigorous', 'village', 'villagers', 'villages', 'villain', 'vine', 'vinegar', 'vino', 'vinson', 'violate', 'violence', 'violenceplagued', 'violent', 'violinist', 'viral', 'virginia', 'virtual', 'virus', 'viruses', 'visa', 'vision', 'visionary', 'visionthreatening', 'visit', 'visited', 'visiting', 'visitors', 'visits', 'visor', 'visual', 'visually', 'visuallyimpaired', 'visuals', 'vit', 'vital', 'vitality', 'vitally', 'vitamin', 'vitamind', 'vitamins', 'vitiligo', 'vitro', 'vivian', 'vo', 'vocal', 'vodka', 'voguing', 'voice', 'voices', 'voltage', 'voluntary', 'volunteer', 'volunteers', 'vomit', 'vomited', 'vomiting', 'vomits', 'voodoo', 'vote', 'voted', 'votes', 'voucher', 'vow', 'vows', 'vs', 'vsteaming', 'vu', 'vulnerability', 'vulnerable', 'vulnificus', 'w', 'waad', 'wade', 'wades', 'waffle', 'wage', 'waist', 'waistline', 'waists', 'wait', 'waited', 'waiting', 'waits', 'wake', 'wakes', 'wakeup', 'waking', 'wales', 'walesonly', 'walk', 'walked', 'walkfriendly', 'walkin', 'walking', 'walks', 'wall', 'wallet', 'walls', 'walnuts', 'walsh', 'wanes', 'waning', 'wanswers', 'want', 'wanted', 'wanting', 'wants', 'war', 'ward', 'wards', 'ware', 'wares', 'warm', 'warmed', 'warmer', 'warming', 'warn', 'warned', 'warning', 'warnings', 'warns', 'warp', 'warrant', 'warrior', 'warriors', 'wars', 'wartime', 'wary', 'wash', 'washes', 'washing', 'washington', 'wasn', 'wasnt', 'waste', 'wasted', 'wastewater', 'wasting', 'watch', 'watchdog', 'watched', 'watching', 'water', 'watered', 'watermelon', 'waterproof', 'waters', 'watery', 'watson', 'wave', 'waver', 'waves', 'wax', 'waxing', 'way', 'ways', 'wayward', 'wbones', 'wcal', 'wdd', 'wdiet', 'wdog', 'we', 'weak', 'weakening', 'weakens', 'weakness', 'weaned', 'weapon', 'weapons', 'wear', 'wearing', 'wearred', 'wearredday', 'wears', 'weather', 'weathering', 'web', 'webby', 'website', 'websites', 'wed', 'weddedbliss', 'wedding', 'weddingsfunerals', 'weds', 'wee', 'weed', 'weedcnn', 'weedtha', 'weeek', 'week', 'weekend', 'weekends', 'weekly', 'weeklyweighin', 'weeklyworkout', 'weeks', 'weider', 'weigh', 'weighed', 'weighing', 'weighins', 'weighs', 'weight', 'weightasthma', 'weightlifitng', 'weightlifting', 'weightloss', 'weightoss', 'weightrelated', 'weights', 'weightsurgery', 'weiner', 'weir', 'weird', 'weirder', 'welcome', 'welcomes', 'welcoming', 'wellbeing', 'wellinformed', 'wellington', 'wellness', 'wells', 'welsh', 'wendy', 'went', 'werent', 'werewolf', 'wessels', 'west', 'western', 'westminster', 'westwing', 'westwings', 'weve', 'wezel', 'wgestational', 'whale', 'what', 'whatadifferenceay', 'whats', 'wheat', 'wheel', 'wheelchair', 'wheels', 'where', 'whereabouts', 'wheres', 'whilst', 'whistleblower', 'whistleblowers', 'whistleblowing', 'white', 'whites', 'whitney', 'whiz', 'who', 'whoa', 'whole', 'wholediet', 'wholefamily', 'wholefoods', 'wholegrain', 'wholegrains', 'wholly', 'whooping', 'whoppers', 'whopping', 'whos', 'wht', 'whyileft', 'whyistayed', 'wide', 'widely', 'widened', 'widening', 'widens', 'wider', 'widespread', 'widow', 'widows', 'wife', 'wifes', 'wii', 'wikipedia', 'wil', 'wild', 'wilde', 'wildest', 'wildly', 'wilko', 'will', 'william', 'williams', 'willing', 'willpower', 'win', 'winding', 'windless', 'window', 'windpipe', 'winds', 'windy', 'wine', 'wines', 'winged', 'wings', 'winner', 'winners', 'winning', 'winnings', 'wins', 'winsulin', 'winter', 'winterskin', 'winwin', 'wipe', 'wiped', 'wipeoutalz', 'wipes', 'wired', 'wireless', 'wisdom', 'wish', 'wishing', 'wishlist', 'wit', 'withdraw', 'withdrawal', 'withholds', 'witness', 'wives', 'wknd', 'wks', 'wlk', 'wls', 'wm', 'wmentally', 'wneighbors', 'wo', 'wobbly', 'woe', 'woes', 'woke', 'wolf', 'woman', 'womans', 'womantowoman', 'womb', 'wombtransplant', 'women', 'womens', 'womensee', 'womenshealth', 'won', 'wonder', 'wondered', 'wonderful', 'wondering', 'wont', 'woodcock', 'wool', 'woot', 'word', 'words', 'work', 'workand', 'worked', 'worker', 'workers', 'workforce', 'working', 'worklife', 'workload', 'workout', 'workouts', 'workplace', 'workplaces', 'works', 'worksites', 'world', 'worldaidsday', 'worldblooddonorday', 'worldcancerday', 'worldcup', 'worlds', 'worldstrokeday', 'worldvasectomyday', 'worldvitiligoday', 'worldwide', 'worm', 'worms', 'worried', 'worrier', 'worries', 'worrisome', 'worry', 'worrying', 'worse', 'worsen', 'worsening', 'worsens', 'worst', 'worsthit', 'wort', 'worth', 'worthless', 'worthwhile', 'wouldnt', 'wounded', 'wounds', 'wout', 'wow', 'wowworthy', 'wprevention', 'wrap', 'wrapped', 'wrappers', 'wreaks', 'wreck', 'wrecked', 'wreckers', 'wrestle', 'wrestler', 'wrestlers', 'wrigley', 'wrinkles', 'wrising', 'wrist', 'write', 'writebol', 'writer', 'writers', 'writes', 'writing', 'written', 'wrong', 'wrongbodypart', 'wronghttpcnnitdblmpa', 'wrongly', 'wrote', 'wt', 'wtype', 'wus', 'ww', 'x', 'xanax', 'xanxrelated', 'xl', 'xo', 'xray', 'xrays', 'xtreme', 'xtremedream', 'xtremeeating', 'xylitols', 'y', 'ya', 'yale', 'yawn', 'yawning', 'yeah', 'year', 'yearlong', 'yearly', 'yearold', 'yearolds', 'yearonmars', 'years', 'yearslost', 'yeast', 'yellow', 'yellowfever', 'yellowtinted', 'yep', 'yes', 'yesterday', 'yesterdays', 'ygbkm', 'yield', 'yields', 'yikes', 'ymca', 'yo', 'yoga', 'yogaenthusiast', 'yogavirginthese', 'yogi', 'yogurt', 'yolks', 'york', 'yorkers', 'yorks', 'yorkshire', 'yosemite', 'you', 'youd', 'youll', 'youloved', 'young', 'younger', 'youngest', 'your', 'youre', 'youself', 'youth', 'youthdrug', 'youthpromoting', 'youths', 'youtube', 'youve', 'yr', 'yrold', 'yrs', 'yuck', 'yuk', 'yum', 'yummy', 'yup', 'ywca', 'ywm', 'zach', 'zap', 'zappas', 'zapping', 'zayid', 'zealand', 'zen', 'zeneca', 'zero', 'zerocalorie', 'zimmerman', 'zinnias', 'zip', 'ziplock', 'zitcausing', 'zmapp', 'zocor', 'zombie', 'zone', 'zones', 'zoo', 'zucchini', 'zumba', 'zumbaworks', 'zzzs', 'zzzzz', '½', 'â', 'ã']\n",
      "(13229, 3)\n"
     ]
    }
   ],
   "source": [
    "km = KMeans(n_clusters = 2 ,n_init = 10, random_state = 42)\n",
    "label_vectors = km.fit_predict(truc_data)\n",
    "print('inertia = ', km.inertia_)\n",
    "print('silhouette coef = ', metrics.silhouette_score(truc_data, km.labels_, sample_size=1000))\n",
    "\n",
    "print(processed_tfidf.shape)\n",
    "print(label_vectors)\n",
    "# print(processed_tfidf.get_feature_names())\n",
    "print(vectorizer.get_feature_names())\n",
    "print(complete_tweet.shape)\n"
   ]
  },
  {
   "cell_type": "markdown",
   "metadata": {
    "colab_type": "text",
    "id": "8DT7uXatrs7r"
   },
   "source": [
    "## Visualize the results"
   ]
  },
  {
   "cell_type": "code",
   "execution_count": 17,
   "metadata": {
    "colab": {
     "base_uri": "https://localhost:8080/",
     "height": 459
    },
    "colab_type": "code",
    "id": "MEv8b8ovC9r_",
    "outputId": "7608f7c5-1ac9-496b-e5f6-c04c84929fe2"
   },
   "outputs": [],
   "source": [
    "num_samples = complete_tweet.shape[0]\n",
    "for i in range(num_samples):\n",
    "  if(label_vectors[i] == 11):\n",
    "    print(copy_tweet['headline_text'][i])\n",
    "    print()"
   ]
  },
  {
   "cell_type": "code",
   "execution_count": 18,
   "metadata": {
    "colab": {
     "base_uri": "https://localhost:8080/",
     "height": 884
    },
    "colab_type": "code",
    "id": "rVkuzKDaFRLv",
    "outputId": "12851b66-40e3-42f4-8726-b93d0a5a7be7"
   },
   "outputs": [
    {
     "name": "stdout",
     "output_type": "stream",
     "text": [
      "0    a\n",
      "0    a\n",
      "Name: name, dtype: object\n"
     ]
    }
   ],
   "source": [
    "main_words = np.argmax(km.cluster_centers_, axis = 1)\n",
    "print(dictionary['name'][main_words])"
   ]
  },
  {
   "cell_type": "markdown",
   "metadata": {
    "colab_type": "text",
    "id": "6im93jm4lmvY"
   },
   "source": [
    "## DBSCAN"
   ]
  },
  {
   "cell_type": "code",
   "execution_count": 19,
   "metadata": {
    "colab": {
     "base_uri": "https://localhost:8080/",
     "height": 36
    },
    "colab_type": "code",
    "id": "C8nVE5VAlmFR",
    "outputId": "a26d6a6f-ded6-4937-e458-c291fe1779aa"
   },
   "outputs": [
    {
     "name": "stdout",
     "output_type": "stream",
     "text": [
      "tempo do dbs 1.4194231033325195\n"
     ]
    }
   ],
   "source": [
    "from sklearn.cluster import DBSCAN\n",
    "\n",
    "ti = time.time()\n",
    "dbs = DBSCAN(eps=1.2, min_samples=51)\n",
    "dbs_clust = dbs.fit(processed_tfidf)\n",
    "tf = time.time()\n",
    "print('tempo do dbs' ,tf - ti)"
   ]
  },
  {
   "cell_type": "code",
   "execution_count": 20,
   "metadata": {
    "colab": {
     "base_uri": "https://localhost:8080/",
     "height": 55
    },
    "colab_type": "code",
    "id": "wjLH_PuHmWd9",
    "outputId": "6bf5cea9-164e-44d1-b88c-ff07172812a3"
   },
   "outputs": [
    {
     "name": "stdout",
     "output_type": "stream",
     "text": [
      "number of clusters:  175\n",
      "-0.008950681911889682\n"
     ]
    }
   ],
   "source": [
    "label_vectors = dbs_clust.fit_predict(processed_tfidf)\n",
    "num_clusters = np.argmax(label_vectors)\n",
    "print('number of clusters: ', num_clusters)\n",
    "print(metrics.silhouette_score(processed_tfidf, dbs_clust.labels_, sample_size=500))"
   ]
  },
  {
   "cell_type": "code",
   "execution_count": 21,
   "metadata": {
    "colab": {
     "base_uri": "https://localhost:8080/",
     "height": 2507
    },
    "colab_type": "code",
    "id": "XGtn5a313ZkO",
    "outputId": "2b8b5f38-0d5d-4a44-c994-ceddd9f76288"
   },
   "outputs": [
    {
     "name": "stdout",
     "output_type": "stream",
     "text": [
      "bad #measles world bad\n",
      "\n",
      "measles outbreak bad really heres break\n",
      "\n",
      "bad teeth blame genes\n",
      "\n",
      "think butter meat amp cheese bad youre\n",
      "\n",
      "#marijuana bad heart\n",
      "\n",
      "rt warning signs bad #nutrition advice\n",
      "\n",
      "rt bad breath latest article\n",
      "\n",
      "getting workout results want bad habits drop\n",
      "\n",
      "bad parent child candy #halloween\n",
      "\n",
      "good carbs vs bad carbs smackdown\n",
      "\n",
      "bad health mistake youre making really\n",
      "\n",
      "habits good bad stick youre stressed\n",
      "\n",
      "habits good bad stick youre stressed\n",
      "\n",
      "diets history good bad amp scary\n",
      "\n",
      "sugar really bad\n",
      "\n",
      "vaccine melt bad fat\n",
      "\n",
      "doctors bad news seen compassionate\n",
      "\n",
      "#sleeping hours night bad\n",
      "\n",
      "stopping red lights bad\n",
      "\n",
      "team super bowl bad #health\n",
      "\n",
      "long eyelashes bad news\n",
      "\n",
      "bad carbs bad\n",
      "\n",
      "#running actually bad knees\n",
      "\n",
      "energy drinks really bad\n",
      "\n",
      "stress bad #heart mind ways kick curb\n",
      "\n",
      "cocacola bad waistline good gut\n",
      "\n",
      "bad habits hurt healthy relationship\n",
      "\n",
      "foods mask bad breath temporarily\n",
      "\n",
      "bad health habits break\n",
      "\n",
      "bad health habits make age faster\n",
      "\n",
      "having good terrible bad day eat\n",
      "\n",
      "selfcentered narcissism bad health\n",
      "\n",
      "allergies got bad sinusclearing foods eat spring\n",
      "\n",
      "protein shakes good bad\n",
      "\n",
      "bad words\n",
      "\n",
      "bad habits ruin healthy #relationship\n",
      "\n",
      "foods mask bad breath temporarily\n",
      "\n",
      "tell bad breath\n",
      "\n",
      "bad news bearded men\n",
      "\n",
      "people eat headlines bear bad news\n",
      "\n",
      "protein shakes good bad\n",
      "\n",
      "allergies got bad sinusclearing foods eat spring\n",
      "\n",
      "having good terrible bad day eat\n",
      "\n",
      "women bad boy\n",
      "\n",
      "bad habits hurt healthy relationship\n",
      "\n",
      "foods mask bad breath temporarily\n",
      "\n",
      "bad health habits break\n",
      "\n",
      "bad health habits make age faster\n",
      "\n",
      "rt #breakfast gets engine going skipping meal invites bad mood fatigue bad habits #healthtalk\n",
      "\n",
      "having good terrible bad day eat\n",
      "\n",
      "bad words\n",
      "\n",
      "selfcentered narcissism bad health\n",
      "\n",
      "allergies got bad sinusclearing foods eat spring\n",
      "\n",
      "strenuous runs bad\n",
      "\n",
      "bad winter nhs\n",
      "\n",
      "bad hospital report errors\n",
      "\n",
      "cancer bad luck\n",
      "\n",
      "cancer types just bad luck\n",
      "\n",
      "ebola bad\n",
      "\n",
      "fastpaced tv bad behaviour link\n",
      "\n",
      "big buttocks bad health\n",
      "\n",
      "poor face years bad health\n",
      "\n",
      "city life bad\n",
      "\n",
      "video bikers brakes bad driving\n",
      "\n",
      "know good fat bad\n",
      "\n",
      "audio bad mattresses linked pain\n",
      "\n"
     ]
    }
   ],
   "source": [
    "num_samples = complete_tweet.shape[0]\n",
    "for i in range(num_samples):\n",
    "  if(label_vectors[i] == 0):\n",
    "    print(copy_tweet['headline_text'][i])\n",
    "    print()"
   ]
  },
  {
   "cell_type": "markdown",
   "metadata": {
    "colab_type": "text",
    "id": "Oq68BvlMlZk1"
   },
   "source": [
    "## SVD fot 2 components"
   ]
  },
  {
   "cell_type": "code",
   "execution_count": 22,
   "metadata": {
    "colab": {},
    "colab_type": "code",
    "id": "FCNJUIygYaZr"
   },
   "outputs": [],
   "source": [
    "km = KMeans(n_clusters = 150 ,n_init = 10, random_state = 42)\n",
    "label_vectors = km.fit_predict(truc_data)"
   ]
  },
  {
   "cell_type": "code",
   "execution_count": 23,
   "metadata": {
    "colab": {
     "base_uri": "https://localhost:8080/",
     "height": 380
    },
    "colab_type": "code",
    "id": "8F1KrUnvRWmT",
    "outputId": "79d1a26c-6f3d-40b4-d813-2d9feda751a3"
   },
   "outputs": [
    {
     "data": {
      "text/plain": [
       "<matplotlib.collections.PathCollection at 0x7f2e4f8ac5f8>"
      ]
     },
     "execution_count": 23,
     "metadata": {},
     "output_type": "execute_result"
    },
    {
     "data": {
      "image/png": "[encoded data removed]",
      "text/plain": [
       "<Figure size 432x288 with 1 Axes>"
      ]
     },
     "metadata": {},
     "output_type": "display_data"
    }
   ],
   "source": [
    "plt.figure()\n",
    "plt.title('SVD com 2 componentes e 150 clusters')\n",
    "# for i in range(0, len(truc_data), 5):\n",
    "plt.scatter(truc_data[:3000, 0], truc_data[:3000, 1], c=label_vectors[:3000], cmap='plasma')\n",
    "\n",
    "#     plt.scatter(truc_data[i, 0], truc_data[i, 1], color='b', alpha=.6)"
   ]
  },
  {
   "cell_type": "markdown",
   "metadata": {
    "colab_type": "text",
    "id": "Dm7pgnOJdFoN"
   },
   "source": [
    "\n",
    "## References\n",
    "\n",
    "Cleaning the data:\n",
    "https://towardsdatascience.com/another-twitter-sentiment-analysis-bb5b01ebad90\n",
    "\n",
    "Python remove stop words from pandas dataframe:\n",
    "https://stackoverflow.com/questions/29523254/python-remove-stop-words-from-pandas-dataframe\n",
    "\n",
    "=D"
   ]
  },
  {
   "cell_type": "code",
   "execution_count": null,
   "metadata": {},
   "outputs": [],
   "source": []
  }
 ],
 "metadata": {
  "accelerator": "GPU",
  "colab": {
   "name": "Assigment3.ipynb",
   "provenance": [],
   "version": "0.3.2"
  },
  "kernelspec": {
   "display_name": "Python [default]",
   "language": "python",
   "name": "python3"
  },
  "language_info": {
   "codemirror_mode": {
    "name": "ipython",
    "version": 3
   },
   "file_extension": ".py",
   "mimetype": "text/x-python",
   "name": "python",
   "nbconvert_exporter": "python",
   "pygments_lexer": "ipython3",
   "version": "3.6.5"
  }
 },
 "nbformat": 4,
 "nbformat_minor": 1
}
