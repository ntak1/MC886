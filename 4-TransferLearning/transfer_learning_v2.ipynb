{
 "cells": [
  {
   "cell_type": "code",
   "execution_count": null,
   "metadata": {
    "colab": {},
    "colab_type": "code",
    "id": "equTYlhLUPR1"
   },
   "outputs": [],
   "source": [
    "%matplotlib inline"
   ]
  },
  {
   "cell_type": "markdown",
   "metadata": {
    "colab_type": "raw",
    "id": "Hukz1DArUPSM"
   },
   "source": [
    "tensorflow version: 1.12.0-rc0\n",
    "scikit-learn version: 0.17\n",
    "keras version: 2.2.4\n",
    "tensorboard version: 1.10"
   ]
  },
  {
   "cell_type": "markdown",
   "metadata": {
    "colab_type": "text",
    "id": "oLR7iTicUPSR"
   },
   "source": [
    "# Transfer Learning\n",
    "In this assignment, we will use the weights of a network pre-trained in a particular problem as starting point to train our CNN to a different problem. As training a network from scratch is time-consuming and demands a lot of data, this is a frequent strategy, specially if both datasets (the one used for pre-training and the target) shares similar structures/elements/concepts. \n",
    "\n",
    "This is specially true when working with images. Most filters learned in initial convolutional layers will detect low-level elements, such as borders, corners and color blobs, which are common to most problems in the image domain. \n",
    "\n",
    "In this notebook, we will load the SqueezeNet architecture trained in the ImageNet dataset and fine-tune it to CIFAR-10.\n",
    "\n",
    "## Imports"
   ]
  },
  {
   "cell_type": "code",
   "execution_count": null,
   "metadata": {
    "colab": {
     "base_uri": "https://localhost:8080/",
     "height": 36
    },
    "colab_type": "code",
    "executionInfo": {
     "elapsed": 42284,
     "status": "ok",
     "timestamp": 1542992666697,
     "user": {
      "displayName": "Naomi Takemoto",
      "photoUrl": "",
      "userId": "07929372871368924254"
     },
     "user_tz": 120
    },
    "id": "-EEN0mVlUPSU",
    "outputId": "852a7b39-ec38-43d4-e0c7-3237d1de77d8"
   },
   "outputs": [],
   "source": [
    "import os\n",
    "import numpy as np\n",
    "from random import sample, seed\n",
    "seed(42)\n",
    "np.random.seed(42)\n",
    "\n",
    "import matplotlib.pyplot as plt\n",
    "# plt.rcParams['figure.figsize'] = (15,15) # Make the figures a bit bigger\n",
    "\n",
    "# Keras imports\n",
    "from keras.layers import Input, Convolution2D, MaxPooling2D, Activation, concatenate, Dropout, GlobalAveragePooling2D\n",
    "from keras.models import Model\n",
    "from keras import regularizers\n",
    "from keras.optimizers import Adam\n",
    "from keras.utils import np_utils\n",
    "from keras.preprocessing.image import load_img, img_to_array\n",
    "from keras.datasets import cifar10\n",
    "from keras.callbacks import TensorBoard\n",
    "from sklearn.model_selection import StratifiedShuffleSplit\n",
    "from keras.models import Sequential\n",
    "from keras import optimizers, losses\n",
    "from keras.utils import to_categorical\n",
    "from sklearn.model_selection import train_test_split\n",
    "\n",
    "#Utility to plot\n",
    "def plotImages(imgList):\n",
    "    for i in range(len(imgList)):\n",
    "        plotImage(imgList[i])\n",
    "        \n",
    "        \n",
    "def plotImage(img):\n",
    "    fig = plt.figure(figsize=(3,3))\n",
    "    ax = fig.add_subplot(111)\n",
    "\n",
    "    ax.imshow(np.uint8(img), interpolation='nearest')\n",
    "    plt.show()"
   ]
  },
  {
   "cell_type": "markdown",
   "metadata": {
    "colab_type": "text",
    "id": "Wf1X7XlMUPSj"
   },
   "source": [
    "## SqueezeNet definition\n",
    "These methods define our architecture and load the weights obtained using ImageNet data."
   ]
  },
  {
   "cell_type": "code",
   "execution_count": null,
   "metadata": {
    "colab": {},
    "colab_type": "code",
    "id": "w9UafAEUUPSm"
   },
   "outputs": [],
   "source": [
    "# Fire Module Definition\n",
    "sq1x1 = \"squeeze1x1\"\n",
    "exp1x1 = \"expand1x1\"\n",
    "exp3x3 = \"expand3x3\"\n",
    "relu = \"relu_\"\n",
    "\n",
    "def fire_module(x, fire_id, squeeze=16, expand=64):\n",
    "    s_id = 'fire' + str(fire_id) + '/'\n",
    "\n",
    "    channel_axis = 3\n",
    "    \n",
    "    x = Convolution2D(squeeze, (1, 1), padding='valid', name=s_id + sq1x1)(x)\n",
    "    x = Activation('relu', name=s_id + relu + sq1x1)(x)\n",
    "\n",
    "    left = Convolution2D(expand, (1, 1), padding='valid', name=s_id + exp1x1)(x)\n",
    "    left = Activation('relu', name=s_id + relu + exp1x1)(left)\n",
    "\n",
    "    right = Convolution2D(expand, (3, 3), padding='same', name=s_id + exp3x3)(x)\n",
    "    right = Activation('relu', name=s_id + relu + exp3x3)(right)\n",
    "\n",
    "    x = concatenate([left, right], axis=channel_axis, name=s_id + 'concat')\n",
    "    return x\n",
    "\n",
    "#SqueezeNet model definition\n",
    "def SqueezeNet(input_shape):\n",
    "    img_input = Input(shape=input_shape) #placeholder\n",
    "    \n",
    "    x = Convolution2D(64, (3, 3), strides=(2, 2), padding='valid', name='conv1')(img_input)\n",
    "    x = Activation('relu', name='relu_conv1')(x)\n",
    "    x = MaxPooling2D(pool_size=(3, 3), strides=(2, 2), name='pool1')(x)\n",
    "\n",
    "    x = fire_module(x, fire_id=2, squeeze=16, expand=64)\n",
    "    x = fire_module(x, fire_id=3, squeeze=16, expand=64)\n",
    "    x = MaxPooling2D(pool_size=(3, 3), strides=(2, 2), name='pool3')(x)\n",
    "\n",
    "    x = fire_module(x, fire_id=4, squeeze=32, expand=128)\n",
    "    x = fire_module(x, fire_id=5, squeeze=32, expand=128)\n",
    "    x = MaxPooling2D(pool_size=(3, 3), strides=(2, 2), name='pool5')(x)\n",
    "\n",
    "    x = fire_module(x, fire_id=6, squeeze=48, expand=192)\n",
    "    x = fire_module(x, fire_id=7, squeeze=48, expand=192)\n",
    "    x = fire_module(x, fire_id=8, squeeze=64, expand=256)\n",
    "    x = fire_module(x, fire_id=9, squeeze=64, expand=256)\n",
    "    \n",
    "    x = Dropout(0.5, name='drop9')(x)\n",
    "\n",
    "    x = Convolution2D(1000, (1, 1), padding='valid', name='conv10')(x)\n",
    "    x = Activation('relu', name='relu_conv10')(x)\n",
    "    x = GlobalAveragePooling2D()(x)\n",
    "    x = Activation('softmax', name='loss')(x)\n",
    "\n",
    "    model = Model(img_input, x, name='squeezenet')\n",
    "\n",
    "    # Download and load ImageNet weights\n",
    "    model.load_weights('./squeezenet_weights_tf_dim_ordering_tf_kernels.h5')\n",
    "    \n",
    "    return model    "
   ]
  },
  {
   "cell_type": "markdown",
   "metadata": {
    "colab_type": "text",
    "id": "7hE6zJOZUPSw"
   },
   "source": [
    "## CIFAR-10\n",
    "\n",
    "The CIFAR-10 dataset consists of 60000 32x32 colour images in 10 classes, with 6000 images per class. There are 50000 training images and 10000 test images. The class are **airplane, automobile, bird, cat, deer, dog, frog, horse, ship, truck**."
   ]
  },
  {
   "cell_type": "code",
   "execution_count": null,
   "metadata": {
    "colab": {
     "base_uri": "https://localhost:8080/",
     "height": 168
    },
    "colab_type": "code",
    "executionInfo": {
     "elapsed": 64315,
     "status": "ok",
     "timestamp": 1542992688780,
     "user": {
      "displayName": "Naomi Takemoto",
      "photoUrl": "",
      "userId": "07929372871368924254"
     },
     "user_tz": 120
    },
    "id": "FnOgeExxUPS0",
    "outputId": "5887da69-9b32-47c0-87f9-d84732cf8f43"
   },
   "outputs": [],
   "source": [
    "#Load data\n",
    "(trainVal_data, trainVal_label), (X_test, y_test) = cifar10.load_data()\n",
    "print(\"Train/Val data. X: \", trainVal_data.shape, \", Y: \", trainVal_label.shape)\n",
    "print(\"Test data. X: \", X_test.shape, \", Y: \", y_test.shape)\n",
    "\n",
    "# Prepare the data\n",
    "# ...\n",
    "\n",
    "#one hot enconding on labels (to categorical)\n",
    "trainVal_label = to_categorical(trainVal_label)\n",
    "y_test = to_categorical(y_test)\n",
    "\n",
    "#split the data into train and validation\n",
    "X_train, X_validation, y_train, y_validation = train_test_split(trainVal_data, trainVal_label, test_size=0.1, random_state=42)\n",
    "\n",
    "print(\"X_train: \", X_train.shape)\n",
    "print(\"y_train: \", y_train.shape)\n",
    "print(\"X_validation: \", X_validation.shape)\n",
    "print(\"y_validation: \", y_validation.shape)"
   ]
  },
  {
   "cell_type": "markdown",
   "metadata": {
    "colab_type": "text",
    "id": "3r1YSzYIUPS6"
   },
   "source": [
    "-----------------\n",
    "## SqueezeNet with frozen layers\n",
    "Our initial attempt will be to remove SqueezeNet's top layers --- responsible for the classification into ImageNet classes --- and train a new set of layers to our CIFAR-10 classes. We will also freeze the layers before `drop9`. Our architecture will be like this:\n",
    "\n"
   ]
  },
  {
   "cell_type": "code",
   "execution_count": null,
   "metadata": {
    "colab": {},
    "colab_type": "code",
    "id": "4Y7BubKaP4un"
   },
   "outputs": [],
   "source": [
    "def pop_layer(model):\n",
    "    if not model.outputs:\n",
    "        raise Exception('Sequential model cannot be popped: model is empty.')\n",
    "\n",
    "    model.layers.pop()\n",
    "    if not model.layers:\n",
    "        model.outputs = []\n",
    "        model.inbound_nodes = []\n",
    "        model.outbound_nodes = []\n",
    "    else:\n",
    "        model.layers[-1].outbound_nodes = []\n",
    "        model.outputs = [model.layers[-1].output]\n",
    "    model.built = False\n",
    "    \n",
    "def new_model(squeezeNetModel):\n",
    "  \n",
    "  #Add new classification layers\n",
    "  #delete fully connected layers\n",
    "  pop_layer(squeezeNetModel)\n",
    "  pop_layer(squeezeNetModel)\n",
    "  pop_layer(squeezeNetModel)\n",
    "  pop_layer(squeezeNetModel)\n",
    "  \n",
    "  model = Sequential()\n",
    "  model.add(squeezeNetModel)\n",
    "\n",
    "  model.add(Convolution2D(10, (1, 1), padding='valid', name='conv10'))\n",
    "  model.add(Activation('relu', name='relu_conv10'))\n",
    "  model.add(GlobalAveragePooling2D())\n",
    "  model.add(Activation('softmax', name='loss'))\n",
    "  \n",
    "  return model  "
   ]
  },
  {
   "cell_type": "code",
   "execution_count": null,
   "metadata": {
    "colab": {},
    "colab_type": "code",
    "id": "NR9DBcmaUPS-"
   },
   "outputs": [],
   "source": [
    "#Add new classification layers\n",
    "# ...\n",
    "squeezeNetModel = SqueezeNet((32,32,3))\n",
    "\n",
    "# Freeze all the layers\n",
    "for layer in squeezeNetModel.layers:\n",
    "  layer.trainable = False\n",
    "\n",
    "#the model with the new classification layers\n",
    "frozen_model = new_model(squeezeNetModel)\n",
    "\n",
    "# sanity checks\n",
    "# frozen_model.summary()\n",
    "# print([layer.trainable for layer in squeezeNetModel.layers])\n"
   ]
  },
  {
   "cell_type": "markdown",
   "metadata": {
    "colab_type": "text",
    "id": "WSXzygqTUPTT"
   },
   "source": [
    "Now, we compile our model and train it:"
   ]
  },
  {
   "cell_type": "code",
   "execution_count": null,
   "metadata": {
    "colab": {
     "base_uri": "https://localhost:8080/",
     "height": 1923
    },
    "colab_type": "code",
    "executionInfo": {
     "elapsed": 1415669,
     "status": "ok",
     "timestamp": 1542994040225,
     "user": {
      "displayName": "Naomi Takemoto",
      "photoUrl": "",
      "userId": "07929372871368924254"
     },
     "user_tz": 120
    },
    "id": "34Fs41cnUPTW",
    "outputId": "91dd88f0-5d1f-4c65-a99a-9e5a8637a32c",
    "scrolled": true
   },
   "outputs": [],
   "source": [
    "# Compile model and train it.\n",
    "# ...\n",
    "\n",
    "optimizer = optimizers.SGD()\n",
    "\n",
    "frozen_model.compile(loss=losses.categorical_crossentropy,\n",
    "              optimizer= optimizer,\n",
    "              metrics=['accuracy'])\n",
    "\n",
    "history = frozen_model.fit(X_train/255. , y_train, batch_size=16, epochs=5, validation_data = (X_validation, y_validation))"
   ]
  },
  {
   "cell_type": "markdown",
   "metadata": {
    "colab_type": "text",
    "id": "AVVweSogUPTi"
   },
   "source": [
    "Finally, let's evaluate on our test set:"
   ]
  },
  {
   "cell_type": "code",
   "execution_count": null,
   "metadata": {
    "colab": {
     "base_uri": "https://localhost:8080/",
     "height": 55
    },
    "colab_type": "code",
    "executionInfo": {
     "elapsed": 1416501,
     "status": "ok",
     "timestamp": 1542994041087,
     "user": {
      "displayName": "Naomi Takemoto",
      "photoUrl": "",
      "userId": "07929372871368924254"
     },
     "user_tz": 120
    },
    "id": "XG-48LJVUPTn",
    "outputId": "e893d760-5139-41a6-b2af-a7ad8f872a6a"
   },
   "outputs": [],
   "source": [
    "# Evaluate on validation:\n",
    "# ...\n",
    "score = frozen_model.evaluate(X_validation, y_validation, verbose=0)\n",
    "\n",
    "print('Validation loss:', score[0])\n",
    "print('Validation accuracy (NORMALIZED):', score[1])"
   ]
  },
  {
   "cell_type": "markdown",
   "metadata": {
    "colab_type": "text",
    "id": "T_O_LQihUPT2"
   },
   "source": [
    "-----------------\n",
    "-----------------\n",
    "\n",
    "# Training last 2 Fire Modules + classification layers\n",
    "As we could see, the frozen network performed very poorly. By freezing most layers, we do not allow SqueezeNet to adapt its weights to features present in CIFAR-10.\n",
    "\n",
    "Let's try to unfreeze the last two fire modules and train once more. The architecture will be:\n"
   ]
  },
  {
   "cell_type": "code",
   "execution_count": null,
   "metadata": {
    "colab": {
     "base_uri": "https://localhost:8080/",
     "height": 56
    },
    "colab_type": "code",
    "executionInfo": {
     "elapsed": 1417565,
     "status": "ok",
     "timestamp": 1542994042168,
     "user": {
      "displayName": "Naomi Takemoto",
      "photoUrl": "",
      "userId": "07929372871368924254"
     },
     "user_tz": 120
    },
    "id": "Y-Rq50G1UPT5",
    "outputId": "d7157074-a64b-450d-b79c-5f3dc57e938c"
   },
   "outputs": [],
   "source": [
    "squeezeNetModel = SqueezeNet((32,32,3))\n",
    "\n",
    "# #freeze layers\n",
    "for layer in squeezeNetModel.layers[:48]:\n",
    "    layer.trainable = False\n",
    "\n",
    "fire_model = new_model(squeezeNetModel)\n",
    "#test\n",
    "print([(layer.name, layer.trainable) for layer in squeezeNetModel.layers])\n",
    "\n"
   ]
  },
  {
   "cell_type": "markdown",
   "metadata": {
    "colab_type": "text",
    "id": "RXt_7KWmUPUD"
   },
   "source": [
    "Now, we compile our model and train it:"
   ]
  },
  {
   "cell_type": "code",
   "execution_count": null,
   "metadata": {
    "colab": {
     "base_uri": "https://localhost:8080/",
     "height": 1923
    },
    "colab_type": "code",
    "executionInfo": {
     "elapsed": 10221,
     "status": "ok",
     "timestamp": 1542997286545,
     "user": {
      "displayName": "Naomi Takemoto",
      "photoUrl": "",
      "userId": "07929372871368924254"
     },
     "user_tz": 120
    },
    "id": "vFs6jViUUPUG",
    "outputId": "8e7d8566-2465-43b0-95a9-12bc6880fe9e"
   },
   "outputs": [],
   "source": [
    "#Compile model and train it\n",
    "# ...\n",
    "\n",
    "optimizer = optimizers.SGD()\n",
    "fire_model.compile(loss=losses.categorical_crossentropy,\n",
    "              optimizer= optimizer,\n",
    "              metrics=['accuracy'])\n",
    "\n",
    "batch_size = 32 #this is the default by the way\n",
    "history = fire_model.fit(X_train/255. , y_train, batch_size=16, epochs=2, validation_data = (X_validation, y_validation))"
   ]
  },
  {
   "cell_type": "markdown",
   "metadata": {
    "colab_type": "text",
    "id": "27oRWsB-UPUN"
   },
   "source": [
    "Finally, let's evaluate on our test set:"
   ]
  },
  {
   "cell_type": "code",
   "execution_count": null,
   "metadata": {
    "colab": {
     "base_uri": "https://localhost:8080/",
     "height": 55
    },
    "colab_type": "code",
    "executionInfo": {
     "elapsed": 926,
     "status": "ok",
     "timestamp": 1542997286549,
     "user": {
      "displayName": "Naomi Takemoto",
      "photoUrl": "",
      "userId": "07929372871368924254"
     },
     "user_tz": 120
    },
    "id": "fgvB5AqVUPUR",
    "outputId": "ea789db3-d69c-4720-a795-2d806f9ef274"
   },
   "outputs": [],
   "source": [
    "# Evaluate on validation.\n",
    "score = fire_model.evaluate(X_validation, y_validation, verbose=0)\n",
    "print('Validation loss:', score[0])\n",
    "print('Validation accuracy (NORMALIZED):', score[1])"
   ]
  },
  {
   "cell_type": "markdown",
   "metadata": {
    "colab_type": "text",
    "id": "VRquTR3SUPUa"
   },
   "source": [
    "-----------\n",
    "-----------\n",
    "-----------\n",
    "# Tensorboard\n",
    "\n",
    "Tensorboard is a visualization tool for Tensorflow. Among other things, it allows us to monitor the progress of our training, plot metrics per epochs, visualize the architecture's schematics. \n",
    "\n",
    "Just like for Early Stopping, we will use the [Tensorboard callback](https://keras.io/callbacks/#tensorboard) to log the information about our training. An example of usage, would be:"
   ]
  },
  {
   "cell_type": "markdown",
   "metadata": {
    "colab_type": "raw",
    "collapsed": true,
    "id": "rpO5ve6rUPUg"
   },
   "source": [
    "## Just an example, DON'T RUN! \n",
    "### You will need to change <<LOG_DIR>>\n",
    "import keras.callbacks as callbacks  \n",
    "tbCallBack = callbacks.TensorBoard(log_dir = \"./<<LOG_DIR>>\")  \n",
    "model.fit(..., callbacks=[tbCallBack])  "
   ]
  },
  {
   "cell_type": "markdown",
   "metadata": {
    "colab_type": "text",
    "id": "KNPl_ivMUPUk"
   },
   "source": [
    "As your training progresses, Keras will log the metrics (e.g., loss, accuracy) to `<<LOG_DIR>>` (**make sure `<<LOG_DIR>>` is a valid directory)**. On your terminal, you will need to run Tensorboard, assign a port and access it via browser (just like jupyter).\n",
    "\n",
    "#### ----> MAKE SURE YOU USE A DIFFERENT PORT FOR JUPYTER AND TENSORBOARD <----\n",
    "\n",
    "### Docker\n",
    "For those using docker, open a new terminal and create a new container (using the same image) running Tensorboard:"
   ]
  },
  {
   "cell_type": "markdown",
   "metadata": {
    "colab_type": "raw",
    "id": "DJbTIiXLUPUn"
   },
   "source": [
    "$ docker run -it -p <<port_host>>:<<port_container>>\n",
    "            --volume=<<LOG_DIR>>:<<LOG_DIR>>\n",
    "            --name=<<container_name>> <<docker_image>> \n",
    "            tensorboard --logdir=<<LOG_DIR>> --port=<<port_container>>"
   ]
  },
  {
   "cell_type": "markdown",
   "metadata": {
    "colab_type": "text",
    "id": "kxiqF9RhUPUp"
   },
   "source": [
    "For example:"
   ]
  },
  {
   "cell_type": "markdown",
   "metadata": {
    "colab_type": "raw",
    "id": "FHzpiY02UPUq"
   },
   "source": [
    "$ docker run -it -p 8887:8887\n",
    "            --volume=/your/path/ml2018/:/ml2018\n",
    "            --name=mdc_container_tensorboard mdc-keras:cpu\n",
    "            tensorboard --logdir=/ml2018/logs --port=8887"
   ]
  },
  {
   "cell_type": "markdown",
   "metadata": {
    "colab_type": "text",
    "id": "bsX854WUUPUs"
   },
   "source": [
    "After starting Tensorboard, access it via browser on `http://localhost:<<port_container>>`.\n",
    "\n",
    "### Anaconda\n",
    "$ tensorboard --logdir=<<LOG_DIR>> --port=<<port>>"
   ]
  },
  {
   "cell_type": "markdown",
   "metadata": {
    "colab_type": "text",
    "id": "9lRH4tEXUPUu"
   },
   "source": [
    "After starting Tensorboard, access it via browser on `http://localhost:<<port>>`."
   ]
  },
  {
   "cell_type": "markdown",
   "metadata": {
    "colab_type": "text",
    "id": "ydxRTjVUUPUy"
   },
   "source": [
    "-----------\n",
    "-----------\n",
    "-----------\n",
    "\n",
    "# Fine-tuning all layers\n",
    "\n",
    "What if we fine-tune all layers of SqueezeNet?\n"
   ]
  },
  {
   "cell_type": "code",
   "execution_count": null,
   "metadata": {
    "colab": {
     "base_uri": "https://localhost:8080/",
     "height": 56
    },
    "colab_type": "code",
    "executionInfo": {
     "elapsed": 886,
     "status": "ok",
     "timestamp": 1542997286556,
     "user": {
      "displayName": "Naomi Takemoto",
      "photoUrl": "",
      "userId": "07929372871368924254"
     },
     "user_tz": 120
    },
    "id": "XdAZ27FMUPU6",
    "outputId": "4ec8e37d-70aa-4a9c-8bc8-fe3837218d44"
   },
   "outputs": [],
   "source": [
    "squeezeNetModel = SqueezeNet((32,32,3))\n",
    "\n",
    "\n",
    "for layer in squeezeNetModel.layers:\n",
    "    layer.trainable = True       #by default they are all trainable, but just for clarification\n",
    "\n",
    "#Add new classification layers\n",
    "# ...\n",
    "all_model = new_model(squeezeNetModel)\n",
    "\n",
    "#test\n",
    "print([(layer.name, layer.trainable) for layer in squeezeNetModel.layers])"
   ]
  },
  {
   "cell_type": "markdown",
   "metadata": {
    "colab_type": "text",
    "id": "EuuOy5hfUPVE"
   },
   "source": [
    "Now, we compile our model and train it:"
   ]
  },
  {
   "cell_type": "code",
   "execution_count": null,
   "metadata": {
    "colab": {
     "base_uri": "https://localhost:8080/",
     "height": 262
    },
    "colab_type": "code",
    "id": "6FPLaWroUPVI",
    "outputId": "1466b963-9669-48e5-deba-a3e6c6ed8cc4"
   },
   "outputs": [],
   "source": [
    "from time import time\n",
    "import keras.callbacks as callbacks\n",
    "#Compile model and train it\n",
    "# ...\n",
    "\n",
    "\n",
    "\n",
    "#Compile model\n",
    "# ...\n",
    "optimizer = optimizers.SGD()\n",
    "all_model.compile(loss=losses.categorical_crossentropy,\n",
    "              optimizer= optimizer,\n",
    "              metrics=['accuracy'])\n",
    "\n",
    "\n",
    "#Tensorboard callback\n",
    "tbCallBack = TensorBoard(log_dir=\"./logDir/{}\" .format(time()), write_graph=True)\n",
    "# earlystopper = callbacks.EarlyStopping(patience=3)\n",
    "# tbCallBack = TensorBoard(log_dir=\"/TransferLearning/logs/{}\".format(time()), write_graph=True)\n",
    "\n",
    "#Train model\n",
    "...\n",
    "batch_size = 32 #this is the default by the way\n",
    "history = all_model.fit(X_train/255. , y_train, batch_size=16, epochs=50,\n",
    "                           validation_data = (X_validation, y_validation),\n",
    "                           callbacks=[tbCallBack])\n"
   ]
  },
  {
   "cell_type": "markdown",
   "metadata": {
    "colab_type": "text",
    "id": "ONJWoTqKUPVW"
   },
   "source": [
    "Finally, let's evaluate on our validation set:"
   ]
  },
  {
   "cell_type": "markdown",
   "metadata": {},
   "source": [
    "## Best model"
   ]
  },
  {
   "cell_type": "code",
   "execution_count": null,
   "metadata": {
    "colab": {
     "base_uri": "https://localhost:8080/",
     "height": 55
    },
    "colab_type": "code",
    "executionInfo": {
     "elapsed": 425,
     "status": "ok",
     "timestamp": 1543009615186,
     "user": {
      "displayName": "Naomi Takemoto",
      "photoUrl": "",
      "userId": "07929372871368924254"
     },
     "user_tz": 120
    },
    "id": "Nhb2BgdTUPVb",
    "outputId": "6d9c4c29-b57c-43e9-f5fb-664fbeae323e"
   },
   "outputs": [],
   "source": [
    "# Evaluate on validation\n",
    "# ...\n",
    "score = all_model.evaluate(X_test, y_test, verbose=0)\n",
    "print('test loss:', score[0])\n",
    "print('test accuracy (NORMALIZED):', score[1])"
   ]
  },
  {
   "cell_type": "code",
   "execution_count": null,
   "metadata": {
    "scrolled": true
   },
   "outputs": [],
   "source": [
    "plt.plot(history.history['acc'])\n",
    "plt.plot(history.history['val_acc'])\n",
    "plt.title('model accuracy')\n",
    "plt.ylabel('accuracy')\n",
    "plt.xlabel('epoch')\n",
    "plt.legend(['train', 'validation'], loc='upper left')\n",
    "plt.show()\n",
    "# summarize history for loss\n",
    "plt.plot(history.history['loss'])\n",
    "plt.plot(history.history['val_loss'])\n",
    "plt.title('model loss')\n",
    "plt.ylabel('loss')\n",
    "plt.xlabel('epoch')\n",
    "plt.legend(['train', 'validation'], loc='upper left')\n",
    "plt.show()"
   ]
  },
  {
   "cell_type": "markdown",
   "metadata": {
    "colab_type": "text",
    "id": "srbbRzetUPV8"
   },
   "source": [
    "## Saving the model\n",
    "Now that we are working on more complex tasks and our trainings are starting to take more time it is usually a good idea to save the trained model from time to time. [Keras has a lot of ways of saving and loading the model](https://keras.io/getting-started/faq/#how-can-i-save-a-keras-model), but in this exercise we will use the simplest of them all: `model.save()`. It saves the architecture, the weights, the choice of loss function/optimizer/metrics and even the current state of the training, so you can resume your training later."
   ]
  },
  {
   "cell_type": "code",
   "execution_count": null,
   "metadata": {
    "colab": {
     "base_uri": "https://localhost:8080/",
     "height": 177
    },
    "colab_type": "code",
    "executionInfo": {
     "elapsed": 426,
     "status": "error",
     "timestamp": 1543003175499,
     "user": {
      "displayName": "Naomi Takemoto",
      "photoUrl": "",
      "userId": "07929372871368924254"
     },
     "user_tz": 120
    },
    "id": "VOFLkaAjUPV_",
    "outputId": "fb53492a-b11f-4c43-8815-848e118ea99d"
   },
   "outputs": [],
   "source": [
    "# all_model.save('my_model.h5')  # creates a HDF5 file 'my_model.h5'"
   ]
  },
  {
   "cell_type": "markdown",
   "metadata": {
    "colab_type": "text",
    "id": "7wFJ-FLiUPWP"
   },
   "source": [
    "## Loading a model\n",
    "Once we have our model trained, we can load it using:"
   ]
  },
  {
   "cell_type": "code",
   "execution_count": null,
   "metadata": {
    "colab": {},
    "colab_type": "code",
    "id": "_fX8ku0LUPWT"
   },
   "outputs": [],
   "source": [
    "# from keras.models import load_model\n",
    "\n",
    "# del model  # Will delete model, only to check if load_model is working\n",
    "\n",
    "# # returns a compiled model identical to the previous one\n",
    "# model = load_model('my_model.h5')\n",
    "\n",
    "# # evaluate test set again... should give us the same result\n",
    "# # ...\n",
    "# print('Test loss:', score[0])\n",
    "# print('Test accuracy (NORMALIZED):', score[1])"
   ]
  },
  {
   "cell_type": "markdown",
   "metadata": {},
   "source": [
    "## Rand Init Model"
   ]
  },
  {
   "cell_type": "code",
   "execution_count": null,
   "metadata": {
    "colab": {},
    "colab_type": "code",
    "id": "hmAn5qkYUPWc"
   },
   "outputs": [],
   "source": [
    "#SqueezeNet model definition\n",
    "def SqueezeNet_randinit(input_shape):\n",
    "    img_input = Input(shape=input_shape) #placeholder\n",
    "    \n",
    "    x = Convolution2D(64, (3, 3), strides=(2, 2), padding='valid', name='conv1')(img_input)\n",
    "    x = Activation('relu', name='relu_conv1')(x)\n",
    "    x = MaxPooling2D(pool_size=(3, 3), strides=(2, 2), name='pool1')(x)\n",
    "\n",
    "    x = fire_module(x, fire_id=2, squeeze=16, expand=64)\n",
    "    x = fire_module(x, fire_id=3, squeeze=16, expand=64)\n",
    "    x = MaxPooling2D(pool_size=(3, 3), strides=(2, 2), name='pool3')(x)\n",
    "\n",
    "    x = fire_module(x, fire_id=4, squeeze=32, expand=128)\n",
    "    x = fire_module(x, fire_id=5, squeeze=32, expand=128)\n",
    "    x = MaxPooling2D(pool_size=(3, 3), strides=(2, 2), name='pool5')(x)\n",
    "\n",
    "    x = fire_module(x, fire_id=6, squeeze=48, expand=192)\n",
    "    x = fire_module(x, fire_id=7, squeeze=48, expand=192)\n",
    "    x = fire_module(x, fire_id=8, squeeze=64, expand=256)\n",
    "    x = fire_module(x, fire_id=9, squeeze=64, expand=256)\n",
    "    \n",
    "    x = Dropout(0.5, name='drop9')(x)\n",
    "\n",
    "    x = Convolution2D(1000, (1, 1), padding='valid', name='conv10')(x)\n",
    "    x = Activation('relu', name='relu_conv10')(x)\n",
    "    x = GlobalAveragePooling2D()(x)\n",
    "    x = Activation('softmax', name='loss')(x)\n",
    "\n",
    "    model = Model(img_input, x, name='squeezenet')\n",
    "    \n",
    "    return model\n",
    "\n",
    "squeezeNetModel = SqueezeNet_randinit((32,32,3))\n",
    "\n",
    "\n",
    "#Add new classification layers\n",
    "# ...\n",
    "rand_model = new_model(squeezeNetModel)\n",
    "\n",
    "#test\n",
    "print([(layer.name, layer.trainable) for layer in squeezeNetModel.layers])\n",
    "\n",
    "#Compile model\n",
    "# ...\n",
    "optimizer = optimizers.SGD()\n",
    "rand_model.compile(loss=losses.categorical_crossentropy,\n",
    "              optimizer= optimizer,\n",
    "              metrics=['accuracy'])\n",
    "\n",
    "\n",
    "#Tensorboard callback\n",
    "tbCallBack = TensorBoard(log_dir=\"./logDir/{}\" .format(time()), write_graph=True)\n",
    "\n",
    "#Train model\n",
    "...\n",
    "batch_size = 32 #this is the default by the way\n",
    "epochs = 1\n",
    "history = rand_model.fit(X_train/255. , y_train, batch_size=16, epochs=50,\n",
    "                           validation_data = (X_validation, y_validation),\n",
    "                           callbacks=[tbCallBack])\n"
   ]
  },
  {
   "cell_type": "code",
   "execution_count": null,
   "metadata": {},
   "outputs": [],
   "source": [
    "# Evaluate on validation\n",
    "# ...\n",
    "score = rand_model.evaluate(X_test, y_test, verbose=0)\n",
    "print('valid loss:', score[0])\n",
    "print('valid accuracy (NORMALIZED):', score[1])"
   ]
  },
  {
   "cell_type": "markdown",
   "metadata": {},
   "source": [
    "=D"
   ]
  },
  {
   "cell_type": "code",
   "execution_count": null,
   "metadata": {},
   "outputs": [],
   "source": []
  }
 ],
 "metadata": {
  "accelerator": "GPU",
  "colab": {
   "name": "transfer_learning_v2.ipynb",
   "provenance": [],
   "version": "0.3.2"
  },
  "kernelspec": {
   "display_name": "Python 3",
   "language": "python",
   "name": "python3"
  },
  "language_info": {
   "codemirror_mode": {
    "name": "ipython",
    "version": 3
   },
   "file_extension": ".py",
   "mimetype": "text/x-python",
   "name": "python",
   "nbconvert_exporter": "python",
   "pygments_lexer": "ipython3",
   "version": "3.6.6"
  }
 },
 "nbformat": 4,
 "nbformat_minor": 1
}
