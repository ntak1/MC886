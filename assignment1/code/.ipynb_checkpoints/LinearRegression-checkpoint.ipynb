{
 "cells": [
  {
   "cell_type": "markdown",
   "metadata": {},
   "source": [
    "# Linear Regression"
   ]
  },
  {
   "cell_type": "code",
   "execution_count": 1,
   "metadata": {},
   "outputs": [],
   "source": [
    "import numpy as np\n",
    "import matplotlib.pyplot as plt"
   ]
  },
  {
   "cell_type": "markdown",
   "metadata": {},
   "source": [
    "## Generating our data set\n",
    "### See this useful method:\n",
    "**numpy.random.choice(a, size=None, replace=True, p=None)**  \n",
    "Generates a random sample from a given 1-D array  \n",
    "See the documentation https://docs.scipy.org/doc/numpy/reference/generated/numpy.random.choice.html"
   ]
  },
  {
   "cell_type": "code",
   "execution_count": 2,
   "metadata": {},
   "outputs": [],
   "source": [
    "def generate_linear_sample(a, b, lim_inf, lim_sup, num_samples):\n",
    "    \"\"\"\n",
    "    Generates a sample with random points of a linear function (ax+b)\n",
    "    a : the angular coefficient\n",
    "    b : the linear coefficient\n",
    "    lim_inf and lim_sup: the range in which we want to choose the values\n",
    "    \"\"\"\n",
    "    total_range = 2*num_samples\n",
    "    x = np.linspace(lim_inf, lim_sup, total_range)\n",
    "    y  = a*x + b\n",
    "    index = np.arange(y.shape[0])\n",
    "    index = np.random.choice(index, size = num_samples, replace = False) #does not allow repeated element\n",
    "    x = x[index]\n",
    "    y = y[index]\n",
    "    return x,y\n",
    "\n"
   ]
  },
  {
   "cell_type": "markdown",
   "metadata": {},
   "source": [
    "## Linear Regression and Batch Gradient Descent\n",
    "This is simple univariate problem. We will define the parameters w and b as the angular and linear coefficients. Our goal is to minimize the cost function, we will take it as the mean squared error.  \n",
    "$$ J(w,b) = \\frac{1}{2m}\\sum_{i}^{m}(y^{(i)} - ŷ^{(i)})^{2} $$\n",
    "$$ ŷ = wx + b$$\n"
   ]
  },
  {
   "cell_type": "code",
   "execution_count": 20,
   "metadata": {},
   "outputs": [],
   "source": [
    "def init_parameters():\n",
    "    w = 0\n",
    "    b = 0.\n",
    "    dw = 0.\n",
    "    db = 0.\n",
    "    return w,b, dw, db"
   ]
  },
  {
   "cell_type": "code",
   "execution_count": 21,
   "metadata": {},
   "outputs": [],
   "source": [
    "def l2_cost(X, Y, Y_hat, m):\n",
    "    \"\"\"\n",
    "    Cost function defined by a variation of the l2 norm function.\n",
    "    The '2' in the denominator makes the deriative easier\n",
    "    \"\"\"\n",
    "    cost = (1/(2*m))*np.sum((Y-Y_hat)**2)\n",
    "    return cost\n",
    "    "
   ]
  },
  {
   "cell_type": "code",
   "execution_count": 22,
   "metadata": {},
   "outputs": [],
   "source": [
    "#FORWARD PROPAGATION (WELL THIS IS NOT A NN, BUT ...)\n",
    "def forward_prop(X, w, b):\n",
    "    \"\"\"\n",
    "    X is the input vector with m training examples, shape (1,m)\n",
    "    w: is the angular coefficient\n",
    "    b: is the linear coefficient\n",
    "    \"\"\"\n",
    "    Y_hat = w*X + b\n",
    "    return Y_hat"
   ]
  },
  {
   "cell_type": "markdown",
   "metadata": {},
   "source": [
    "## Backward propagation\n",
    "The **backward propagation** (calculate the derivatives of the cost function update parameters):\n",
    "$$\\frac{\\partial J(w,b)}{\\partial w} = -\\frac{1}{m}\\sum_{i = i}^{m} (y - ŷ)x$$\n",
    "$$\\frac{\\partial J(w,b)}{\\partial w} = -\\frac{1}{m}\\sum_{i = i}^{m} (y - ŷ)$$"
   ]
  },
  {
   "cell_type": "code",
   "execution_count": 23,
   "metadata": {},
   "outputs": [],
   "source": [
    "def backward_propagation(X,Y, Y_hat, m):\n",
    "    \"\"\"\n",
    "    Calculates the derivatives of the parameters\n",
    "    returns:\n",
    "    dw\n",
    "    db\n",
    "    \"\"\"\n",
    "    dw = (-1./m)*np.sum((Y -Y_hat)*X)\n",
    "    db = (-1./m)*np.sum((Y -Y_hat))\n",
    "    return dw, db"
   ]
  },
  {
   "cell_type": "code",
   "execution_count": 38,
   "metadata": {},
   "outputs": [],
   "source": [
    "def GD_model(X,Y, num_iterations = 1000, learning_rate = 0.0000001):\n",
    "    \"\"\"\n",
    "    Given X and Y estimates the best linear function to fit the data\n",
    "    \"\"\"\n",
    "    m = X.shape[1]\n",
    "    print('m = ', m)\n",
    "    \n",
    "    w,b,dw,db = init_parameters()\n",
    "    for iteration in range(num_iterations):\n",
    "        \n",
    "        #forward propagation (we can think the activation function as linear)\n",
    "        Y_hat = forward_prop(X,w,b)\n",
    "        \n",
    "        #plot the cost function\n",
    "        cost = l2_cost(X,Y, Y_hat,m)\n",
    "        plt.plot(iteration,cost,'ro')\n",
    "    \n",
    "        #Backward propagation calculate the derivatives \n",
    "        dw, db = backward_propagation(X,Y,Y_hat, m)\n",
    "    \n",
    "        #Update parameters simultaneusly\n",
    "        temp_w = w - learning_rate*dw\n",
    "        temp_b = b - learning_rate*db\n",
    "        w = temp_w\n",
    "        b = temp_b\n",
    "    plt.show()\n",
    "    return w, b"
   ]
  },
  {
   "cell_type": "markdown",
   "metadata": {},
   "source": [
    "## What time is it? ADVENTURE TIME !\n",
    "\n",
    "Let's test our Batch Gradient Descent Model. First choose the parameters to generate the our span."
   ]
  },
  {
   "cell_type": "code",
   "execution_count": 36,
   "metadata": {},
   "outputs": [
    {
     "data": {
      "image/png": "[encoded data removed]",
      "text/plain": [
       "<Figure size 432x288 with 1 Axes>"
      ]
     },
     "metadata": {},
     "output_type": "display_data"
    }
   ],
   "source": [
    "#CHANGE THE PARAMETERS HERE\n",
    "a = 1.                 #angular coefficient\n",
    "b = 0.                 #linear coefficient\n",
    "lim_inf = 0.           #change the inferior limit here\n",
    "lim_sup  = 1000.       #change the superior limit here\n",
    "num_samples = 100      #change th number of samples here\n",
    "\n",
    "#GENERATE THE SAMPLES\n",
    "X,Y = generate_linear_sample(a, b,lim_inf, lim_sup, num_samples)\n",
    "X = X.reshape(1,num_samples)\n",
    "Y = Y.reshape(1,num_samples)\n",
    "\n",
    "#UNCOMENT TO SEE THE OUTPUTS\n",
    "# print('Our sample is: \\nx = ', x,'\\ny = ',y)\n",
    "# print('X.shape = ', X.shape)\n",
    "# print('Y.shape = ', X.shape)\n",
    "\n",
    "#SHOW IMAGE\n",
    "plt.plot(X,Y,'ro') # plot red dots\n",
    "plt.xlabel('X')\n",
    "y_label = 'Y = ' + str(a) + 'X' + ' + ' + str(b)\n",
    "plt.ylabel(y_label )\n",
    "plt.show()"
   ]
  },
  {
   "cell_type": "markdown",
   "metadata": {},
   "source": [
    "## Time to see the prediction !"
   ]
  },
  {
   "cell_type": "code",
   "execution_count": 37,
   "metadata": {},
   "outputs": [
    {
     "name": "stdout",
     "output_type": "stream",
     "text": [
      "m =  100\n"
     ]
    },
    {
     "data": {
      "image/png": "[encoded data removed]",
      "text/plain": [
       "<Figure size 432x288 with 1 Axes>"
      ]
     },
     "metadata": {},
     "output_type": "display_data"
    },
    {
     "name": "stdout",
     "output_type": "stream",
     "text": [
      "a_hat =  0.9999978027028816  and b_hat =  0.0014823096060754396\n",
      "a =  1.0  and b =  0.0\n"
     ]
    }
   ],
   "source": [
    "#MAKE THE REGRESSION USING BGD\n",
    "a_hat, b_hat = GD_model(X,Y)\n",
    "print('a_hat = ', a_hat, ' and b_hat = ', b_hat)\n",
    "print('a = ', a, ' and b = ', b)"
   ]
  },
  {
   "cell_type": "code",
   "execution_count": null,
   "metadata": {},
   "outputs": [],
   "source": []
  }
 ],
 "metadata": {
  "kernelspec": {
   "display_name": "Python 3",
   "language": "python",
   "name": "python3"
  },
  "language_info": {
   "codemirror_mode": {
    "name": "ipython",
    "version": 3
   },
   "file_extension": ".py",
   "mimetype": "text/x-python",
   "name": "python",
   "nbconvert_exporter": "python",
   "pygments_lexer": "ipython3",
   "version": "3.5.2"
  }
 },
 "nbformat": 4,
 "nbformat_minor": 2
}
