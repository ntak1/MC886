{
 "cells": [
  {
   "cell_type": "code",
   "execution_count": 1,
   "metadata": {},
   "outputs": [],
   "source": [
    "from __future__ import print_function\n",
    "import numpy as np\n",
    "import matplotlib.pyplot as plt\n",
    "import pandas as pd"
   ]
  },
  {
   "cell_type": "code",
   "execution_count": 2,
   "metadata": {},
   "outputs": [],
   "source": [
    "data_dir = '../data/diamonds.csv'"
   ]
  },
  {
   "cell_type": "code",
   "execution_count": 5,
   "metadata": {},
   "outputs": [
    {
     "name": "stdout",
     "output_type": "stream",
     "text": [
      "<class 'pandas.core.frame.DataFrame'>\n"
     ]
    }
   ],
   "source": [
    "with open(data_dir, 'rb') as csvfile:\n",
    "    dataset = pd.read_csv(data_dir)\n",
    "    \n",
    "print(type(dataset))"
   ]
  },
  {
   "cell_type": "code",
   "execution_count": 4,
   "metadata": {},
   "outputs": [
    {
     "name": "stdout",
     "output_type": "stream",
     "text": [
      "0        E\n",
      "1        E\n",
      "2        E\n",
      "3        I\n",
      "4        J\n",
      "5        J\n",
      "6        I\n",
      "7        H\n",
      "8        E\n",
      "9        H\n",
      "10       J\n",
      "11       J\n",
      "12       F\n",
      "13       J\n",
      "14       E\n",
      "15       E\n",
      "16       I\n",
      "17       J\n",
      "18       J\n",
      "19       J\n",
      "20       I\n",
      "21       E\n",
      "22       H\n",
      "23       J\n",
      "24       J\n",
      "25       G\n",
      "26       I\n",
      "27       J\n",
      "28       D\n",
      "29       F\n",
      "        ..\n",
      "53910    E\n",
      "53911    E\n",
      "53912    F\n",
      "53913    G\n",
      "53914    I\n",
      "53915    E\n",
      "53916    D\n",
      "53917    J\n",
      "53918    I\n",
      "53919    I\n",
      "53920    E\n",
      "53921    E\n",
      "53922    D\n",
      "53923    I\n",
      "53924    I\n",
      "53925    I\n",
      "53926    E\n",
      "53927    F\n",
      "53928    E\n",
      "53929    G\n",
      "53930    E\n",
      "53931    F\n",
      "53932    E\n",
      "53933    E\n",
      "53934    D\n",
      "53935    D\n",
      "53936    D\n",
      "53937    D\n",
      "53938    H\n",
      "53939    D\n",
      "Name: color, Length: 53940, dtype: object\n"
     ]
    }
   ],
   "source": [
    "#carat\tcut\tcolor\tclarity\tdepth\ttable\tprice\tx\ty\tz\n",
    "print(dataset[''])"
   ]
  },
  {
   "cell_type": "code",
   "execution_count": null,
   "metadata": {},
   "outputs": [],
   "source": []
  }
 ],
 "metadata": {
  "kernelspec": {
   "display_name": "Python 2",
   "language": "python",
   "name": "python2"
  },
  "language_info": {
   "codemirror_mode": {
    "name": "ipython",
    "version": 2
   },
   "file_extension": ".py",
   "mimetype": "text/x-python",
   "name": "python",
   "nbconvert_exporter": "python",
   "pygments_lexer": "ipython2",
   "version": "2.7.15"
  }
 },
 "nbformat": 4,
 "nbformat_minor": 2
}
